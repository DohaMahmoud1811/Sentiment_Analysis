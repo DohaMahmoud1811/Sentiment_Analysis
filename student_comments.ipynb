{
 "cells": [
  {
   "cell_type": "code",
   "execution_count": 1,
   "id": "1ba071bf",
   "metadata": {
    "_cell_guid": "b1076dfc-b9ad-4769-8c92-a6c4dae69d19",
    "_uuid": "8f2839f25d086af736a60e9eeb907d3b93b6e0e5",
    "execution": {
     "iopub.execute_input": "2024-04-18T00:39:44.483708Z",
     "iopub.status.busy": "2024-04-18T00:39:44.483344Z",
     "iopub.status.idle": "2024-04-18T00:39:45.268639Z",
     "shell.execute_reply": "2024-04-18T00:39:45.267166Z"
    },
    "papermill": {
     "duration": 0.813012,
     "end_time": "2024-04-18T00:39:45.270670",
     "exception": false,
     "start_time": "2024-04-18T00:39:44.457658",
     "status": "completed"
    },
    "tags": []
   },
   "outputs": [
    {
     "name": "stdout",
     "output_type": "stream",
     "text": [
      "/kaggle/input/student-comments/students.xlsx\n",
      "/kaggle/input/creditcardfraud/creditcard.csv\n"
     ]
    }
   ],
   "source": [
    "# This Python 3 environment comes with many helpful analytics libraries installed\n",
    "# It is defined by the kaggle/python Docker image: https://github.com/kaggle/docker-python\n",
    "# For example, here's several helpful packages to load\n",
    "\n",
    "import numpy as np # linear algebra\n",
    "import pandas as pd # data processing, CSV file I/O (e.g. pd.read_csv)\n",
    "\n",
    "# Input data files are available in the read-only \"../input/\" directory\n",
    "# For example, running this (by clicking run or pressing Shift+Enter) will list all files under the input directory\n",
    "\n",
    "import os\n",
    "for dirname, _, filenames in os.walk('/kaggle/input'):\n",
    "    for filename in filenames:\n",
    "        print(os.path.join(dirname, filename))\n",
    "\n",
    "# You can write up to 20GB to the current directory (/kaggle/working/) that gets preserved as output when you create a version using \"Save & Run All\" \n",
    "# You can also write temporary files to /kaggle/temp/, but they won't be saved outside of the current session"
   ]
  },
  {
   "cell_type": "code",
   "execution_count": 2,
   "id": "33b06377",
   "metadata": {
    "execution": {
     "iopub.execute_input": "2024-04-18T00:39:45.322315Z",
     "iopub.status.busy": "2024-04-18T00:39:45.321874Z",
     "iopub.status.idle": "2024-04-18T00:39:59.122275Z",
     "shell.execute_reply": "2024-04-18T00:39:59.121291Z"
    },
    "papermill": {
     "duration": 13.827545,
     "end_time": "2024-04-18T00:39:59.124583",
     "exception": false,
     "start_time": "2024-04-18T00:39:45.297038",
     "status": "completed"
    },
    "tags": []
   },
   "outputs": [
    {
     "name": "stderr",
     "output_type": "stream",
     "text": [
      "2024-04-18 00:39:48.342034: E external/local_xla/xla/stream_executor/cuda/cuda_dnn.cc:9261] Unable to register cuDNN factory: Attempting to register factory for plugin cuDNN when one has already been registered\n",
      "2024-04-18 00:39:48.342136: E external/local_xla/xla/stream_executor/cuda/cuda_fft.cc:607] Unable to register cuFFT factory: Attempting to register factory for plugin cuFFT when one has already been registered\n",
      "2024-04-18 00:39:48.470689: E external/local_xla/xla/stream_executor/cuda/cuda_blas.cc:1515] Unable to register cuBLAS factory: Attempting to register factory for plugin cuBLAS when one has already been registered\n"
     ]
    }
   ],
   "source": [
    "import matplotlib.pyplot as plt\n",
    "import seaborn as sns\n",
    "\n",
    "from tensorflow.keras.models import Sequential\n",
    "from tensorflow.keras.layers import  Dropout\n",
    "from sklearn.model_selection import train_test_split\n",
    "from tensorflow.keras.layers import Dense\n",
    "from tensorflow.keras.layers import Input\n",
    "from tensorflow.keras.models import Model\n",
    "from tensorflow.keras.optimizers import Adam\n",
    "from tensorflow.keras.layers import concatenate\n",
    "from tensorflow.keras.layers import Dropout\n",
    "import tensorflow_hub as hub "
   ]
  },
  {
   "cell_type": "code",
   "execution_count": 3,
   "id": "fe2661eb",
   "metadata": {
    "execution": {
     "iopub.execute_input": "2024-04-18T00:39:59.174043Z",
     "iopub.status.busy": "2024-04-18T00:39:59.173377Z",
     "iopub.status.idle": "2024-04-18T00:41:01.463380Z",
     "shell.execute_reply": "2024-04-18T00:41:01.462378Z"
    },
    "papermill": {
     "duration": 62.317242,
     "end_time": "2024-04-18T00:41:01.465883",
     "exception": false,
     "start_time": "2024-04-18T00:39:59.148641",
     "status": "completed"
    },
    "tags": []
   },
   "outputs": [],
   "source": [
    "df = pd.read_excel('/kaggle/input/student-comments/students.xlsx')"
   ]
  },
  {
   "cell_type": "code",
   "execution_count": 4,
   "id": "a24a5da7",
   "metadata": {
    "execution": {
     "iopub.execute_input": "2024-04-18T00:41:01.514945Z",
     "iopub.status.busy": "2024-04-18T00:41:01.514384Z",
     "iopub.status.idle": "2024-04-18T00:41:01.634747Z",
     "shell.execute_reply": "2024-04-18T00:41:01.633825Z"
    },
    "papermill": {
     "duration": 0.146963,
     "end_time": "2024-04-18T00:41:01.636854",
     "exception": false,
     "start_time": "2024-04-18T00:41:01.489891",
     "status": "completed"
    },
    "tags": []
   },
   "outputs": [
    {
     "data": {
      "text/html": [
       "<div>\n",
       "<style scoped>\n",
       "    .dataframe tbody tr th:only-of-type {\n",
       "        vertical-align: middle;\n",
       "    }\n",
       "\n",
       "    .dataframe tbody tr th {\n",
       "        vertical-align: top;\n",
       "    }\n",
       "\n",
       "    .dataframe thead th {\n",
       "        text-align: right;\n",
       "    }\n",
       "</style>\n",
       "<table border=\"1\" class=\"dataframe\">\n",
       "  <thead>\n",
       "    <tr style=\"text-align: right;\">\n",
       "      <th></th>\n",
       "      <th>StudentComments</th>\n",
       "      <th>Sentiment</th>\n",
       "    </tr>\n",
       "  </thead>\n",
       "  <tbody>\n",
       "    <tr>\n",
       "      <th>0</th>\n",
       "      <td>good</td>\n",
       "      <td>positive</td>\n",
       "    </tr>\n",
       "    <tr>\n",
       "      <th>1</th>\n",
       "      <td>good</td>\n",
       "      <td>positive</td>\n",
       "    </tr>\n",
       "    <tr>\n",
       "      <th>2</th>\n",
       "      <td>teacher</td>\n",
       "      <td>positive</td>\n",
       "    </tr>\n",
       "    <tr>\n",
       "      <th>3</th>\n",
       "      <td>friendly teacher but not enough ability to enc...</td>\n",
       "      <td>positive</td>\n",
       "    </tr>\n",
       "    <tr>\n",
       "      <th>4</th>\n",
       "      <td>teacher</td>\n",
       "      <td>positive</td>\n",
       "    </tr>\n",
       "  </tbody>\n",
       "</table>\n",
       "</div>"
      ],
      "text/plain": [
       "                                     StudentComments Sentiment\n",
       "0                                               good  positive\n",
       "1                                               good  positive\n",
       "2                                            teacher  positive\n",
       "3  friendly teacher but not enough ability to enc...  positive\n",
       "4                                            teacher  positive"
      ]
     },
     "execution_count": 4,
     "metadata": {},
     "output_type": "execute_result"
    }
   ],
   "source": [
    "df.head()"
   ]
  },
  {
   "cell_type": "code",
   "execution_count": 5,
   "id": "27744204",
   "metadata": {
    "execution": {
     "iopub.execute_input": "2024-04-18T00:41:01.686757Z",
     "iopub.status.busy": "2024-04-18T00:41:01.686083Z",
     "iopub.status.idle": "2024-04-18T00:41:01.691881Z",
     "shell.execute_reply": "2024-04-18T00:41:01.691036Z"
    },
    "papermill": {
     "duration": 0.032657,
     "end_time": "2024-04-18T00:41:01.693835",
     "exception": false,
     "start_time": "2024-04-18T00:41:01.661178",
     "status": "completed"
    },
    "tags": []
   },
   "outputs": [
    {
     "data": {
      "text/plain": [
       "(1048575, 2)"
      ]
     },
     "execution_count": 5,
     "metadata": {},
     "output_type": "execute_result"
    }
   ],
   "source": [
    "df.shape"
   ]
  },
  {
   "cell_type": "code",
   "execution_count": 6,
   "id": "27c6408c",
   "metadata": {
    "execution": {
     "iopub.execute_input": "2024-04-18T00:41:01.742694Z",
     "iopub.status.busy": "2024-04-18T00:41:01.741951Z",
     "iopub.status.idle": "2024-04-18T00:41:01.952698Z",
     "shell.execute_reply": "2024-04-18T00:41:01.951709Z"
    },
    "papermill": {
     "duration": 0.23723,
     "end_time": "2024-04-18T00:41:01.954739",
     "exception": false,
     "start_time": "2024-04-18T00:41:01.717509",
     "status": "completed"
    },
    "tags": []
   },
   "outputs": [
    {
     "data": {
      "text/plain": [
       "StudentComments    52\n",
       "Sentiment           0\n",
       "dtype: int64"
      ]
     },
     "execution_count": 6,
     "metadata": {},
     "output_type": "execute_result"
    }
   ],
   "source": [
    "df.isnull().sum()"
   ]
  },
  {
   "cell_type": "code",
   "execution_count": 7,
   "id": "85aa08bd",
   "metadata": {
    "execution": {
     "iopub.execute_input": "2024-04-18T00:41:02.004490Z",
     "iopub.status.busy": "2024-04-18T00:41:02.004156Z",
     "iopub.status.idle": "2024-04-18T00:41:02.252006Z",
     "shell.execute_reply": "2024-04-18T00:41:02.251191Z"
    },
    "papermill": {
     "duration": 0.274919,
     "end_time": "2024-04-18T00:41:02.254178",
     "exception": false,
     "start_time": "2024-04-18T00:41:01.979259",
     "status": "completed"
    },
    "tags": []
   },
   "outputs": [],
   "source": [
    "df = df.dropna()"
   ]
  },
  {
   "cell_type": "code",
   "execution_count": 8,
   "id": "84e5b77e",
   "metadata": {
    "execution": {
     "iopub.execute_input": "2024-04-18T00:41:02.304415Z",
     "iopub.status.busy": "2024-04-18T00:41:02.303754Z",
     "iopub.status.idle": "2024-04-18T00:41:02.513698Z",
     "shell.execute_reply": "2024-04-18T00:41:02.512803Z"
    },
    "papermill": {
     "duration": 0.236993,
     "end_time": "2024-04-18T00:41:02.515711",
     "exception": false,
     "start_time": "2024-04-18T00:41:02.278718",
     "status": "completed"
    },
    "tags": []
   },
   "outputs": [
    {
     "data": {
      "text/plain": [
       "StudentComments    0\n",
       "Sentiment          0\n",
       "dtype: int64"
      ]
     },
     "execution_count": 8,
     "metadata": {},
     "output_type": "execute_result"
    }
   ],
   "source": [
    "df.isnull().sum()"
   ]
  },
  {
   "cell_type": "code",
   "execution_count": 9,
   "id": "78da295c",
   "metadata": {
    "execution": {
     "iopub.execute_input": "2024-04-18T00:41:02.566014Z",
     "iopub.status.busy": "2024-04-18T00:41:02.565422Z",
     "iopub.status.idle": "2024-04-18T00:41:02.571311Z",
     "shell.execute_reply": "2024-04-18T00:41:02.570400Z"
    },
    "papermill": {
     "duration": 0.033029,
     "end_time": "2024-04-18T00:41:02.573329",
     "exception": false,
     "start_time": "2024-04-18T00:41:02.540300",
     "status": "completed"
    },
    "tags": []
   },
   "outputs": [
    {
     "data": {
      "text/plain": [
       "(1048523, 2)"
      ]
     },
     "execution_count": 9,
     "metadata": {},
     "output_type": "execute_result"
    }
   ],
   "source": [
    "df.shape"
   ]
  },
  {
   "cell_type": "code",
   "execution_count": 10,
   "id": "0aa2f6c3",
   "metadata": {
    "execution": {
     "iopub.execute_input": "2024-04-18T00:41:02.623518Z",
     "iopub.status.busy": "2024-04-18T00:41:02.622829Z",
     "iopub.status.idle": "2024-04-18T00:41:03.061562Z",
     "shell.execute_reply": "2024-04-18T00:41:03.060417Z"
    },
    "papermill": {
     "duration": 0.466301,
     "end_time": "2024-04-18T00:41:03.063565",
     "exception": false,
     "start_time": "2024-04-18T00:41:02.597264",
     "status": "completed"
    },
    "tags": []
   },
   "outputs": [
    {
     "data": {
      "text/plain": [
       "<Axes: title={'center': 'Count of Comments by Sentiments'}, xlabel='Sentiment'>"
      ]
     },
     "execution_count": 10,
     "metadata": {},
     "output_type": "execute_result"
    },
    {
     "data": {
      "image/png": "[encoded data removed]",
      "text/plain": [
       "<Figure size 1000x500 with 1 Axes>"
      ]
     },
     "metadata": {},
     "output_type": "display_data"
    }
   ],
   "source": [
    "df['Sentiment'].value_counts().sort_index() \\\n",
    "    .plot(kind='bar',\n",
    "          title='Count of Comments by Sentiments',\n",
    "          figsize=(10, 5))"
   ]
  },
  {
   "cell_type": "code",
   "execution_count": 11,
   "id": "98517001",
   "metadata": {
    "execution": {
     "iopub.execute_input": "2024-04-18T00:41:03.174034Z",
     "iopub.status.busy": "2024-04-18T00:41:03.173707Z",
     "iopub.status.idle": "2024-04-18T00:41:03.312466Z",
     "shell.execute_reply": "2024-04-18T00:41:03.311522Z"
    },
    "papermill": {
     "duration": 0.167466,
     "end_time": "2024-04-18T00:41:03.314796",
     "exception": false,
     "start_time": "2024-04-18T00:41:03.147330",
     "status": "completed"
    },
    "tags": []
   },
   "outputs": [
    {
     "data": {
      "text/html": [
       "<div>\n",
       "<style scoped>\n",
       "    .dataframe tbody tr th:only-of-type {\n",
       "        vertical-align: middle;\n",
       "    }\n",
       "\n",
       "    .dataframe tbody tr th {\n",
       "        vertical-align: top;\n",
       "    }\n",
       "\n",
       "    .dataframe thead th {\n",
       "        text-align: right;\n",
       "    }\n",
       "</style>\n",
       "<table border=\"1\" class=\"dataframe\">\n",
       "  <thead>\n",
       "    <tr style=\"text-align: right;\">\n",
       "      <th></th>\n",
       "      <th>StudentComments</th>\n",
       "      <th>Score</th>\n",
       "    </tr>\n",
       "  </thead>\n",
       "  <tbody>\n",
       "    <tr>\n",
       "      <th>0</th>\n",
       "      <td>good</td>\n",
       "      <td>2</td>\n",
       "    </tr>\n",
       "    <tr>\n",
       "      <th>1</th>\n",
       "      <td>good</td>\n",
       "      <td>2</td>\n",
       "    </tr>\n",
       "    <tr>\n",
       "      <th>2</th>\n",
       "      <td>teacher</td>\n",
       "      <td>2</td>\n",
       "    </tr>\n",
       "    <tr>\n",
       "      <th>3</th>\n",
       "      <td>friendly teacher but not enough ability to enc...</td>\n",
       "      <td>2</td>\n",
       "    </tr>\n",
       "    <tr>\n",
       "      <th>4</th>\n",
       "      <td>teacher</td>\n",
       "      <td>2</td>\n",
       "    </tr>\n",
       "  </tbody>\n",
       "</table>\n",
       "</div>"
      ],
      "text/plain": [
       "                                     StudentComments  Score\n",
       "0                                               good      2\n",
       "1                                               good      2\n",
       "2                                            teacher      2\n",
       "3  friendly teacher but not enough ability to enc...      2\n",
       "4                                            teacher      2"
      ]
     },
     "execution_count": 11,
     "metadata": {},
     "output_type": "execute_result"
    }
   ],
   "source": [
    "value_mapping = {\n",
    "    'positive': 2,\n",
    "    'neutral': 1,\n",
    "    'negative': 0\n",
    "}\n",
    "\n",
    "df['Score'] = df['Sentiment'].map(value_mapping)\n",
    "df = df.drop('Sentiment', axis = 1)\n",
    "\n",
    "df.head()"
   ]
  },
  {
   "cell_type": "code",
   "execution_count": 12,
   "id": "7051681f",
   "metadata": {
    "execution": {
     "iopub.execute_input": "2024-04-18T00:41:03.367804Z",
     "iopub.status.busy": "2024-04-18T00:41:03.367420Z",
     "iopub.status.idle": "2024-04-18T00:41:03.637511Z",
     "shell.execute_reply": "2024-04-18T00:41:03.636538Z"
    },
    "papermill": {
     "duration": 0.298825,
     "end_time": "2024-04-18T00:41:03.639524",
     "exception": false,
     "start_time": "2024-04-18T00:41:03.340699",
     "status": "completed"
    },
    "tags": []
   },
   "outputs": [
    {
     "data": {
      "text/plain": [
       "<Axes: title={'center': 'Count of Comments by Scores'}, xlabel='Score'>"
      ]
     },
     "execution_count": 12,
     "metadata": {},
     "output_type": "execute_result"
    },
    {
     "data": {
      "image/png": "[encoded data removed]",
      "text/plain": [
       "<Figure size 1000x500 with 1 Axes>"
      ]
     },
     "metadata": {},
     "output_type": "display_data"
    }
   ],
   "source": [
    "df['Score'].value_counts().sort_index() \\\n",
    "    .plot(kind='bar',\n",
    "          title='Count of Comments by Scores',\n",
    "          figsize=(10, 5))"
   ]
  },
  {
   "cell_type": "code",
   "execution_count": 13,
   "id": "df1828d7",
   "metadata": {
    "execution": {
     "iopub.execute_input": "2024-04-18T00:41:03.691859Z",
     "iopub.status.busy": "2024-04-18T00:41:03.691546Z",
     "iopub.status.idle": "2024-04-18T00:41:03.697012Z",
     "shell.execute_reply": "2024-04-18T00:41:03.696158Z"
    },
    "papermill": {
     "duration": 0.033683,
     "end_time": "2024-04-18T00:41:03.698932",
     "exception": false,
     "start_time": "2024-04-18T00:41:03.665249",
     "status": "completed"
    },
    "tags": []
   },
   "outputs": [],
   "source": [
    "def print_class_proportions(labels):\n",
    "    # Count the occurrences of each class label\n",
    "    class_counts = labels.value_counts()\n",
    "    \n",
    "    # Calculate proportions\n",
    "    total_samples = len(labels)\n",
    "    class_proportions = class_counts / total_samples\n",
    "    \n",
    "    # Print class proportions\n",
    "    print(\"Class Proportions:\")\n",
    "    for class_label, proportion in class_proportions.items():\n",
    "        print(f\"Class {class_label}: {proportion:.2%}\")"
   ]
  },
  {
   "cell_type": "code",
   "execution_count": 14,
   "id": "27fcfaed",
   "metadata": {
    "execution": {
     "iopub.execute_input": "2024-04-18T00:41:03.750602Z",
     "iopub.status.busy": "2024-04-18T00:41:03.750290Z",
     "iopub.status.idle": "2024-04-18T00:41:03.756248Z",
     "shell.execute_reply": "2024-04-18T00:41:03.755399Z"
    },
    "papermill": {
     "duration": 0.033968,
     "end_time": "2024-04-18T00:41:03.758108",
     "exception": false,
     "start_time": "2024-04-18T00:41:03.724140",
     "status": "completed"
    },
    "tags": []
   },
   "outputs": [],
   "source": [
    "def visualize_class_proportions(labels):\n",
    "    # Count the occurrences of each class label\n",
    "    class_counts = labels.value_counts()\n",
    "    \n",
    "    # Calculate proportions\n",
    "    class_proportions = class_counts / class_counts.sum()\n",
    "    \n",
    "    # Plotting\n",
    "    plt.figure(figsize=(8, 6))\n",
    "    class_proportions.plot(kind='bar', color='skyblue')\n",
    "    plt.title('Proportion of Each Class')\n",
    "    plt.xlabel('Class')\n",
    "    plt.ylabel('Proportion')\n",
    "    plt.xticks(rotation=45, ha='right')\n",
    "    plt.tight_layout()\n",
    "    plt.show()"
   ]
  },
  {
   "cell_type": "code",
   "execution_count": 15,
   "id": "1db62c56",
   "metadata": {
    "execution": {
     "iopub.execute_input": "2024-04-18T00:41:03.811805Z",
     "iopub.status.busy": "2024-04-18T00:41:03.811501Z",
     "iopub.status.idle": "2024-04-18T00:41:03.825733Z",
     "shell.execute_reply": "2024-04-18T00:41:03.824824Z"
    },
    "papermill": {
     "duration": 0.042841,
     "end_time": "2024-04-18T00:41:03.827986",
     "exception": false,
     "start_time": "2024-04-18T00:41:03.785145",
     "status": "completed"
    },
    "tags": []
   },
   "outputs": [
    {
     "name": "stdout",
     "output_type": "stream",
     "text": [
      "Class Proportions:\n",
      "Class 2: 85.23%\n",
      "Class 1: 7.45%\n",
      "Class 0: 7.32%\n"
     ]
    }
   ],
   "source": [
    "print_class_proportions(df['Score'])"
   ]
  },
  {
   "cell_type": "code",
   "execution_count": 16,
   "id": "661e4c1d",
   "metadata": {
    "execution": {
     "iopub.execute_input": "2024-04-18T00:41:03.880904Z",
     "iopub.status.busy": "2024-04-18T00:41:03.880613Z",
     "iopub.status.idle": "2024-04-18T00:41:04.107261Z",
     "shell.execute_reply": "2024-04-18T00:41:04.106325Z"
    },
    "papermill": {
     "duration": 0.255125,
     "end_time": "2024-04-18T00:41:04.109381",
     "exception": false,
     "start_time": "2024-04-18T00:41:03.854256",
     "status": "completed"
    },
    "tags": []
   },
   "outputs": [
    {
     "data": {
      "image/png": "[encoded data removed]",
      "text/plain": [
       "<Figure size 800x600 with 1 Axes>"
      ]
     },
     "metadata": {},
     "output_type": "display_data"
    }
   ],
   "source": [
    "visualize_class_proportions(df['Score'])"
   ]
  },
  {
   "cell_type": "code",
   "execution_count": 17,
   "id": "217768ed",
   "metadata": {
    "execution": {
     "iopub.execute_input": "2024-04-18T00:41:04.163388Z",
     "iopub.status.busy": "2024-04-18T00:41:04.162741Z",
     "iopub.status.idle": "2024-04-18T00:41:04.254852Z",
     "shell.execute_reply": "2024-04-18T00:41:04.253845Z"
    },
    "papermill": {
     "duration": 0.121474,
     "end_time": "2024-04-18T00:41:04.257219",
     "exception": false,
     "start_time": "2024-04-18T00:41:04.135745",
     "status": "completed"
    },
    "tags": []
   },
   "outputs": [],
   "source": [
    "df_neg = df[df['Score'] == 0].sample(n=10000)\n",
    "df_neu = df[df['Score'] == 1].sample(n=10000)\n",
    "df_pos = df[df['Score'] == 2].sample(n=10000)\n",
    "\n",
    "df_new = pd.concat([df_neg, df_neu, df_pos]).sample(frac = 1).reset_index(drop=True)"
   ]
  },
  {
   "cell_type": "code",
   "execution_count": 18,
   "id": "2f7b005a",
   "metadata": {
    "execution": {
     "iopub.execute_input": "2024-04-18T00:41:04.310591Z",
     "iopub.status.busy": "2024-04-18T00:41:04.310273Z",
     "iopub.status.idle": "2024-04-18T00:41:04.315816Z",
     "shell.execute_reply": "2024-04-18T00:41:04.314980Z"
    },
    "papermill": {
     "duration": 0.034032,
     "end_time": "2024-04-18T00:41:04.317637",
     "exception": false,
     "start_time": "2024-04-18T00:41:04.283605",
     "status": "completed"
    },
    "tags": []
   },
   "outputs": [
    {
     "data": {
      "text/plain": [
       "(30000, 2)"
      ]
     },
     "execution_count": 18,
     "metadata": {},
     "output_type": "execute_result"
    }
   ],
   "source": [
    "df_new.shape"
   ]
  },
  {
   "cell_type": "code",
   "execution_count": 19,
   "id": "2c50d688",
   "metadata": {
    "execution": {
     "iopub.execute_input": "2024-04-18T00:41:04.370928Z",
     "iopub.status.busy": "2024-04-18T00:41:04.370035Z",
     "iopub.status.idle": "2024-04-18T00:41:04.376150Z",
     "shell.execute_reply": "2024-04-18T00:41:04.375153Z"
    },
    "papermill": {
     "duration": 0.034621,
     "end_time": "2024-04-18T00:41:04.377972",
     "exception": false,
     "start_time": "2024-04-18T00:41:04.343351",
     "status": "completed"
    },
    "tags": []
   },
   "outputs": [
    {
     "name": "stdout",
     "output_type": "stream",
     "text": [
      "Class Proportions:\n",
      "Class 2: 33.33%\n",
      "Class 1: 33.33%\n",
      "Class 0: 33.33%\n"
     ]
    }
   ],
   "source": [
    "print_class_proportions(df_new['Score'])"
   ]
  },
  {
   "cell_type": "code",
   "execution_count": 20,
   "id": "8f2b61a2",
   "metadata": {
    "execution": {
     "iopub.execute_input": "2024-04-18T00:41:04.433184Z",
     "iopub.status.busy": "2024-04-18T00:41:04.432800Z",
     "iopub.status.idle": "2024-04-18T00:41:04.749815Z",
     "shell.execute_reply": "2024-04-18T00:41:04.748874Z"
    },
    "papermill": {
     "duration": 0.347558,
     "end_time": "2024-04-18T00:41:04.751783",
     "exception": false,
     "start_time": "2024-04-18T00:41:04.404225",
     "status": "completed"
    },
    "tags": []
   },
   "outputs": [
    {
     "data": {
      "image/png": "[encoded data removed]",
      "text/plain": [
       "<Figure size 800x600 with 1 Axes>"
      ]
     },
     "metadata": {},
     "output_type": "display_data"
    }
   ],
   "source": [
    "visualize_class_proportions(df_new['Score'])"
   ]
  },
  {
   "cell_type": "code",
   "execution_count": 21,
   "id": "88ca07a9",
   "metadata": {
    "execution": {
     "iopub.execute_input": "2024-04-18T00:41:04.806323Z",
     "iopub.status.busy": "2024-04-18T00:41:04.805986Z",
     "iopub.status.idle": "2024-04-18T00:41:04.815224Z",
     "shell.execute_reply": "2024-04-18T00:41:04.814322Z"
    },
    "papermill": {
     "duration": 0.038492,
     "end_time": "2024-04-18T00:41:04.817156",
     "exception": false,
     "start_time": "2024-04-18T00:41:04.778664",
     "status": "completed"
    },
    "tags": []
   },
   "outputs": [
    {
     "data": {
      "text/html": [
       "<div>\n",
       "<style scoped>\n",
       "    .dataframe tbody tr th:only-of-type {\n",
       "        vertical-align: middle;\n",
       "    }\n",
       "\n",
       "    .dataframe tbody tr th {\n",
       "        vertical-align: top;\n",
       "    }\n",
       "\n",
       "    .dataframe thead th {\n",
       "        text-align: right;\n",
       "    }\n",
       "</style>\n",
       "<table border=\"1\" class=\"dataframe\">\n",
       "  <thead>\n",
       "    <tr style=\"text-align: right;\">\n",
       "      <th></th>\n",
       "      <th>StudentComments</th>\n",
       "      <th>Score</th>\n",
       "    </tr>\n",
       "  </thead>\n",
       "  <tbody>\n",
       "    <tr>\n",
       "      <th>0</th>\n",
       "      <td>sir is always good</td>\n",
       "      <td>2</td>\n",
       "    </tr>\n",
       "    <tr>\n",
       "      <th>1</th>\n",
       "      <td>good</td>\n",
       "      <td>1</td>\n",
       "    </tr>\n",
       "    <tr>\n",
       "      <th>2</th>\n",
       "      <td>she is one of a very good faculties in aiub</td>\n",
       "      <td>2</td>\n",
       "    </tr>\n",
       "    <tr>\n",
       "      <th>3</th>\n",
       "      <td>haven't much enjoyed the class.</td>\n",
       "      <td>1</td>\n",
       "    </tr>\n",
       "    <tr>\n",
       "      <th>4</th>\n",
       "      <td>moderate</td>\n",
       "      <td>0</td>\n",
       "    </tr>\n",
       "    <tr>\n",
       "      <th>5</th>\n",
       "      <td>good</td>\n",
       "      <td>0</td>\n",
       "    </tr>\n",
       "    <tr>\n",
       "      <th>6</th>\n",
       "      <td>good</td>\n",
       "      <td>1</td>\n",
       "    </tr>\n",
       "    <tr>\n",
       "      <th>7</th>\n",
       "      <td>good</td>\n",
       "      <td>1</td>\n",
       "    </tr>\n",
       "    <tr>\n",
       "      <th>8</th>\n",
       "      <td>moderate</td>\n",
       "      <td>1</td>\n",
       "    </tr>\n",
       "    <tr>\n",
       "      <th>9</th>\n",
       "      <td>good faculty.,</td>\n",
       "      <td>2</td>\n",
       "    </tr>\n",
       "  </tbody>\n",
       "</table>\n",
       "</div>"
      ],
      "text/plain": [
       "                               StudentComments  Score\n",
       "0                           sir is always good      2\n",
       "1                                         good      1\n",
       "2  she is one of a very good faculties in aiub      2\n",
       "3              haven't much enjoyed the class.      1\n",
       "4                                     moderate      0\n",
       "5                                         good      0\n",
       "6                                         good      1\n",
       "7                                         good      1\n",
       "8                                     moderate      1\n",
       "9                               good faculty.,      2"
      ]
     },
     "execution_count": 21,
     "metadata": {},
     "output_type": "execute_result"
    }
   ],
   "source": [
    "df_new.head(10)"
   ]
  },
  {
   "cell_type": "markdown",
   "id": "aefb60a2",
   "metadata": {
    "papermill": {
     "duration": 0.026239,
     "end_time": "2024-04-18T00:41:04.870439",
     "exception": false,
     "start_time": "2024-04-18T00:41:04.844200",
     "status": "completed"
    },
    "tags": []
   },
   "source": [
    "       "
   ]
  },
  {
   "cell_type": "markdown",
   "id": "b0621e88",
   "metadata": {
    "papermill": {
     "duration": 0.026179,
     "end_time": "2024-04-18T00:41:04.922942",
     "exception": false,
     "start_time": "2024-04-18T00:41:04.896763",
     "status": "completed"
    },
    "tags": []
   },
   "source": [
    "# Preprocesccing:"
   ]
  },
  {
   "cell_type": "code",
   "execution_count": 22,
   "id": "702916c4",
   "metadata": {
    "execution": {
     "iopub.execute_input": "2024-04-18T00:41:04.978031Z",
     "iopub.status.busy": "2024-04-18T00:41:04.977330Z",
     "iopub.status.idle": "2024-04-18T00:41:13.387790Z",
     "shell.execute_reply": "2024-04-18T00:41:13.386772Z"
    },
    "papermill": {
     "duration": 8.440391,
     "end_time": "2024-04-18T00:41:13.390232",
     "exception": false,
     "start_time": "2024-04-18T00:41:04.949841",
     "status": "completed"
    },
    "tags": []
   },
   "outputs": [
    {
     "name": "stdout",
     "output_type": "stream",
     "text": [
      "[nltk_data] Downloading package stopwords to /usr/share/nltk_data...\n",
      "[nltk_data]   Package stopwords is already up-to-date!\n",
      "[nltk_data] Downloading package punkt to /usr/share/nltk_data...\n",
      "[nltk_data]   Package punkt is already up-to-date!\n",
      "[nltk_data] Downloading package wordnet to /usr/share/nltk_data...\n",
      "[nltk_data]   Package wordnet is already up-to-date!\n"
     ]
    }
   ],
   "source": [
    "import re\n",
    "from string import punctuation\n",
    "\n",
    "import nltk\n",
    "from nltk.corpus import stopwords\n",
    "from nltk.tokenize import word_tokenize\n",
    "from nltk.stem import WordNetLemmatizer\n",
    "import spacy\n",
    "\n",
    "nltk.download('stopwords')\n",
    "nltk.download('punkt')\n",
    "nltk.download('wordnet')\n",
    "nlp = spacy.load(\"en_core_web_sm\")"
   ]
  },
  {
   "cell_type": "code",
   "execution_count": 23,
   "id": "34409789",
   "metadata": {
    "execution": {
     "iopub.execute_input": "2024-04-18T00:41:13.448546Z",
     "iopub.status.busy": "2024-04-18T00:41:13.447867Z",
     "iopub.status.idle": "2024-04-18T00:41:13.454298Z",
     "shell.execute_reply": "2024-04-18T00:41:13.453416Z"
    },
    "papermill": {
     "duration": 0.038742,
     "end_time": "2024-04-18T00:41:13.456404",
     "exception": false,
     "start_time": "2024-04-18T00:41:13.417662",
     "status": "completed"
    },
    "tags": []
   },
   "outputs": [
    {
     "data": {
      "text/plain": [
       "'heis a good scientist than a teacher.'"
      ]
     },
     "execution_count": 23,
     "metadata": {},
     "output_type": "execute_result"
    }
   ],
   "source": [
    "df_new['StudentComments'].values[73]"
   ]
  },
  {
   "cell_type": "code",
   "execution_count": 24,
   "id": "91431a9a",
   "metadata": {
    "execution": {
     "iopub.execute_input": "2024-04-18T00:41:13.511878Z",
     "iopub.status.busy": "2024-04-18T00:41:13.511266Z",
     "iopub.status.idle": "2024-04-18T00:41:13.517776Z",
     "shell.execute_reply": "2024-04-18T00:41:13.516935Z"
    },
    "papermill": {
     "duration": 0.036341,
     "end_time": "2024-04-18T00:41:13.519690",
     "exception": false,
     "start_time": "2024-04-18T00:41:13.483349",
     "status": "completed"
    },
    "tags": []
   },
   "outputs": [],
   "source": [
    "import re\n",
    "from string import punctuation\n",
    "\n",
    "def clean_text(series):\n",
    "    series = series.str.lower()\n",
    "    \n",
    "    # Handle missing values and convert them to empty strings\n",
    "    series = series.fillna('').astype(str)\n",
    "    \n",
    "    series = series.apply(lambda x: ''.join([c for c in x if c not in punctuation]))\n",
    "    \n",
    "    # remove numbers\n",
    "    series = series.apply(lambda x: re.sub(r'\\d+', '', x))\n",
    "    \n",
    "    # remove extra whitespaces\n",
    "    series = series.str.strip()\n",
    "    \n",
    "    # remove extra whitespaces\n",
    "    series = series.apply(lambda x: re.sub(' +', ' ', x))\n",
    "    \n",
    "    return series"
   ]
  },
  {
   "cell_type": "code",
   "execution_count": 25,
   "id": "4cd41f63",
   "metadata": {
    "execution": {
     "iopub.execute_input": "2024-04-18T00:41:13.575088Z",
     "iopub.status.busy": "2024-04-18T00:41:13.574763Z",
     "iopub.status.idle": "2024-04-18T00:41:13.890760Z",
     "shell.execute_reply": "2024-04-18T00:41:13.889695Z"
    },
    "papermill": {
     "duration": 0.346611,
     "end_time": "2024-04-18T00:41:13.893212",
     "exception": false,
     "start_time": "2024-04-18T00:41:13.546601",
     "status": "completed"
    },
    "tags": []
   },
   "outputs": [],
   "source": [
    "df_new['StudentComments']=clean_text(df_new['StudentComments'])"
   ]
  },
  {
   "cell_type": "code",
   "execution_count": 26,
   "id": "f2d26590",
   "metadata": {
    "execution": {
     "iopub.execute_input": "2024-04-18T00:41:13.949275Z",
     "iopub.status.busy": "2024-04-18T00:41:13.948683Z",
     "iopub.status.idle": "2024-04-18T00:41:13.954744Z",
     "shell.execute_reply": "2024-04-18T00:41:13.953860Z"
    },
    "papermill": {
     "duration": 0.036014,
     "end_time": "2024-04-18T00:41:13.956690",
     "exception": false,
     "start_time": "2024-04-18T00:41:13.920676",
     "status": "completed"
    },
    "tags": []
   },
   "outputs": [
    {
     "data": {
      "text/plain": [
       "'heis a good scientist than a teacher'"
      ]
     },
     "execution_count": 26,
     "metadata": {},
     "output_type": "execute_result"
    }
   ],
   "source": [
    "df_new['StudentComments'].values[73]"
   ]
  },
  {
   "cell_type": "code",
   "execution_count": 27,
   "id": "6af916b2",
   "metadata": {
    "execution": {
     "iopub.execute_input": "2024-04-18T00:41:14.011514Z",
     "iopub.status.busy": "2024-04-18T00:41:14.011189Z",
     "iopub.status.idle": "2024-04-18T00:41:14.016143Z",
     "shell.execute_reply": "2024-04-18T00:41:14.015295Z"
    },
    "papermill": {
     "duration": 0.034499,
     "end_time": "2024-04-18T00:41:14.017927",
     "exception": false,
     "start_time": "2024-04-18T00:41:13.983428",
     "status": "completed"
    },
    "tags": []
   },
   "outputs": [],
   "source": [
    "# Function to remove stop words:\n",
    "def remove_stopwords(text):\n",
    "    stop_words = set(stopwords.words('english'))\n",
    "    word_tokens = word_tokenize(text)\n",
    "    filtered_text = [word for word in word_tokens if word.lower() not in stop_words]\n",
    "    return ' '.join(filtered_text)"
   ]
  },
  {
   "cell_type": "code",
   "execution_count": 28,
   "id": "e04134de",
   "metadata": {
    "execution": {
     "iopub.execute_input": "2024-04-18T00:41:14.073907Z",
     "iopub.status.busy": "2024-04-18T00:41:14.073089Z",
     "iopub.status.idle": "2024-04-18T00:41:22.330271Z",
     "shell.execute_reply": "2024-04-18T00:41:22.329503Z"
    },
    "papermill": {
     "duration": 8.287762,
     "end_time": "2024-04-18T00:41:22.332582",
     "exception": false,
     "start_time": "2024-04-18T00:41:14.044820",
     "status": "completed"
    },
    "tags": []
   },
   "outputs": [],
   "source": [
    "df_new['StudentComments'] = df_new['StudentComments'].apply(remove_stopwords)"
   ]
  },
  {
   "cell_type": "code",
   "execution_count": 29,
   "id": "5adc15e7",
   "metadata": {
    "execution": {
     "iopub.execute_input": "2024-04-18T00:41:22.388105Z",
     "iopub.status.busy": "2024-04-18T00:41:22.387793Z",
     "iopub.status.idle": "2024-04-18T00:41:22.393646Z",
     "shell.execute_reply": "2024-04-18T00:41:22.392831Z"
    },
    "papermill": {
     "duration": 0.035493,
     "end_time": "2024-04-18T00:41:22.395467",
     "exception": false,
     "start_time": "2024-04-18T00:41:22.359974",
     "status": "completed"
    },
    "tags": []
   },
   "outputs": [
    {
     "data": {
      "text/plain": [
       "'heis good scientist teacher'"
      ]
     },
     "execution_count": 29,
     "metadata": {},
     "output_type": "execute_result"
    }
   ],
   "source": [
    "df_new['StudentComments'].values[73]"
   ]
  },
  {
   "cell_type": "code",
   "execution_count": 30,
   "id": "76817c90",
   "metadata": {
    "execution": {
     "iopub.execute_input": "2024-04-18T00:41:22.451608Z",
     "iopub.status.busy": "2024-04-18T00:41:22.451247Z",
     "iopub.status.idle": "2024-04-18T00:41:22.455915Z",
     "shell.execute_reply": "2024-04-18T00:41:22.455042Z"
    },
    "papermill": {
     "duration": 0.035151,
     "end_time": "2024-04-18T00:41:22.457800",
     "exception": false,
     "start_time": "2024-04-18T00:41:22.422649",
     "status": "completed"
    },
    "tags": []
   },
   "outputs": [],
   "source": [
    "# Function for lemmatization:\n",
    "def lemmatize_text(text):\n",
    "    doc = nlp(text)\n",
    "    lemmatized_text = [token.lemma_ for token in doc]\n",
    "    return ' '.join(lemmatized_text)"
   ]
  },
  {
   "cell_type": "code",
   "execution_count": 31,
   "id": "a6f580f3",
   "metadata": {
    "execution": {
     "iopub.execute_input": "2024-04-18T00:41:22.513858Z",
     "iopub.status.busy": "2024-04-18T00:41:22.513597Z",
     "iopub.status.idle": "2024-04-18T00:43:46.672214Z",
     "shell.execute_reply": "2024-04-18T00:43:46.671254Z"
    },
    "papermill": {
     "duration": 144.189051,
     "end_time": "2024-04-18T00:43:46.674804",
     "exception": false,
     "start_time": "2024-04-18T00:41:22.485753",
     "status": "completed"
    },
    "tags": []
   },
   "outputs": [],
   "source": [
    "df_new['StudentComments'] = df_new['StudentComments'].apply(lemmatize_text)"
   ]
  },
  {
   "cell_type": "code",
   "execution_count": 32,
   "id": "3e2f947e",
   "metadata": {
    "execution": {
     "iopub.execute_input": "2024-04-18T00:43:46.731248Z",
     "iopub.status.busy": "2024-04-18T00:43:46.730506Z",
     "iopub.status.idle": "2024-04-18T00:43:46.736584Z",
     "shell.execute_reply": "2024-04-18T00:43:46.735718Z"
    },
    "papermill": {
     "duration": 0.035878,
     "end_time": "2024-04-18T00:43:46.738494",
     "exception": false,
     "start_time": "2024-04-18T00:43:46.702616",
     "status": "completed"
    },
    "tags": []
   },
   "outputs": [
    {
     "data": {
      "text/plain": [
       "'heis good scientist teacher'"
      ]
     },
     "execution_count": 32,
     "metadata": {},
     "output_type": "execute_result"
    }
   ],
   "source": [
    "df_new['StudentComments'].values[73]"
   ]
  },
  {
   "cell_type": "markdown",
   "id": "eb26d58a",
   "metadata": {
    "papermill": {
     "duration": 0.026896,
     "end_time": "2024-04-18T00:43:46.792332",
     "exception": false,
     "start_time": "2024-04-18T00:43:46.765436",
     "status": "completed"
    },
    "tags": []
   },
   "source": [
    "       "
   ]
  },
  {
   "cell_type": "markdown",
   "id": "61074ee5",
   "metadata": {
    "papermill": {
     "duration": 0.027009,
     "end_time": "2024-04-18T00:43:46.846272",
     "exception": false,
     "start_time": "2024-04-18T00:43:46.819263",
     "status": "completed"
    },
    "tags": []
   },
   "source": [
    "# Model:"
   ]
  },
  {
   "cell_type": "code",
   "execution_count": 33,
   "id": "ea85d355",
   "metadata": {
    "execution": {
     "iopub.execute_input": "2024-04-18T00:43:46.902338Z",
     "iopub.status.busy": "2024-04-18T00:43:46.901334Z",
     "iopub.status.idle": "2024-04-18T00:43:47.547432Z",
     "shell.execute_reply": "2024-04-18T00:43:47.546641Z"
    },
    "papermill": {
     "duration": 0.676212,
     "end_time": "2024-04-18T00:43:47.549601",
     "exception": false,
     "start_time": "2024-04-18T00:43:46.873389",
     "status": "completed"
    },
    "tags": []
   },
   "outputs": [],
   "source": [
    "from transformers import AutoTokenizer, AutoModelForSequenceClassification\n",
    "import torch\n",
    "import tensorflow as tf\n",
    "from transformers import BertTokenizer, TFBertModel"
   ]
  },
  {
   "cell_type": "code",
   "execution_count": 34,
   "id": "a9d4a0ad",
   "metadata": {
    "execution": {
     "iopub.execute_input": "2024-04-18T00:43:47.605333Z",
     "iopub.status.busy": "2024-04-18T00:43:47.605039Z",
     "iopub.status.idle": "2024-04-18T00:43:47.622933Z",
     "shell.execute_reply": "2024-04-18T00:43:47.622246Z"
    },
    "papermill": {
     "duration": 0.04756,
     "end_time": "2024-04-18T00:43:47.624759",
     "exception": false,
     "start_time": "2024-04-18T00:43:47.577199",
     "status": "completed"
    },
    "tags": []
   },
   "outputs": [],
   "source": [
    "from sklearn.model_selection import train_test_split\n",
    "X_train, X_test, y_train, y_test = train_test_split(df_new['StudentComments'],df_new['Score'], stratify=df_new['Score'])"
   ]
  },
  {
   "cell_type": "code",
   "execution_count": 35,
   "id": "f426c763",
   "metadata": {
    "execution": {
     "iopub.execute_input": "2024-04-18T00:43:47.679890Z",
     "iopub.status.busy": "2024-04-18T00:43:47.679587Z",
     "iopub.status.idle": "2024-04-18T00:43:53.061044Z",
     "shell.execute_reply": "2024-04-18T00:43:53.060099Z"
    },
    "papermill": {
     "duration": 5.41153,
     "end_time": "2024-04-18T00:43:53.063390",
     "exception": false,
     "start_time": "2024-04-18T00:43:47.651860",
     "status": "completed"
    },
    "tags": []
   },
   "outputs": [
    {
     "data": {
      "application/vnd.jupyter.widget-view+json": {
       "model_id": "09abe0b64df24ab5b608f280f49a0b5e",
       "version_major": 2,
       "version_minor": 0
      },
      "text/plain": [
       "tokenizer_config.json:   0%|          | 0.00/48.0 [00:00<?, ?B/s]"
      ]
     },
     "metadata": {},
     "output_type": "display_data"
    },
    {
     "data": {
      "application/vnd.jupyter.widget-view+json": {
       "model_id": "2251d004d34d4262bbb558af48821249",
       "version_major": 2,
       "version_minor": 0
      },
      "text/plain": [
       "vocab.txt:   0%|          | 0.00/232k [00:00<?, ?B/s]"
      ]
     },
     "metadata": {},
     "output_type": "display_data"
    },
    {
     "data": {
      "application/vnd.jupyter.widget-view+json": {
       "model_id": "e124ebebfbf146069db94f4ed9f29c34",
       "version_major": 2,
       "version_minor": 0
      },
      "text/plain": [
       "tokenizer.json:   0%|          | 0.00/466k [00:00<?, ?B/s]"
      ]
     },
     "metadata": {},
     "output_type": "display_data"
    },
    {
     "data": {
      "application/vnd.jupyter.widget-view+json": {
       "model_id": "69df62e265a44ce39c0ab4d30f30afb9",
       "version_major": 2,
       "version_minor": 0
      },
      "text/plain": [
       "config.json:   0%|          | 0.00/570 [00:00<?, ?B/s]"
      ]
     },
     "metadata": {},
     "output_type": "display_data"
    },
    {
     "data": {
      "application/vnd.jupyter.widget-view+json": {
       "model_id": "7ac1c16431724db4a32609f0ed9a2aa1",
       "version_major": 2,
       "version_minor": 0
      },
      "text/plain": [
       "model.safetensors:   0%|          | 0.00/440M [00:00<?, ?B/s]"
      ]
     },
     "metadata": {},
     "output_type": "display_data"
    },
    {
     "name": "stderr",
     "output_type": "stream",
     "text": [
      "Some weights of the PyTorch model were not used when initializing the TF 2.0 model TFBertModel: ['cls.predictions.transform.dense.bias', 'cls.predictions.bias', 'cls.predictions.transform.LayerNorm.weight', 'cls.seq_relationship.weight', 'cls.predictions.transform.LayerNorm.bias', 'cls.seq_relationship.bias', 'cls.predictions.transform.dense.weight']\n",
      "- This IS expected if you are initializing TFBertModel from a PyTorch model trained on another task or with another architecture (e.g. initializing a TFBertForSequenceClassification model from a BertForPreTraining model).\n",
      "- This IS NOT expected if you are initializing TFBertModel from a PyTorch model that you expect to be exactly identical (e.g. initializing a TFBertForSequenceClassification model from a BertForSequenceClassification model).\n",
      "All the weights of TFBertModel were initialized from the PyTorch model.\n",
      "If your task is similar to the task the model of the checkpoint was trained on, you can already use TFBertModel for predictions without further training.\n"
     ]
    }
   ],
   "source": [
    "tokenizer = BertTokenizer.from_pretrained('bert-base-uncased')\n",
    "bert_model = TFBertModel.from_pretrained(\"bert-base-uncased\")"
   ]
  },
  {
   "cell_type": "code",
   "execution_count": 36,
   "id": "7c54238a",
   "metadata": {
    "execution": {
     "iopub.execute_input": "2024-04-18T00:43:53.129923Z",
     "iopub.status.busy": "2024-04-18T00:43:53.129421Z",
     "iopub.status.idle": "2024-04-18T00:43:53.136992Z",
     "shell.execute_reply": "2024-04-18T00:43:53.135987Z"
    },
    "papermill": {
     "duration": 0.044226,
     "end_time": "2024-04-18T00:43:53.139209",
     "exception": false,
     "start_time": "2024-04-18T00:43:53.094983",
     "status": "completed"
    },
    "tags": []
   },
   "outputs": [
    {
     "data": {
      "text/plain": [
       "'good'"
      ]
     },
     "execution_count": 36,
     "metadata": {},
     "output_type": "execute_result"
    }
   ],
   "source": [
    "X_train.tolist()[0]"
   ]
  },
  {
   "cell_type": "code",
   "execution_count": 37,
   "id": "55995c5a",
   "metadata": {
    "execution": {
     "iopub.execute_input": "2024-04-18T00:43:53.207421Z",
     "iopub.status.busy": "2024-04-18T00:43:53.206486Z",
     "iopub.status.idle": "2024-04-18T00:43:58.078362Z",
     "shell.execute_reply": "2024-04-18T00:43:58.077525Z"
    },
    "papermill": {
     "duration": 4.908122,
     "end_time": "2024-04-18T00:43:58.080655",
     "exception": false,
     "start_time": "2024-04-18T00:43:53.172533",
     "status": "completed"
    },
    "tags": []
   },
   "outputs": [],
   "source": [
    "tokenized_data = tokenizer(X_train.tolist(), padding=True,return_tensors='tf', truncation=True, max_length=60)\n",
    "input_ids = tokenized_data[\"input_ids\"]\n",
    "attention_mask = tokenized_data[\"attention_mask\"]"
   ]
  },
  {
   "cell_type": "code",
   "execution_count": 38,
   "id": "96ed394e",
   "metadata": {
    "execution": {
     "iopub.execute_input": "2024-04-18T00:43:58.140824Z",
     "iopub.status.busy": "2024-04-18T00:43:58.140510Z",
     "iopub.status.idle": "2024-04-18T00:43:58.146180Z",
     "shell.execute_reply": "2024-04-18T00:43:58.145357Z"
    },
    "papermill": {
     "duration": 0.03792,
     "end_time": "2024-04-18T00:43:58.148137",
     "exception": false,
     "start_time": "2024-04-18T00:43:58.110217",
     "status": "completed"
    },
    "tags": []
   },
   "outputs": [
    {
     "data": {
      "text/plain": [
       "((22500,), (7500,))"
      ]
     },
     "execution_count": 38,
     "metadata": {},
     "output_type": "execute_result"
    }
   ],
   "source": [
    "X_train.shape,X_test.shape"
   ]
  },
  {
   "cell_type": "code",
   "execution_count": 39,
   "id": "15e45d95",
   "metadata": {
    "execution": {
     "iopub.execute_input": "2024-04-18T00:43:58.206102Z",
     "iopub.status.busy": "2024-04-18T00:43:58.205755Z",
     "iopub.status.idle": "2024-04-18T00:43:58.211549Z",
     "shell.execute_reply": "2024-04-18T00:43:58.210651Z"
    },
    "papermill": {
     "duration": 0.037021,
     "end_time": "2024-04-18T00:43:58.213538",
     "exception": false,
     "start_time": "2024-04-18T00:43:58.176517",
     "status": "completed"
    },
    "tags": []
   },
   "outputs": [
    {
     "data": {
      "text/plain": [
       "(TensorShape([22500, 60]), TensorShape([22500, 60]))"
      ]
     },
     "execution_count": 39,
     "metadata": {},
     "output_type": "execute_result"
    }
   ],
   "source": [
    "input_ids.shape,attention_mask.shape"
   ]
  },
  {
   "cell_type": "code",
   "execution_count": 40,
   "id": "e6305c7e",
   "metadata": {
    "execution": {
     "iopub.execute_input": "2024-04-18T00:43:58.271841Z",
     "iopub.status.busy": "2024-04-18T00:43:58.271541Z",
     "iopub.status.idle": "2024-04-18T00:43:58.283608Z",
     "shell.execute_reply": "2024-04-18T00:43:58.282747Z"
    },
    "papermill": {
     "duration": 0.043648,
     "end_time": "2024-04-18T00:43:58.285554",
     "exception": false,
     "start_time": "2024-04-18T00:43:58.241906",
     "status": "completed"
    },
    "tags": []
   },
   "outputs": [
    {
     "data": {
      "text/plain": [
       "<tf.Tensor: shape=(60,), dtype=int32, numpy=\n",
       "array([ 101, 2204,  102,    0,    0,    0,    0,    0,    0,    0,    0,\n",
       "          0,    0,    0,    0,    0,    0,    0,    0,    0,    0,    0,\n",
       "          0,    0,    0,    0,    0,    0,    0,    0,    0,    0,    0,\n",
       "          0,    0,    0,    0,    0,    0,    0,    0,    0,    0,    0,\n",
       "          0,    0,    0,    0,    0,    0,    0,    0,    0,    0,    0,\n",
       "          0,    0,    0,    0,    0], dtype=int32)>"
      ]
     },
     "execution_count": 40,
     "metadata": {},
     "output_type": "execute_result"
    }
   ],
   "source": [
    "input_ids[0]"
   ]
  },
  {
   "cell_type": "code",
   "execution_count": 41,
   "id": "0e8d8a32",
   "metadata": {
    "execution": {
     "iopub.execute_input": "2024-04-18T00:43:58.343880Z",
     "iopub.status.busy": "2024-04-18T00:43:58.343597Z",
     "iopub.status.idle": "2024-04-18T00:43:58.348074Z",
     "shell.execute_reply": "2024-04-18T00:43:58.347218Z"
    },
    "papermill": {
     "duration": 0.035597,
     "end_time": "2024-04-18T00:43:58.349909",
     "exception": false,
     "start_time": "2024-04-18T00:43:58.314312",
     "status": "completed"
    },
    "tags": []
   },
   "outputs": [],
   "source": [
    "# Define the shape and dtype of the empty tensor\n",
    "shape = 0\n",
    "dtype = tf.float32\n",
    "\n",
    "# Create the empty tensor array\n",
    "empty_tensor = tf.TensorArray(dtype=dtype, size=0, dynamic_size=True)"
   ]
  },
  {
   "cell_type": "code",
   "execution_count": 42,
   "id": "e6462372",
   "metadata": {
    "execution": {
     "iopub.execute_input": "2024-04-18T00:43:58.408620Z",
     "iopub.status.busy": "2024-04-18T00:43:58.407925Z",
     "iopub.status.idle": "2024-04-18T01:54:45.181315Z",
     "shell.execute_reply": "2024-04-18T01:54:45.180404Z"
    },
    "papermill": {
     "duration": 4246.805294,
     "end_time": "2024-04-18T01:54:45.183881",
     "exception": false,
     "start_time": "2024-04-18T00:43:58.378587",
     "status": "completed"
    },
    "tags": []
   },
   "outputs": [],
   "source": [
    "outputs=[]\n",
    "for i in range(0,len(input_ids),1):\n",
    "    batch=input_ids[i:i+1]\n",
    "    mask=attention_mask[i:i+1]\n",
    "    embeddings=bert_model(batch, attention_mask=mask)['pooler_output']\n",
    "    outputs.append(embeddings)\n",
    "    empty_tensor = empty_tensor.write(empty_tensor.size(), embeddings)\n",
    "    \n",
    "result_tensor = empty_tensor.stack()"
   ]
  },
  {
   "cell_type": "code",
   "execution_count": 43,
   "id": "cf7638d5",
   "metadata": {
    "execution": {
     "iopub.execute_input": "2024-04-18T01:54:45.243388Z",
     "iopub.status.busy": "2024-04-18T01:54:45.243084Z",
     "iopub.status.idle": "2024-04-18T01:54:45.305089Z",
     "shell.execute_reply": "2024-04-18T01:54:45.304219Z"
    },
    "papermill": {
     "duration": 0.093439,
     "end_time": "2024-04-18T01:54:45.306928",
     "exception": false,
     "start_time": "2024-04-18T01:54:45.213489",
     "status": "completed"
    },
    "tags": []
   },
   "outputs": [
    {
     "data": {
      "text/plain": [
       "<tf.Tensor: shape=(22500, 1, 768), dtype=float32, numpy=\n",
       "array([[[-0.7986119 , -0.18929139,  0.21596459, ...,  0.22309531,\n",
       "         -0.50096035,  0.8160853 ]],\n",
       "\n",
       "       [[-0.8506737 , -0.35809296, -0.22282544, ..., -0.01993915,\n",
       "         -0.6336972 ,  0.86567247]],\n",
       "\n",
       "       [[-0.769661  , -0.18892217,  0.30264243, ...,  0.21544491,\n",
       "         -0.50187314,  0.7445595 ]],\n",
       "\n",
       "       ...,\n",
       "\n",
       "       [[-0.7986119 , -0.18929139,  0.21596459, ...,  0.22309531,\n",
       "         -0.50096035,  0.8160853 ]],\n",
       "\n",
       "       [[-0.70213753, -0.18483205,  0.3311785 , ...,  0.3519296 ,\n",
       "         -0.50268245,  0.7629364 ]],\n",
       "\n",
       "       [[-0.8894656 , -0.32699955, -0.05883207, ...,  0.03504434,\n",
       "         -0.6580179 ,  0.8989022 ]]], dtype=float32)>"
      ]
     },
     "execution_count": 43,
     "metadata": {},
     "output_type": "execute_result"
    }
   ],
   "source": [
    "result_tensor"
   ]
  },
  {
   "cell_type": "markdown",
   "id": "715b6635",
   "metadata": {
    "papermill": {
     "duration": 0.028656,
     "end_time": "2024-04-18T01:54:45.364215",
     "exception": false,
     "start_time": "2024-04-18T01:54:45.335559",
     "status": "completed"
    },
    "tags": []
   },
   "source": [
    "# Test embeddings:"
   ]
  },
  {
   "cell_type": "code",
   "execution_count": 44,
   "id": "0f17410d",
   "metadata": {
    "execution": {
     "iopub.execute_input": "2024-04-18T01:54:45.424770Z",
     "iopub.status.busy": "2024-04-18T01:54:45.424058Z",
     "iopub.status.idle": "2024-04-18T01:54:47.351965Z",
     "shell.execute_reply": "2024-04-18T01:54:47.350932Z"
    },
    "papermill": {
     "duration": 1.960394,
     "end_time": "2024-04-18T01:54:47.354527",
     "exception": false,
     "start_time": "2024-04-18T01:54:45.394133",
     "status": "completed"
    },
    "tags": []
   },
   "outputs": [],
   "source": [
    "test_tokenized_data = tokenizer(X_test.tolist(), padding=True,return_tensors='tf', truncation=True, max_length=60)\n",
    "test_input_ids = test_tokenized_data[\"input_ids\"]\n",
    "test_attention_mask = test_tokenized_data[\"attention_mask\"]"
   ]
  },
  {
   "cell_type": "code",
   "execution_count": 45,
   "id": "3734b7bf",
   "metadata": {
    "execution": {
     "iopub.execute_input": "2024-04-18T01:54:47.416055Z",
     "iopub.status.busy": "2024-04-18T01:54:47.415675Z",
     "iopub.status.idle": "2024-04-18T01:54:47.425753Z",
     "shell.execute_reply": "2024-04-18T01:54:47.424888Z"
    },
    "papermill": {
     "duration": 0.043777,
     "end_time": "2024-04-18T01:54:47.427927",
     "exception": false,
     "start_time": "2024-04-18T01:54:47.384150",
     "status": "completed"
    },
    "tags": []
   },
   "outputs": [],
   "source": [
    "shape = 0\n",
    "dtype = tf.float32\n",
    "\n",
    "# Create the empty tensor array\n",
    "empty_tensor2 = tf.TensorArray(dtype=dtype, size=0, dynamic_size=True)"
   ]
  },
  {
   "cell_type": "code",
   "execution_count": 46,
   "id": "7b41c494",
   "metadata": {
    "execution": {
     "iopub.execute_input": "2024-04-18T01:54:47.488941Z",
     "iopub.status.busy": "2024-04-18T01:54:47.487996Z",
     "iopub.status.idle": "2024-04-18T02:18:08.034849Z",
     "shell.execute_reply": "2024-04-18T02:18:08.033967Z"
    },
    "papermill": {
     "duration": 1400.579435,
     "end_time": "2024-04-18T02:18:08.037328",
     "exception": false,
     "start_time": "2024-04-18T01:54:47.457893",
     "status": "completed"
    },
    "tags": []
   },
   "outputs": [],
   "source": [
    "outputs=[]\n",
    "for i in range(0,len(test_input_ids),1):\n",
    "    batch=test_input_ids[i:i+1]\n",
    "    mask=test_attention_mask[i:i+1]\n",
    "    embeddings=bert_model(batch, attention_mask=mask)['pooler_output']\n",
    "    outputs.append(embeddings)\n",
    "    empty_tensor2 = empty_tensor2.write(empty_tensor2.size(), embeddings)\n",
    "    \n",
    "test_result_tensor = empty_tensor2.stack()"
   ]
  },
  {
   "cell_type": "markdown",
   "id": "4e293be2",
   "metadata": {
    "papermill": {
     "duration": 0.028256,
     "end_time": "2024-04-18T02:18:08.095248",
     "exception": false,
     "start_time": "2024-04-18T02:18:08.066992",
     "status": "completed"
    },
    "tags": []
   },
   "source": [
    "      "
   ]
  },
  {
   "cell_type": "markdown",
   "id": "377f831f",
   "metadata": {
    "papermill": {
     "duration": 0.028293,
     "end_time": "2024-04-18T02:18:08.151921",
     "exception": false,
     "start_time": "2024-04-18T02:18:08.123628",
     "status": "completed"
    },
    "tags": []
   },
   "source": [
    "# Model:"
   ]
  },
  {
   "cell_type": "code",
   "execution_count": 47,
   "id": "b2d3f3a7",
   "metadata": {
    "execution": {
     "iopub.execute_input": "2024-04-18T02:18:08.209742Z",
     "iopub.status.busy": "2024-04-18T02:18:08.209387Z",
     "iopub.status.idle": "2024-04-18T02:18:08.216813Z",
     "shell.execute_reply": "2024-04-18T02:18:08.216023Z"
    },
    "papermill": {
     "duration": 0.038529,
     "end_time": "2024-04-18T02:18:08.218692",
     "exception": false,
     "start_time": "2024-04-18T02:18:08.180163",
     "status": "completed"
    },
    "tags": []
   },
   "outputs": [
    {
     "data": {
      "text/plain": [
       "TensorShape([22500, 768])"
      ]
     },
     "execution_count": 47,
     "metadata": {},
     "output_type": "execute_result"
    }
   ],
   "source": [
    "result_tensor = tf.reshape(result_tensor, (-1, result_tensor.shape[2]))\n",
    "result_tensor.shape"
   ]
  },
  {
   "cell_type": "code",
   "execution_count": 48,
   "id": "6e5fd65a",
   "metadata": {
    "execution": {
     "iopub.execute_input": "2024-04-18T02:18:08.276745Z",
     "iopub.status.busy": "2024-04-18T02:18:08.276411Z",
     "iopub.status.idle": "2024-04-18T02:20:22.080356Z",
     "shell.execute_reply": "2024-04-18T02:20:22.079387Z"
    },
    "papermill": {
     "duration": 133.835343,
     "end_time": "2024-04-18T02:20:22.082440",
     "exception": false,
     "start_time": "2024-04-18T02:18:08.247097",
     "status": "completed"
    },
    "tags": []
   },
   "outputs": [
    {
     "name": "stdout",
     "output_type": "stream",
     "text": [
      "Epoch 1/30\n"
     ]
    },
    {
     "name": "stderr",
     "output_type": "stream",
     "text": [
      "/opt/conda/lib/python3.10/site-packages/keras/src/layers/core/dense.py:88: UserWarning: Do not pass an `input_shape`/`input_dim` argument to a layer. When using Sequential models, prefer using an `Input(shape)` object as the first layer in the model instead.\n",
      "  super().__init__(activity_regularizer=activity_regularizer, **kwargs)\n"
     ]
    },
    {
     "name": "stdout",
     "output_type": "stream",
     "text": [
      "\u001b[1m  96/2250\u001b[0m \u001b[37m━━━━━━━━━━━━━━━━━━━━\u001b[0m \u001b[1m3s\u001b[0m 2ms/step - accuracy: 0.3955 - loss: 1.1244"
     ]
    },
    {
     "name": "stderr",
     "output_type": "stream",
     "text": [
      "WARNING: All log messages before absl::InitializeLog() is called are written to STDERR\n",
      "I0000 00:00:1713406690.663909      70 device_compiler.h:186] Compiled cluster using XLA!  This line is logged at most once for the lifetime of the process.\n"
     ]
    },
    {
     "name": "stdout",
     "output_type": "stream",
     "text": [
      "\u001b[1m2250/2250\u001b[0m \u001b[32m━━━━━━━━━━━━━━━━━━━━\u001b[0m\u001b[37m\u001b[0m \u001b[1m7s\u001b[0m 2ms/step - accuracy: 0.3816 - loss: 1.0916 - val_accuracy: 0.4351 - val_loss: 1.0528\n",
      "Epoch 2/30\n",
      "\u001b[1m2250/2250\u001b[0m \u001b[32m━━━━━━━━━━━━━━━━━━━━\u001b[0m\u001b[37m\u001b[0m \u001b[1m4s\u001b[0m 2ms/step - accuracy: 0.4503 - loss: 1.0431 - val_accuracy: 0.4578 - val_loss: 1.0293\n",
      "Epoch 3/30\n",
      "\u001b[1m2250/2250\u001b[0m \u001b[32m━━━━━━━━━━━━━━━━━━━━\u001b[0m\u001b[37m\u001b[0m \u001b[1m4s\u001b[0m 2ms/step - accuracy: 0.4514 - loss: 1.0329 - val_accuracy: 0.4571 - val_loss: 1.0317\n",
      "Epoch 4/30\n",
      "\u001b[1m2250/2250\u001b[0m \u001b[32m━━━━━━━━━━━━━━━━━━━━\u001b[0m\u001b[37m\u001b[0m \u001b[1m4s\u001b[0m 2ms/step - accuracy: 0.4593 - loss: 1.0295 - val_accuracy: 0.4564 - val_loss: 1.0232\n",
      "Epoch 5/30\n",
      "\u001b[1m2250/2250\u001b[0m \u001b[32m━━━━━━━━━━━━━━━━━━━━\u001b[0m\u001b[37m\u001b[0m \u001b[1m4s\u001b[0m 2ms/step - accuracy: 0.4540 - loss: 1.0289 - val_accuracy: 0.4622 - val_loss: 1.0329\n",
      "Epoch 6/30\n",
      "\u001b[1m2250/2250\u001b[0m \u001b[32m━━━━━━━━━━━━━━━━━━━━\u001b[0m\u001b[37m\u001b[0m \u001b[1m4s\u001b[0m 2ms/step - accuracy: 0.4573 - loss: 1.0247 - val_accuracy: 0.4462 - val_loss: 1.0363\n",
      "Epoch 7/30\n",
      "\u001b[1m2250/2250\u001b[0m \u001b[32m━━━━━━━━━━━━━━━━━━━━\u001b[0m\u001b[37m\u001b[0m \u001b[1m4s\u001b[0m 2ms/step - accuracy: 0.4635 - loss: 1.0226 - val_accuracy: 0.4427 - val_loss: 1.0315\n",
      "Epoch 8/30\n",
      "\u001b[1m2250/2250\u001b[0m \u001b[32m━━━━━━━━━━━━━━━━━━━━\u001b[0m\u001b[37m\u001b[0m \u001b[1m4s\u001b[0m 2ms/step - accuracy: 0.4629 - loss: 1.0243 - val_accuracy: 0.4607 - val_loss: 1.0220\n",
      "Epoch 9/30\n",
      "\u001b[1m2250/2250\u001b[0m \u001b[32m━━━━━━━━━━━━━━━━━━━━\u001b[0m\u001b[37m\u001b[0m \u001b[1m4s\u001b[0m 2ms/step - accuracy: 0.4670 - loss: 1.0192 - val_accuracy: 0.4682 - val_loss: 1.0221\n",
      "Epoch 10/30\n",
      "\u001b[1m2250/2250\u001b[0m \u001b[32m━━━━━━━━━━━━━━━━━━━━\u001b[0m\u001b[37m\u001b[0m \u001b[1m5s\u001b[0m 2ms/step - accuracy: 0.4656 - loss: 1.0192 - val_accuracy: 0.4484 - val_loss: 1.0188\n",
      "Epoch 11/30\n",
      "\u001b[1m2250/2250\u001b[0m \u001b[32m━━━━━━━━━━━━━━━━━━━━\u001b[0m\u001b[37m\u001b[0m \u001b[1m4s\u001b[0m 2ms/step - accuracy: 0.4674 - loss: 1.0203 - val_accuracy: 0.4642 - val_loss: 1.0220\n",
      "Epoch 12/30\n",
      "\u001b[1m2250/2250\u001b[0m \u001b[32m━━━━━━━━━━━━━━━━━━━━\u001b[0m\u001b[37m\u001b[0m \u001b[1m4s\u001b[0m 2ms/step - accuracy: 0.4620 - loss: 1.0197 - val_accuracy: 0.4418 - val_loss: 1.0324\n",
      "Epoch 13/30\n",
      "\u001b[1m2250/2250\u001b[0m \u001b[32m━━━━━━━━━━━━━━━━━━━━\u001b[0m\u001b[37m\u001b[0m \u001b[1m4s\u001b[0m 2ms/step - accuracy: 0.4693 - loss: 1.0150 - val_accuracy: 0.4500 - val_loss: 1.0227\n",
      "Epoch 14/30\n",
      "\u001b[1m2250/2250\u001b[0m \u001b[32m━━━━━━━━━━━━━━━━━━━━\u001b[0m\u001b[37m\u001b[0m \u001b[1m4s\u001b[0m 2ms/step - accuracy: 0.4688 - loss: 1.0150 - val_accuracy: 0.4656 - val_loss: 1.0174\n",
      "Epoch 15/30\n",
      "\u001b[1m2250/2250\u001b[0m \u001b[32m━━━━━━━━━━━━━━━━━━━━\u001b[0m\u001b[37m\u001b[0m \u001b[1m4s\u001b[0m 2ms/step - accuracy: 0.4676 - loss: 1.0129 - val_accuracy: 0.4631 - val_loss: 1.0258\n",
      "Epoch 16/30\n",
      "\u001b[1m2250/2250\u001b[0m \u001b[32m━━━━━━━━━━━━━━━━━━━━\u001b[0m\u001b[37m\u001b[0m \u001b[1m4s\u001b[0m 2ms/step - accuracy: 0.4722 - loss: 1.0129 - val_accuracy: 0.4671 - val_loss: 1.0190\n",
      "Epoch 17/30\n",
      "\u001b[1m2250/2250\u001b[0m \u001b[32m━━━━━━━━━━━━━━━━━━━━\u001b[0m\u001b[37m\u001b[0m \u001b[1m4s\u001b[0m 2ms/step - accuracy: 0.4616 - loss: 1.0187 - val_accuracy: 0.4691 - val_loss: 1.0224\n",
      "Epoch 18/30\n",
      "\u001b[1m2250/2250\u001b[0m \u001b[32m━━━━━━━━━━━━━━━━━━━━\u001b[0m\u001b[37m\u001b[0m \u001b[1m4s\u001b[0m 2ms/step - accuracy: 0.4613 - loss: 1.0204 - val_accuracy: 0.4651 - val_loss: 1.0163\n",
      "Epoch 19/30\n",
      "\u001b[1m2250/2250\u001b[0m \u001b[32m━━━━━━━━━━━━━━━━━━━━\u001b[0m\u001b[37m\u001b[0m \u001b[1m4s\u001b[0m 2ms/step - accuracy: 0.4643 - loss: 1.0129 - val_accuracy: 0.4502 - val_loss: 1.0275\n",
      "Epoch 20/30\n",
      "\u001b[1m2250/2250\u001b[0m \u001b[32m━━━━━━━━━━━━━━━━━━━━\u001b[0m\u001b[37m\u001b[0m \u001b[1m4s\u001b[0m 2ms/step - accuracy: 0.4614 - loss: 1.0133 - val_accuracy: 0.4516 - val_loss: 1.0190\n",
      "Epoch 21/30\n",
      "\u001b[1m2250/2250\u001b[0m \u001b[32m━━━━━━━━━━━━━━━━━━━━\u001b[0m\u001b[37m\u001b[0m \u001b[1m4s\u001b[0m 2ms/step - accuracy: 0.4758 - loss: 1.0113 - val_accuracy: 0.4556 - val_loss: 1.0207\n",
      "Epoch 22/30\n",
      "\u001b[1m2250/2250\u001b[0m \u001b[32m━━━━━━━━━━━━━━━━━━━━\u001b[0m\u001b[37m\u001b[0m \u001b[1m4s\u001b[0m 2ms/step - accuracy: 0.4705 - loss: 1.0152 - val_accuracy: 0.4504 - val_loss: 1.0193\n",
      "Epoch 23/30\n",
      "\u001b[1m2250/2250\u001b[0m \u001b[32m━━━━━━━━━━━━━━━━━━━━\u001b[0m\u001b[37m\u001b[0m \u001b[1m5s\u001b[0m 2ms/step - accuracy: 0.4683 - loss: 1.0128 - val_accuracy: 0.4511 - val_loss: 1.0383\n",
      "Epoch 24/30\n",
      "\u001b[1m2250/2250\u001b[0m \u001b[32m━━━━━━━━━━━━━━━━━━━━\u001b[0m\u001b[37m\u001b[0m \u001b[1m5s\u001b[0m 2ms/step - accuracy: 0.4732 - loss: 1.0102 - val_accuracy: 0.4509 - val_loss: 1.0227\n",
      "Epoch 25/30\n",
      "\u001b[1m2250/2250\u001b[0m \u001b[32m━━━━━━━━━━━━━━━━━━━━\u001b[0m\u001b[37m\u001b[0m \u001b[1m4s\u001b[0m 2ms/step - accuracy: 0.4725 - loss: 1.0103 - val_accuracy: 0.4629 - val_loss: 1.0167\n",
      "Epoch 26/30\n",
      "\u001b[1m2250/2250\u001b[0m \u001b[32m━━━━━━━━━━━━━━━━━━━━\u001b[0m\u001b[37m\u001b[0m \u001b[1m4s\u001b[0m 2ms/step - accuracy: 0.4731 - loss: 1.0081 - val_accuracy: 0.4611 - val_loss: 1.0177\n",
      "Epoch 27/30\n",
      "\u001b[1m2250/2250\u001b[0m \u001b[32m━━━━━━━━━━━━━━━━━━━━\u001b[0m\u001b[37m\u001b[0m \u001b[1m4s\u001b[0m 2ms/step - accuracy: 0.4758 - loss: 1.0071 - val_accuracy: 0.4569 - val_loss: 1.0147\n",
      "Epoch 28/30\n",
      "\u001b[1m2250/2250\u001b[0m \u001b[32m━━━━━━━━━━━━━━━━━━━━\u001b[0m\u001b[37m\u001b[0m \u001b[1m4s\u001b[0m 2ms/step - accuracy: 0.4653 - loss: 1.0138 - val_accuracy: 0.4611 - val_loss: 1.0177\n",
      "Epoch 29/30\n",
      "\u001b[1m2250/2250\u001b[0m \u001b[32m━━━━━━━━━━━━━━━━━━━━\u001b[0m\u001b[37m\u001b[0m \u001b[1m5s\u001b[0m 2ms/step - accuracy: 0.4692 - loss: 1.0132 - val_accuracy: 0.4591 - val_loss: 1.0158\n",
      "Epoch 30/30\n",
      "\u001b[1m2250/2250\u001b[0m \u001b[32m━━━━━━━━━━━━━━━━━━━━\u001b[0m\u001b[37m\u001b[0m \u001b[1m4s\u001b[0m 2ms/step - accuracy: 0.4663 - loss: 1.0135 - val_accuracy: 0.4633 - val_loss: 1.0125\n"
     ]
    },
    {
     "data": {
      "image/png": "[encoded data removed]",
      "text/plain": [
       "<Figure size 640x480 with 1 Axes>"
      ]
     },
     "metadata": {},
     "output_type": "display_data"
    }
   ],
   "source": [
    "# Define model architecture\n",
    "model = Sequential([\n",
    "    Dense(128, activation='relu', input_shape=(result_tensor.shape[1],)),\n",
    "    #Dropout(0.5),\n",
    "    Dense(64, activation='relu'),\n",
    "    #Dropout(0.5),\n",
    "    Dense(16, activation='relu'),\n",
    "\n",
    "    Dense(3, activation='softmax')\n",
    "])\n",
    "\n",
    "# Compile model\n",
    "model.compile(optimizer='adam', loss='sparse_categorical_crossentropy', metrics=['accuracy'])\n",
    "history=model.fit(result_tensor, y_train, epochs=30, batch_size=8, validation_split=.2)\n",
    "\n",
    "\n",
    "# Optionally, you can plot training history\n",
    "plt.plot(history.history['accuracy'], label='Training Accuracy')\n",
    "plt.plot(history.history['val_accuracy'], label='Validation Accuracy')\n",
    "plt.xlabel('Epoch')\n",
    "plt.ylabel('Accuracy')\n",
    "plt.title('Training and Validation Accuracies')\n",
    "plt.legend()\n",
    "plt.show()"
   ]
  },
  {
   "cell_type": "code",
   "execution_count": 49,
   "id": "82e90aa2",
   "metadata": {
    "execution": {
     "iopub.execute_input": "2024-04-18T02:20:22.487816Z",
     "iopub.status.busy": "2024-04-18T02:20:22.487404Z",
     "iopub.status.idle": "2024-04-18T02:20:22.495115Z",
     "shell.execute_reply": "2024-04-18T02:20:22.494126Z"
    },
    "papermill": {
     "duration": 0.211021,
     "end_time": "2024-04-18T02:20:22.497034",
     "exception": false,
     "start_time": "2024-04-18T02:20:22.286013",
     "status": "completed"
    },
    "tags": []
   },
   "outputs": [
    {
     "data": {
      "text/plain": [
       "TensorShape([7500, 768])"
      ]
     },
     "execution_count": 49,
     "metadata": {},
     "output_type": "execute_result"
    }
   ],
   "source": [
    "test_result_tensor = tf.reshape(test_result_tensor, (-1, test_result_tensor.shape[2]))\n",
    "test_result_tensor.shape"
   ]
  },
  {
   "cell_type": "code",
   "execution_count": 50,
   "id": "a0b84a02",
   "metadata": {
    "execution": {
     "iopub.execute_input": "2024-04-18T02:20:22.899965Z",
     "iopub.status.busy": "2024-04-18T02:20:22.899150Z",
     "iopub.status.idle": "2024-04-18T02:20:23.017226Z",
     "shell.execute_reply": "2024-04-18T02:20:23.016423Z"
    },
    "papermill": {
     "duration": 0.321628,
     "end_time": "2024-04-18T02:20:23.019563",
     "exception": false,
     "start_time": "2024-04-18T02:20:22.697935",
     "status": "completed"
    },
    "tags": []
   },
   "outputs": [],
   "source": [
    "X_train=result_tensor.numpy()\n",
    "X_test=test_result_tensor.numpy()"
   ]
  },
  {
   "cell_type": "code",
   "execution_count": 51,
   "id": "e241851b",
   "metadata": {
    "execution": {
     "iopub.execute_input": "2024-04-18T02:20:23.472187Z",
     "iopub.status.busy": "2024-04-18T02:20:23.471220Z",
     "iopub.status.idle": "2024-04-18T02:42:33.570021Z",
     "shell.execute_reply": "2024-04-18T02:42:33.568992Z"
    },
    "papermill": {
     "duration": 1330.614451,
     "end_time": "2024-04-18T02:42:33.835601",
     "exception": false,
     "start_time": "2024-04-18T02:20:23.221150",
     "status": "completed"
    },
    "tags": []
   },
   "outputs": [
    {
     "name": "stderr",
     "output_type": "stream",
     "text": [
      "/opt/conda/lib/python3.10/site-packages/sklearn/linear_model/_logistic.py:458: ConvergenceWarning: lbfgs failed to converge (status=1):\n",
      "STOP: TOTAL NO. of ITERATIONS REACHED LIMIT.\n",
      "\n",
      "Increase the number of iterations (max_iter) or scale the data as shown in:\n",
      "    https://scikit-learn.org/stable/modules/preprocessing.html\n",
      "Please also refer to the documentation for alternative solver options:\n",
      "    https://scikit-learn.org/stable/modules/linear_model.html#logistic-regression\n",
      "  n_iter_i = _check_optimize_result(\n"
     ]
    },
    {
     "name": "stdout",
     "output_type": "stream",
     "text": [
      "Classifier: Logistic Regression\n",
      "              precision    recall  f1-score   support\n",
      "\n",
      "           0       0.58      0.46      0.52      2500\n",
      "           1       0.39      0.48      0.43      2500\n",
      "           2       0.49      0.48      0.49      2500\n",
      "\n",
      "    accuracy                           0.48      7500\n",
      "   macro avg       0.49      0.48      0.48      7500\n",
      "weighted avg       0.49      0.48      0.48      7500\n",
      "\n",
      "------------------------------\n",
      "Classifier: Support Vector Machine\n",
      "              precision    recall  f1-score   support\n",
      "\n",
      "           0       0.57      0.51      0.53      2500\n",
      "           1       0.40      0.46      0.43      2500\n",
      "           2       0.50      0.48      0.49      2500\n",
      "\n",
      "    accuracy                           0.48      7500\n",
      "   macro avg       0.49      0.48      0.48      7500\n",
      "weighted avg       0.49      0.48      0.48      7500\n",
      "\n",
      "------------------------------\n",
      "Classifier: Random Forest\n",
      "              precision    recall  f1-score   support\n",
      "\n",
      "           0       0.54      0.51      0.53      2500\n",
      "           1       0.39      0.47      0.43      2500\n",
      "           2       0.51      0.44      0.47      2500\n",
      "\n",
      "    accuracy                           0.48      7500\n",
      "   macro avg       0.48      0.48      0.48      7500\n",
      "weighted avg       0.48      0.48      0.48      7500\n",
      "\n",
      "------------------------------\n",
      "Classifier: Gradient Boosting\n",
      "              precision    recall  f1-score   support\n",
      "\n",
      "           0       0.56      0.50      0.52      2500\n",
      "           1       0.40      0.47      0.43      2500\n",
      "           2       0.50      0.47      0.49      2500\n",
      "\n",
      "    accuracy                           0.48      7500\n",
      "   macro avg       0.49      0.48      0.48      7500\n",
      "weighted avg       0.49      0.48      0.48      7500\n",
      "\n",
      "------------------------------\n",
      "Classifier: Neural Network\n",
      "              precision    recall  f1-score   support\n",
      "\n",
      "           0       0.56      0.42      0.48      2500\n",
      "           1       0.37      0.21      0.27      2500\n",
      "           2       0.44      0.73      0.55      2500\n",
      "\n",
      "    accuracy                           0.45      7500\n",
      "   macro avg       0.46      0.45      0.43      7500\n",
      "weighted avg       0.46      0.45      0.43      7500\n",
      "\n",
      "------------------------------\n",
      "Comparison of different classifiers:\n",
      "Logistic Regression:\n",
      "Accuracy: 0.4755\n",
      "F1 Score: 0.4755\n",
      "------------------------------\n",
      "Support Vector Machine:\n",
      "Accuracy: 0.4824\n",
      "F1 Score: 0.4824\n",
      "------------------------------\n",
      "Random Forest:\n",
      "Accuracy: 0.4756\n",
      "F1 Score: 0.4756\n",
      "------------------------------\n",
      "Gradient Boosting:\n",
      "Accuracy: 0.4781\n",
      "F1 Score: 0.4781\n",
      "------------------------------\n",
      "Neural Network:\n",
      "Accuracy: 0.4541\n",
      "F1 Score: 0.4541\n",
      "------------------------------\n"
     ]
    },
    {
     "name": "stderr",
     "output_type": "stream",
     "text": [
      "/opt/conda/lib/python3.10/site-packages/sklearn/neural_network/_multilayer_perceptron.py:686: ConvergenceWarning: Stochastic Optimizer: Maximum iterations (200) reached and the optimization hasn't converged yet.\n",
      "  warnings.warn(\n"
     ]
    }
   ],
   "source": [
    "import numpy as np\n",
    "from sklearn.model_selection import train_test_split\n",
    "from sklearn.preprocessing import StandardScaler\n",
    "from sklearn.metrics import accuracy_score, f1_score, classification_report\n",
    "from sklearn.linear_model import LogisticRegression\n",
    "from sklearn.svm import SVC\n",
    "from sklearn.ensemble import RandomForestClassifier, GradientBoostingClassifier\n",
    "from sklearn.neural_network import MLPClassifier\n",
    "\n",
    "\n",
    "# Step 2: Standardize the data\n",
    "scaler = StandardScaler()\n",
    "X_train = scaler.fit_transform(X_train)\n",
    "X_test = scaler.transform(X_test)\n",
    "\n",
    "# Step 3: Train and evaluate different classifiers\n",
    "classifiers = {\n",
    "    'Logistic Regression': LogisticRegression(),\n",
    "    'Support Vector Machine': SVC(),\n",
    "    'Random Forest': RandomForestClassifier(),\n",
    "    'Gradient Boosting': GradientBoostingClassifier(),\n",
    "    'Neural Network': MLPClassifier()\n",
    "}\n",
    "\n",
    "results = {}\n",
    "\n",
    "for name, clf in classifiers.items():\n",
    "    # Train the classifier\n",
    "    clf.fit(X_train, y_train)\n",
    "    \n",
    "    # Make predictions on the test set\n",
    "    y_pred = clf.predict(X_test)\n",
    "    \n",
    "    # Evaluate performance\n",
    "    accuracy = accuracy_score(y_test, y_pred)\n",
    "    f1 = f1_score(y_test, y_pred, average='micro')\n",
    "    \n",
    "    # Store results\n",
    "    results[name] = {\n",
    "        'Accuracy': accuracy,\n",
    "        'F1 Score': f1\n",
    "    }\n",
    "    \n",
    "    # Print a classification report\n",
    "    print(f\"Classifier: {name}\")\n",
    "    print(classification_report(y_test, y_pred))\n",
    "    print('-' * 30)\n",
    "\n",
    "# Compare results across different classifiers\n",
    "print(\"Comparison of different classifiers:\")\n",
    "for name, metrics in results.items():\n",
    "    print(f\"{name}:\")\n",
    "    print(f\"Accuracy: {metrics['Accuracy']:.4f}\")\n",
    "    print(f\"F1 Score: {metrics['F1 Score']:.4f}\")\n",
    "    print('-' * 30)"
   ]
  },
  {
   "cell_type": "markdown",
   "id": "b028e169",
   "metadata": {
    "papermill": {
     "duration": 0.201139,
     "end_time": "2024-04-18T02:42:34.239105",
     "exception": false,
     "start_time": "2024-04-18T02:42:34.037966",
     "status": "completed"
    },
    "tags": []
   },
   "source": [
    "         "
   ]
  },
  {
   "cell_type": "markdown",
   "id": "b967cd79",
   "metadata": {
    "execution": {
     "iopub.execute_input": "2024-04-15T16:07:02.391486Z",
     "iopub.status.busy": "2024-04-15T16:07:02.390777Z",
     "iopub.status.idle": "2024-04-15T16:07:02.397339Z",
     "shell.execute_reply": "2024-04-15T16:07:02.396421Z",
     "shell.execute_reply.started": "2024-04-15T16:07:02.391456Z"
    },
    "papermill": {
     "duration": 0.203607,
     "end_time": "2024-04-18T02:42:34.645386",
     "exception": false,
     "start_time": "2024-04-18T02:42:34.441779",
     "status": "completed"
    },
    "tags": []
   },
   "source": [
    "# Keras Embeddings:"
   ]
  },
  {
   "cell_type": "code",
   "execution_count": 52,
   "id": "943d2a73",
   "metadata": {
    "execution": {
     "iopub.execute_input": "2024-04-18T02:42:35.054141Z",
     "iopub.status.busy": "2024-04-18T02:42:35.053778Z",
     "iopub.status.idle": "2024-04-18T02:42:35.060435Z",
     "shell.execute_reply": "2024-04-18T02:42:35.059667Z"
    },
    "papermill": {
     "duration": 0.216133,
     "end_time": "2024-04-18T02:42:35.062317",
     "exception": false,
     "start_time": "2024-04-18T02:42:34.846184",
     "status": "completed"
    },
    "tags": []
   },
   "outputs": [],
   "source": [
    "# from keras.preprocessing.text import one_hot\n",
    "from numpy import array\n",
    "from tensorflow.keras.preprocessing.text import one_hot\n",
    "from keras.utils import pad_sequences\n",
    "from keras.models import Sequential\n",
    "from keras.layers import Input\n",
    "from keras.layers import Dense\n",
    "from keras.layers import Flatten\n",
    "from keras.layers import Embedding\n",
    "from keras.models import Model"
   ]
  },
  {
   "cell_type": "code",
   "execution_count": 53,
   "id": "499770df",
   "metadata": {
    "execution": {
     "iopub.execute_input": "2024-04-18T02:42:35.481433Z",
     "iopub.status.busy": "2024-04-18T02:42:35.481076Z",
     "iopub.status.idle": "2024-04-18T02:42:35.486572Z",
     "shell.execute_reply": "2024-04-18T02:42:35.485593Z"
    },
    "papermill": {
     "duration": 0.220639,
     "end_time": "2024-04-18T02:42:35.488533",
     "exception": false,
     "start_time": "2024-04-18T02:42:35.267894",
     "status": "completed"
    },
    "tags": []
   },
   "outputs": [],
   "source": [
    "# A function to create our padded orders:\n",
    "def ready_to_be_embedded(text):\n",
    "    \n",
    "    # Identify our vocab size:\n",
    "    vocab_size = 5000\n",
    "    \n",
    "    # One hot representation:\n",
    "    onehot_represent = [one_hot(word, vocab_size) for word in text]\n",
    "    \n",
    "    # So, We will pad all comments to have the length of the maximum comment:\n",
    "    padded_comments = pad_sequences(onehot_represent, maxlen= 1, padding= 'post')\n",
    "    \n",
    "    return padded_comments"
   ]
  },
  {
   "cell_type": "code",
   "execution_count": 54,
   "id": "58974e4d",
   "metadata": {
    "execution": {
     "iopub.execute_input": "2024-04-18T02:42:35.898632Z",
     "iopub.status.busy": "2024-04-18T02:42:35.898251Z",
     "iopub.status.idle": "2024-04-18T02:42:42.066009Z",
     "shell.execute_reply": "2024-04-18T02:42:42.064999Z"
    },
    "papermill": {
     "duration": 6.375335,
     "end_time": "2024-04-18T02:42:42.068404",
     "exception": false,
     "start_time": "2024-04-18T02:42:35.693069",
     "status": "completed"
    },
    "tags": []
   },
   "outputs": [],
   "source": [
    "padded_comments = df_new['StudentComments'].apply(ready_to_be_embedded)"
   ]
  },
  {
   "cell_type": "code",
   "execution_count": 55,
   "id": "bae080b7",
   "metadata": {
    "execution": {
     "iopub.execute_input": "2024-04-18T02:42:42.524916Z",
     "iopub.status.busy": "2024-04-18T02:42:42.524574Z",
     "iopub.status.idle": "2024-04-18T02:42:42.529352Z",
     "shell.execute_reply": "2024-04-18T02:42:42.528493Z"
    },
    "papermill": {
     "duration": 0.209141,
     "end_time": "2024-04-18T02:42:42.531232",
     "exception": false,
     "start_time": "2024-04-18T02:42:42.322091",
     "status": "completed"
    },
    "tags": []
   },
   "outputs": [],
   "source": [
    "def flatten_extend(lists):\n",
    "    flat_list = []\n",
    "    for item in lists:\n",
    "        flat_list.extend(item)\n",
    "    return flat_list"
   ]
  },
  {
   "cell_type": "code",
   "execution_count": 56,
   "id": "9631cc4a",
   "metadata": {
    "execution": {
     "iopub.execute_input": "2024-04-18T02:42:42.935086Z",
     "iopub.status.busy": "2024-04-18T02:42:42.934360Z",
     "iopub.status.idle": "2024-04-18T02:42:43.603387Z",
     "shell.execute_reply": "2024-04-18T02:42:43.602586Z"
    },
    "papermill": {
     "duration": 0.874269,
     "end_time": "2024-04-18T02:42:43.605596",
     "exception": false,
     "start_time": "2024-04-18T02:42:42.731327",
     "status": "completed"
    },
    "tags": []
   },
   "outputs": [],
   "source": [
    "flatten_padded_comments = padded_comments.apply(flatten_extend)"
   ]
  },
  {
   "cell_type": "code",
   "execution_count": 57,
   "id": "3449ebbd",
   "metadata": {
    "execution": {
     "iopub.execute_input": "2024-04-18T02:42:44.009514Z",
     "iopub.status.busy": "2024-04-18T02:42:44.008713Z",
     "iopub.status.idle": "2024-04-18T02:42:44.136211Z",
     "shell.execute_reply": "2024-04-18T02:42:44.135492Z"
    },
    "papermill": {
     "duration": 0.330476,
     "end_time": "2024-04-18T02:42:44.138272",
     "exception": false,
     "start_time": "2024-04-18T02:42:43.807796",
     "status": "completed"
    },
    "tags": []
   },
   "outputs": [],
   "source": [
    "nn_input = pad_sequences(flatten_padded_comments, maxlen= 60, padding= 'post')"
   ]
  },
  {
   "cell_type": "code",
   "execution_count": 58,
   "id": "0c6b2e35",
   "metadata": {
    "execution": {
     "iopub.execute_input": "2024-04-18T02:42:44.544891Z",
     "iopub.status.busy": "2024-04-18T02:42:44.544143Z",
     "iopub.status.idle": "2024-04-18T02:42:44.550357Z",
     "shell.execute_reply": "2024-04-18T02:42:44.549516Z"
    },
    "papermill": {
     "duration": 0.211668,
     "end_time": "2024-04-18T02:42:44.552428",
     "exception": false,
     "start_time": "2024-04-18T02:42:44.340760",
     "status": "completed"
    },
    "tags": []
   },
   "outputs": [
    {
     "data": {
      "text/plain": [
       "array([2581,  293, 3436, 4566,  954,  524, 1028, 4566,    0,    0,    0,\n",
       "          0,    0,    0,    0,    0,    0,    0,    0,    0,    0,    0,\n",
       "          0,    0,    0,    0,    0,    0,    0,    0,    0,    0,    0,\n",
       "          0,    0,    0,    0,    0,    0,    0,    0,    0,    0,    0,\n",
       "          0,    0,    0,    0,    0,    0,    0,    0,    0,    0,    0,\n",
       "          0,    0,    0,    0,    0], dtype=int32)"
      ]
     },
     "execution_count": 58,
     "metadata": {},
     "output_type": "execute_result"
    }
   ],
   "source": [
    "nn_input[4]"
   ]
  },
  {
   "cell_type": "code",
   "execution_count": 59,
   "id": "7312b93f",
   "metadata": {
    "execution": {
     "iopub.execute_input": "2024-04-18T02:42:44.959893Z",
     "iopub.status.busy": "2024-04-18T02:42:44.959559Z",
     "iopub.status.idle": "2024-04-18T02:42:44.965936Z",
     "shell.execute_reply": "2024-04-18T02:42:44.964982Z"
    },
    "papermill": {
     "duration": 0.209263,
     "end_time": "2024-04-18T02:42:44.968229",
     "exception": false,
     "start_time": "2024-04-18T02:42:44.758966",
     "status": "completed"
    },
    "tags": []
   },
   "outputs": [
    {
     "data": {
      "text/plain": [
       "array([ 126, 4566,  349, 1068,    0, 3447,  293,  293, 3436,    0, 1068,\n",
       "       3827,  349, 4566, 1980, 1028,  349, 1068, 1028,    0, 1028, 4566,\n",
       "        524, 3827,  126, 4566,  954,    0,    0,    0,    0,    0,    0,\n",
       "          0,    0,    0,    0,    0,    0,    0,    0,    0,    0,    0,\n",
       "          0,    0,    0,    0,    0,    0,    0,    0,    0,    0,    0,\n",
       "          0,    0,    0,    0,    0], dtype=int32)"
      ]
     },
     "execution_count": 59,
     "metadata": {},
     "output_type": "execute_result"
    }
   ],
   "source": [
    "nn_input[73]"
   ]
  },
  {
   "cell_type": "code",
   "execution_count": 60,
   "id": "3fffce5e",
   "metadata": {
    "execution": {
     "iopub.execute_input": "2024-04-18T02:42:45.373296Z",
     "iopub.status.busy": "2024-04-18T02:42:45.372616Z",
     "iopub.status.idle": "2024-04-18T02:42:45.395797Z",
     "shell.execute_reply": "2024-04-18T02:42:45.394996Z"
    },
    "papermill": {
     "duration": 0.226871,
     "end_time": "2024-04-18T02:42:45.397708",
     "exception": false,
     "start_time": "2024-04-18T02:42:45.170837",
     "status": "completed"
    },
    "tags": []
   },
   "outputs": [],
   "source": [
    "from sklearn.model_selection import train_test_split\n",
    "X_train, X_test, y_train, y_test = train_test_split(nn_input,df_new['Score'], stratify=df_new['Score'])"
   ]
  },
  {
   "cell_type": "code",
   "execution_count": 61,
   "id": "0305b379",
   "metadata": {
    "execution": {
     "iopub.execute_input": "2024-04-18T02:42:45.805514Z",
     "iopub.status.busy": "2024-04-18T02:42:45.804820Z",
     "iopub.status.idle": "2024-04-18T02:44:43.132291Z",
     "shell.execute_reply": "2024-04-18T02:44:43.131415Z"
    },
    "papermill": {
     "duration": 117.533222,
     "end_time": "2024-04-18T02:44:43.134546",
     "exception": false,
     "start_time": "2024-04-18T02:42:45.601324",
     "status": "completed"
    },
    "tags": []
   },
   "outputs": [
    {
     "name": "stdout",
     "output_type": "stream",
     "text": [
      "Epoch 1/30\n",
      "\u001b[1m2250/2250\u001b[0m \u001b[32m━━━━━━━━━━━━━━━━━━━━\u001b[0m\u001b[37m\u001b[0m \u001b[1m5s\u001b[0m 2ms/step - accuracy: 0.4089 - loss: 1.0702 - val_accuracy: 0.4507 - val_loss: 1.0336\n",
      "Epoch 2/30\n",
      "\u001b[1m2250/2250\u001b[0m \u001b[32m━━━━━━━━━━━━━━━━━━━━\u001b[0m\u001b[37m\u001b[0m \u001b[1m4s\u001b[0m 2ms/step - accuracy: 0.4396 - loss: 1.0378 - val_accuracy: 0.4489 - val_loss: 1.0342\n",
      "Epoch 3/30\n",
      "\u001b[1m2250/2250\u001b[0m \u001b[32m━━━━━━━━━━━━━━━━━━━━\u001b[0m\u001b[37m\u001b[0m \u001b[1m4s\u001b[0m 2ms/step - accuracy: 0.4678 - loss: 1.0249 - val_accuracy: 0.4569 - val_loss: 1.0309\n",
      "Epoch 4/30\n",
      "\u001b[1m2250/2250\u001b[0m \u001b[32m━━━━━━━━━━━━━━━━━━━━\u001b[0m\u001b[37m\u001b[0m \u001b[1m4s\u001b[0m 2ms/step - accuracy: 0.4629 - loss: 1.0183 - val_accuracy: 0.4538 - val_loss: 1.0326\n",
      "Epoch 5/30\n",
      "\u001b[1m2250/2250\u001b[0m \u001b[32m━━━━━━━━━━━━━━━━━━━━\u001b[0m\u001b[37m\u001b[0m \u001b[1m4s\u001b[0m 2ms/step - accuracy: 0.4776 - loss: 1.0049 - val_accuracy: 0.4469 - val_loss: 1.0321\n",
      "Epoch 6/30\n",
      "\u001b[1m2250/2250\u001b[0m \u001b[32m━━━━━━━━━━━━━━━━━━━━\u001b[0m\u001b[37m\u001b[0m \u001b[1m4s\u001b[0m 2ms/step - accuracy: 0.4738 - loss: 1.0098 - val_accuracy: 0.4409 - val_loss: 1.0363\n",
      "Epoch 7/30\n",
      "\u001b[1m2250/2250\u001b[0m \u001b[32m━━━━━━━━━━━━━━━━━━━━\u001b[0m\u001b[37m\u001b[0m \u001b[1m4s\u001b[0m 2ms/step - accuracy: 0.4824 - loss: 0.9972 - val_accuracy: 0.4547 - val_loss: 1.0427\n",
      "Epoch 8/30\n",
      "\u001b[1m2250/2250\u001b[0m \u001b[32m━━━━━━━━━━━━━━━━━━━━\u001b[0m\u001b[37m\u001b[0m \u001b[1m4s\u001b[0m 2ms/step - accuracy: 0.4711 - loss: 1.0049 - val_accuracy: 0.4487 - val_loss: 1.0389\n",
      "Epoch 9/30\n",
      "\u001b[1m2250/2250\u001b[0m \u001b[32m━━━━━━━━━━━━━━━━━━━━\u001b[0m\u001b[37m\u001b[0m \u001b[1m4s\u001b[0m 2ms/step - accuracy: 0.4749 - loss: 1.0004 - val_accuracy: 0.4484 - val_loss: 1.0407\n",
      "Epoch 10/30\n",
      "\u001b[1m2250/2250\u001b[0m \u001b[32m━━━━━━━━━━━━━━━━━━━━\u001b[0m\u001b[37m\u001b[0m \u001b[1m4s\u001b[0m 2ms/step - accuracy: 0.4815 - loss: 0.9957 - val_accuracy: 0.4513 - val_loss: 1.0452\n",
      "Epoch 11/30\n",
      "\u001b[1m2250/2250\u001b[0m \u001b[32m━━━━━━━━━━━━━━━━━━━━\u001b[0m\u001b[37m\u001b[0m \u001b[1m4s\u001b[0m 2ms/step - accuracy: 0.4903 - loss: 0.9876 - val_accuracy: 0.4404 - val_loss: 1.0439\n",
      "Epoch 12/30\n",
      "\u001b[1m2250/2250\u001b[0m \u001b[32m━━━━━━━━━━━━━━━━━━━━\u001b[0m\u001b[37m\u001b[0m \u001b[1m4s\u001b[0m 2ms/step - accuracy: 0.4756 - loss: 1.0000 - val_accuracy: 0.4540 - val_loss: 1.0442\n",
      "Epoch 13/30\n",
      "\u001b[1m2250/2250\u001b[0m \u001b[32m━━━━━━━━━━━━━━━━━━━━\u001b[0m\u001b[37m\u001b[0m \u001b[1m4s\u001b[0m 2ms/step - accuracy: 0.4787 - loss: 0.9972 - val_accuracy: 0.4598 - val_loss: 1.0456\n",
      "Epoch 14/30\n",
      "\u001b[1m2250/2250\u001b[0m \u001b[32m━━━━━━━━━━━━━━━━━━━━\u001b[0m\u001b[37m\u001b[0m \u001b[1m4s\u001b[0m 2ms/step - accuracy: 0.4790 - loss: 0.9972 - val_accuracy: 0.4469 - val_loss: 1.0505\n",
      "Epoch 15/30\n",
      "\u001b[1m2250/2250\u001b[0m \u001b[32m━━━━━━━━━━━━━━━━━━━━\u001b[0m\u001b[37m\u001b[0m \u001b[1m4s\u001b[0m 2ms/step - accuracy: 0.4788 - loss: 0.9950 - val_accuracy: 0.4473 - val_loss: 1.0472\n",
      "Epoch 16/30\n",
      "\u001b[1m2250/2250\u001b[0m \u001b[32m━━━━━━━━━━━━━━━━━━━━\u001b[0m\u001b[37m\u001b[0m \u001b[1m4s\u001b[0m 2ms/step - accuracy: 0.4826 - loss: 0.9896 - val_accuracy: 0.4558 - val_loss: 1.0494\n",
      "Epoch 17/30\n",
      "\u001b[1m2250/2250\u001b[0m \u001b[32m━━━━━━━━━━━━━━━━━━━━\u001b[0m\u001b[37m\u001b[0m \u001b[1m4s\u001b[0m 2ms/step - accuracy: 0.4786 - loss: 0.9940 - val_accuracy: 0.4484 - val_loss: 1.0506\n",
      "Epoch 18/30\n",
      "\u001b[1m2250/2250\u001b[0m \u001b[32m━━━━━━━━━━━━━━━━━━━━\u001b[0m\u001b[37m\u001b[0m \u001b[1m4s\u001b[0m 2ms/step - accuracy: 0.4797 - loss: 0.9924 - val_accuracy: 0.4567 - val_loss: 1.0505\n",
      "Epoch 19/30\n",
      "\u001b[1m2250/2250\u001b[0m \u001b[32m━━━━━━━━━━━━━━━━━━━━\u001b[0m\u001b[37m\u001b[0m \u001b[1m4s\u001b[0m 2ms/step - accuracy: 0.4858 - loss: 0.9912 - val_accuracy: 0.4573 - val_loss: 1.0538\n",
      "Epoch 20/30\n",
      "\u001b[1m2250/2250\u001b[0m \u001b[32m━━━━━━━━━━━━━━━━━━━━\u001b[0m\u001b[37m\u001b[0m \u001b[1m4s\u001b[0m 2ms/step - accuracy: 0.4785 - loss: 0.9887 - val_accuracy: 0.4449 - val_loss: 1.0543\n",
      "Epoch 21/30\n",
      "\u001b[1m2250/2250\u001b[0m \u001b[32m━━━━━━━━━━━━━━━━━━━━\u001b[0m\u001b[37m\u001b[0m \u001b[1m4s\u001b[0m 2ms/step - accuracy: 0.4879 - loss: 0.9866 - val_accuracy: 0.4520 - val_loss: 1.0563\n",
      "Epoch 22/30\n",
      "\u001b[1m2250/2250\u001b[0m \u001b[32m━━━━━━━━━━━━━━━━━━━━\u001b[0m\u001b[37m\u001b[0m \u001b[1m4s\u001b[0m 2ms/step - accuracy: 0.4881 - loss: 0.9838 - val_accuracy: 0.4376 - val_loss: 1.0561\n",
      "Epoch 23/30\n",
      "\u001b[1m2250/2250\u001b[0m \u001b[32m━━━━━━━━━━━━━━━━━━━━\u001b[0m\u001b[37m\u001b[0m \u001b[1m4s\u001b[0m 2ms/step - accuracy: 0.4867 - loss: 0.9832 - val_accuracy: 0.4531 - val_loss: 1.0549\n",
      "Epoch 24/30\n",
      "\u001b[1m2250/2250\u001b[0m \u001b[32m━━━━━━━━━━━━━━━━━━━━\u001b[0m\u001b[37m\u001b[0m \u001b[1m4s\u001b[0m 2ms/step - accuracy: 0.4903 - loss: 0.9852 - val_accuracy: 0.4467 - val_loss: 1.0592\n",
      "Epoch 25/30\n",
      "\u001b[1m2250/2250\u001b[0m \u001b[32m━━━━━━━━━━━━━━━━━━━━\u001b[0m\u001b[37m\u001b[0m \u001b[1m4s\u001b[0m 2ms/step - accuracy: 0.4774 - loss: 0.9943 - val_accuracy: 0.4438 - val_loss: 1.0564\n",
      "Epoch 26/30\n",
      "\u001b[1m2250/2250\u001b[0m \u001b[32m━━━━━━━━━━━━━━━━━━━━\u001b[0m\u001b[37m\u001b[0m \u001b[1m4s\u001b[0m 2ms/step - accuracy: 0.4844 - loss: 0.9839 - val_accuracy: 0.4429 - val_loss: 1.0683\n",
      "Epoch 27/30\n",
      "\u001b[1m2250/2250\u001b[0m \u001b[32m━━━━━━━━━━━━━━━━━━━━\u001b[0m\u001b[37m\u001b[0m \u001b[1m4s\u001b[0m 2ms/step - accuracy: 0.4787 - loss: 0.9970 - val_accuracy: 0.4420 - val_loss: 1.0605\n",
      "Epoch 28/30\n",
      "\u001b[1m2250/2250\u001b[0m \u001b[32m━━━━━━━━━━━━━━━━━━━━\u001b[0m\u001b[37m\u001b[0m \u001b[1m4s\u001b[0m 2ms/step - accuracy: 0.4754 - loss: 0.9903 - val_accuracy: 0.4398 - val_loss: 1.0577\n",
      "Epoch 29/30\n",
      "\u001b[1m2250/2250\u001b[0m \u001b[32m━━━━━━━━━━━━━━━━━━━━\u001b[0m\u001b[37m\u001b[0m \u001b[1m4s\u001b[0m 2ms/step - accuracy: 0.4781 - loss: 0.9940 - val_accuracy: 0.4500 - val_loss: 1.0586\n",
      "Epoch 30/30\n",
      "\u001b[1m2250/2250\u001b[0m \u001b[32m━━━━━━━━━━━━━━━━━━━━\u001b[0m\u001b[37m\u001b[0m \u001b[1m4s\u001b[0m 2ms/step - accuracy: 0.4840 - loss: 0.9911 - val_accuracy: 0.4442 - val_loss: 1.0600\n"
     ]
    }
   ],
   "source": [
    "# Define model architecture\n",
    "model = Sequential([\n",
    "    Embedding(5000, 8),\n",
    "    Flatten(),\n",
    "    Dense(3, activation='softmax')\n",
    "])\n",
    "\n",
    "# Compile model\n",
    "model.compile(optimizer='adam', loss='sparse_categorical_crossentropy', metrics=['accuracy'])\n",
    "history=model.fit(X_train, y_train, epochs=30, batch_size=8, validation_split=.2)"
   ]
  },
  {
   "cell_type": "markdown",
   "id": "13206551",
   "metadata": {
    "papermill": {
     "duration": 0.370364,
     "end_time": "2024-04-18T02:44:43.957741",
     "exception": false,
     "start_time": "2024-04-18T02:44:43.587377",
     "status": "completed"
    },
    "tags": []
   },
   "source": [
    "      "
   ]
  },
  {
   "cell_type": "code",
   "execution_count": 62,
   "id": "66884abc",
   "metadata": {
    "execution": {
     "iopub.execute_input": "2024-04-18T02:44:44.670300Z",
     "iopub.status.busy": "2024-04-18T02:44:44.669530Z",
     "iopub.status.idle": "2024-04-18T02:46:49.249029Z",
     "shell.execute_reply": "2024-04-18T02:46:49.247812Z"
    },
    "papermill": {
     "duration": 125.34684,
     "end_time": "2024-04-18T02:46:49.661918",
     "exception": false,
     "start_time": "2024-04-18T02:44:44.315078",
     "status": "completed"
    },
    "tags": []
   },
   "outputs": [
    {
     "name": "stdout",
     "output_type": "stream",
     "text": [
      "Classifier: Logistic Regression\n",
      "              precision    recall  f1-score   support\n",
      "\n",
      "           0       0.48      0.45      0.46      2500\n",
      "           1       0.38      0.41      0.39      2500\n",
      "           2       0.41      0.40      0.40      2500\n",
      "\n",
      "    accuracy                           0.42      7500\n",
      "   macro avg       0.42      0.42      0.42      7500\n",
      "weighted avg       0.42      0.42      0.42      7500\n",
      "\n",
      "------------------------------\n",
      "Classifier: Support Vector Machine\n",
      "              precision    recall  f1-score   support\n",
      "\n",
      "           0       0.49      0.48      0.49      2500\n",
      "           1       0.40      0.51      0.45      2500\n",
      "           2       0.49      0.37      0.42      2500\n",
      "\n",
      "    accuracy                           0.45      7500\n",
      "   macro avg       0.46      0.45      0.45      7500\n",
      "weighted avg       0.46      0.45      0.45      7500\n",
      "\n",
      "------------------------------\n",
      "Classifier: Random Forest\n",
      "              precision    recall  f1-score   support\n",
      "\n",
      "           0       0.54      0.49      0.51      2500\n",
      "           1       0.44      0.16      0.23      2500\n",
      "           2       0.44      0.76      0.56      2500\n",
      "\n",
      "    accuracy                           0.47      7500\n",
      "   macro avg       0.47      0.47      0.43      7500\n",
      "weighted avg       0.47      0.47      0.43      7500\n",
      "\n",
      "------------------------------\n",
      "Classifier: Gradient Boosting\n",
      "              precision    recall  f1-score   support\n",
      "\n",
      "           0       0.52      0.49      0.50      2500\n",
      "           1       0.40      0.47      0.43      2500\n",
      "           2       0.49      0.43      0.46      2500\n",
      "\n",
      "    accuracy                           0.46      7500\n",
      "   macro avg       0.47      0.46      0.47      7500\n",
      "weighted avg       0.47      0.46      0.47      7500\n",
      "\n",
      "------------------------------\n",
      "Classifier: Neural Network\n",
      "              precision    recall  f1-score   support\n",
      "\n",
      "           0       0.51      0.38      0.43      2500\n",
      "           1       0.37      0.19      0.26      2500\n",
      "           2       0.42      0.73      0.53      2500\n",
      "\n",
      "    accuracy                           0.43      7500\n",
      "   macro avg       0.44      0.43      0.41      7500\n",
      "weighted avg       0.44      0.43      0.41      7500\n",
      "\n",
      "------------------------------\n",
      "Comparison of different classifiers:\n",
      "Logistic Regression:\n",
      "Accuracy: 0.4192\n",
      "F1 Score: 0.4192\n",
      "------------------------------\n",
      "Support Vector Machine:\n",
      "Accuracy: 0.4523\n",
      "F1 Score: 0.4523\n",
      "------------------------------\n",
      "Random Forest:\n",
      "Accuracy: 0.4692\n",
      "F1 Score: 0.4692\n",
      "------------------------------\n",
      "Gradient Boosting:\n",
      "Accuracy: 0.4639\n",
      "F1 Score: 0.4639\n",
      "------------------------------\n",
      "Neural Network:\n",
      "Accuracy: 0.4348\n",
      "F1 Score: 0.4348\n",
      "------------------------------\n"
     ]
    },
    {
     "name": "stderr",
     "output_type": "stream",
     "text": [
      "/opt/conda/lib/python3.10/site-packages/sklearn/neural_network/_multilayer_perceptron.py:686: ConvergenceWarning: Stochastic Optimizer: Maximum iterations (200) reached and the optimization hasn't converged yet.\n",
      "  warnings.warn(\n"
     ]
    }
   ],
   "source": [
    "import numpy as np\n",
    "from sklearn.model_selection import train_test_split\n",
    "from sklearn.preprocessing import StandardScaler\n",
    "from sklearn.metrics import accuracy_score, f1_score, classification_report\n",
    "from sklearn.linear_model import LogisticRegression\n",
    "from sklearn.svm import SVC\n",
    "from sklearn.ensemble import RandomForestClassifier, GradientBoostingClassifier\n",
    "from sklearn.neural_network import MLPClassifier\n",
    "\n",
    "\n",
    "# Step 2: Standardize the data\n",
    "scaler = StandardScaler()\n",
    "X_train = scaler.fit_transform(X_train)\n",
    "X_test = scaler.transform(X_test)\n",
    "\n",
    "# Step 3: Train and evaluate different classifiers\n",
    "classifiers = {\n",
    "    'Logistic Regression': LogisticRegression(),\n",
    "    'Support Vector Machine': SVC(),\n",
    "    'Random Forest': RandomForestClassifier(),\n",
    "    'Gradient Boosting': GradientBoostingClassifier(),\n",
    "    'Neural Network': MLPClassifier()\n",
    "}\n",
    "\n",
    "results = {}\n",
    "\n",
    "for name, clf in classifiers.items():\n",
    "    # Train the classifier\n",
    "    clf.fit(X_train, y_train)\n",
    "    \n",
    "    # Make predictions on the test set\n",
    "    y_pred = clf.predict(X_test)\n",
    "    \n",
    "    # Evaluate performance\n",
    "    accuracy = accuracy_score(y_test, y_pred)\n",
    "    f1 = f1_score(y_test, y_pred, average='micro')\n",
    "    \n",
    "    # Store results\n",
    "    results[name] = {\n",
    "        'Accuracy': accuracy,\n",
    "        'F1 Score': f1\n",
    "    }\n",
    "    \n",
    "    # Print a classification report\n",
    "    print(f\"Classifier: {name}\")\n",
    "    print(classification_report(y_test, y_pred))\n",
    "    print('-' * 30)\n",
    "\n",
    "# Compare results across different classifiers\n",
    "print(\"Comparison of different classifiers:\")\n",
    "for name, metrics in results.items():\n",
    "    print(f\"{name}:\")\n",
    "    print(f\"Accuracy: {metrics['Accuracy']:.4f}\")\n",
    "    print(f\"F1 Score: {metrics['F1 Score']:.4f}\")\n",
    "    print('-' * 30)"
   ]
  },
  {
   "cell_type": "markdown",
   "id": "f343a109",
   "metadata": {
    "papermill": {
     "duration": 0.373218,
     "end_time": "2024-04-18T02:46:50.398788",
     "exception": false,
     "start_time": "2024-04-18T02:46:50.025570",
     "status": "completed"
    },
    "tags": []
   },
   "source": [
    "         "
   ]
  },
  {
   "cell_type": "markdown",
   "id": "830cd26d",
   "metadata": {
    "papermill": {
     "duration": 0.359738,
     "end_time": "2024-04-18T02:46:51.179856",
     "exception": false,
     "start_time": "2024-04-18T02:46:50.820118",
     "status": "completed"
    },
    "tags": []
   },
   "source": [
    "# TextBlob:"
   ]
  },
  {
   "cell_type": "code",
   "execution_count": 63,
   "id": "7d6745e0",
   "metadata": {
    "execution": {
     "iopub.execute_input": "2024-04-18T02:46:51.908367Z",
     "iopub.status.busy": "2024-04-18T02:46:51.907636Z",
     "iopub.status.idle": "2024-04-18T02:46:51.950742Z",
     "shell.execute_reply": "2024-04-18T02:46:51.949902Z"
    },
    "papermill": {
     "duration": 0.410616,
     "end_time": "2024-04-18T02:46:51.952826",
     "exception": false,
     "start_time": "2024-04-18T02:46:51.542210",
     "status": "completed"
    },
    "tags": []
   },
   "outputs": [],
   "source": [
    "from textblob import TextBlob"
   ]
  },
  {
   "cell_type": "code",
   "execution_count": 64,
   "id": "42575a08",
   "metadata": {
    "execution": {
     "iopub.execute_input": "2024-04-18T02:46:52.689104Z",
     "iopub.status.busy": "2024-04-18T02:46:52.688274Z",
     "iopub.status.idle": "2024-04-18T02:46:52.693306Z",
     "shell.execute_reply": "2024-04-18T02:46:52.692440Z"
    },
    "papermill": {
     "duration": 0.375094,
     "end_time": "2024-04-18T02:46:52.695192",
     "exception": false,
     "start_time": "2024-04-18T02:46:52.320098",
     "status": "completed"
    },
    "tags": []
   },
   "outputs": [],
   "source": [
    "# Create a function to get the subjectivity:\n",
    "def getSubjectivity(text):\n",
    "    return TextBlob(text).sentiment.subjectivity\n",
    "\n",
    "# Create a function to get the polarity:\n",
    "def getPolarity(text):\n",
    "    return TextBlob(text).sentiment.polarity"
   ]
  },
  {
   "cell_type": "code",
   "execution_count": 65,
   "id": "407cf3b3",
   "metadata": {
    "execution": {
     "iopub.execute_input": "2024-04-18T02:46:53.467317Z",
     "iopub.status.busy": "2024-04-18T02:46:53.466393Z",
     "iopub.status.idle": "2024-04-18T02:47:01.671116Z",
     "shell.execute_reply": "2024-04-18T02:47:01.670319Z"
    },
    "papermill": {
     "duration": 8.61594,
     "end_time": "2024-04-18T02:47:01.673289",
     "exception": false,
     "start_time": "2024-04-18T02:46:53.057349",
     "status": "completed"
    },
    "tags": []
   },
   "outputs": [],
   "source": [
    "#Create two new columns ‘Subjectivity’ & ‘Polarity’\n",
    "df_new['TextBlob_Subjectivity'] = df_new['StudentComments'].apply(getSubjectivity)\n",
    "df_new['TextBlob_Polarity'] = df_new['StudentComments'].apply(getPolarity)"
   ]
  },
  {
   "cell_type": "code",
   "execution_count": 66,
   "id": "8778b414",
   "metadata": {
    "execution": {
     "iopub.execute_input": "2024-04-18T02:47:02.391882Z",
     "iopub.status.busy": "2024-04-18T02:47:02.391504Z",
     "iopub.status.idle": "2024-04-18T02:47:02.404627Z",
     "shell.execute_reply": "2024-04-18T02:47:02.403783Z"
    },
    "papermill": {
     "duration": 0.373061,
     "end_time": "2024-04-18T02:47:02.406503",
     "exception": false,
     "start_time": "2024-04-18T02:47:02.033442",
     "status": "completed"
    },
    "tags": []
   },
   "outputs": [
    {
     "data": {
      "text/html": [
       "<div>\n",
       "<style scoped>\n",
       "    .dataframe tbody tr th:only-of-type {\n",
       "        vertical-align: middle;\n",
       "    }\n",
       "\n",
       "    .dataframe tbody tr th {\n",
       "        vertical-align: top;\n",
       "    }\n",
       "\n",
       "    .dataframe thead th {\n",
       "        text-align: right;\n",
       "    }\n",
       "</style>\n",
       "<table border=\"1\" class=\"dataframe\">\n",
       "  <thead>\n",
       "    <tr style=\"text-align: right;\">\n",
       "      <th></th>\n",
       "      <th>StudentComments</th>\n",
       "      <th>Score</th>\n",
       "      <th>TextBlob_Subjectivity</th>\n",
       "      <th>TextBlob_Polarity</th>\n",
       "    </tr>\n",
       "  </thead>\n",
       "  <tbody>\n",
       "    <tr>\n",
       "      <th>0</th>\n",
       "      <td>sir always good</td>\n",
       "      <td>2</td>\n",
       "      <td>0.6</td>\n",
       "      <td>0.7</td>\n",
       "    </tr>\n",
       "    <tr>\n",
       "      <th>1</th>\n",
       "      <td>good</td>\n",
       "      <td>1</td>\n",
       "      <td>0.6</td>\n",
       "      <td>0.7</td>\n",
       "    </tr>\n",
       "    <tr>\n",
       "      <th>2</th>\n",
       "      <td>one good faculty aiub</td>\n",
       "      <td>2</td>\n",
       "      <td>0.6</td>\n",
       "      <td>0.7</td>\n",
       "    </tr>\n",
       "    <tr>\n",
       "      <th>3</th>\n",
       "      <td>have not much enjoy class</td>\n",
       "      <td>1</td>\n",
       "      <td>0.5</td>\n",
       "      <td>-0.2</td>\n",
       "    </tr>\n",
       "    <tr>\n",
       "      <th>4</th>\n",
       "      <td>moderate</td>\n",
       "      <td>0</td>\n",
       "      <td>0.7</td>\n",
       "      <td>0.0</td>\n",
       "    </tr>\n",
       "    <tr>\n",
       "      <th>5</th>\n",
       "      <td>good</td>\n",
       "      <td>0</td>\n",
       "      <td>0.6</td>\n",
       "      <td>0.7</td>\n",
       "    </tr>\n",
       "    <tr>\n",
       "      <th>6</th>\n",
       "      <td>good</td>\n",
       "      <td>1</td>\n",
       "      <td>0.6</td>\n",
       "      <td>0.7</td>\n",
       "    </tr>\n",
       "    <tr>\n",
       "      <th>7</th>\n",
       "      <td>good</td>\n",
       "      <td>1</td>\n",
       "      <td>0.6</td>\n",
       "      <td>0.7</td>\n",
       "    </tr>\n",
       "    <tr>\n",
       "      <th>8</th>\n",
       "      <td>moderate</td>\n",
       "      <td>1</td>\n",
       "      <td>0.7</td>\n",
       "      <td>0.0</td>\n",
       "    </tr>\n",
       "    <tr>\n",
       "      <th>9</th>\n",
       "      <td>good faculty</td>\n",
       "      <td>2</td>\n",
       "      <td>0.6</td>\n",
       "      <td>0.7</td>\n",
       "    </tr>\n",
       "  </tbody>\n",
       "</table>\n",
       "</div>"
      ],
      "text/plain": [
       "             StudentComments  Score  TextBlob_Subjectivity  TextBlob_Polarity\n",
       "0            sir always good      2                    0.6                0.7\n",
       "1                       good      1                    0.6                0.7\n",
       "2      one good faculty aiub      2                    0.6                0.7\n",
       "3  have not much enjoy class      1                    0.5               -0.2\n",
       "4                   moderate      0                    0.7                0.0\n",
       "5                       good      0                    0.6                0.7\n",
       "6                       good      1                    0.6                0.7\n",
       "7                       good      1                    0.6                0.7\n",
       "8                   moderate      1                    0.7                0.0\n",
       "9               good faculty      2                    0.6                0.7"
      ]
     },
     "execution_count": 66,
     "metadata": {},
     "output_type": "execute_result"
    }
   ],
   "source": [
    "df_new.head(10)"
   ]
  },
  {
   "cell_type": "code",
   "execution_count": 67,
   "id": "6e5a6810",
   "metadata": {
    "execution": {
     "iopub.execute_input": "2024-04-18T02:47:03.122183Z",
     "iopub.status.busy": "2024-04-18T02:47:03.121294Z",
     "iopub.status.idle": "2024-04-18T02:47:03.126392Z",
     "shell.execute_reply": "2024-04-18T02:47:03.125467Z"
    },
    "papermill": {
     "duration": 0.362702,
     "end_time": "2024-04-18T02:47:03.128265",
     "exception": false,
     "start_time": "2024-04-18T02:47:02.765563",
     "status": "completed"
    },
    "tags": []
   },
   "outputs": [],
   "source": [
    "def getScore(polarity):\n",
    "    if polarity < 0:\n",
    "        return 0\n",
    "    elif polarity == 0:\n",
    "        return 1\n",
    "    else:\n",
    "        return 2"
   ]
  },
  {
   "cell_type": "code",
   "execution_count": 68,
   "id": "e917f1e1",
   "metadata": {
    "execution": {
     "iopub.execute_input": "2024-04-18T02:47:03.849426Z",
     "iopub.status.busy": "2024-04-18T02:47:03.849035Z",
     "iopub.status.idle": "2024-04-18T02:47:03.877729Z",
     "shell.execute_reply": "2024-04-18T02:47:03.876903Z"
    },
    "papermill": {
     "duration": 0.391205,
     "end_time": "2024-04-18T02:47:03.879647",
     "exception": false,
     "start_time": "2024-04-18T02:47:03.488442",
     "status": "completed"
    },
    "tags": []
   },
   "outputs": [],
   "source": [
    "TextBlob_Scores = df_new['TextBlob_Polarity'].apply(getScore)"
   ]
  },
  {
   "cell_type": "code",
   "execution_count": 69,
   "id": "d649b3a8",
   "metadata": {
    "execution": {
     "iopub.execute_input": "2024-04-18T02:47:04.595394Z",
     "iopub.status.busy": "2024-04-18T02:47:04.595042Z",
     "iopub.status.idle": "2024-04-18T02:47:04.599507Z",
     "shell.execute_reply": "2024-04-18T02:47:04.598634Z"
    },
    "papermill": {
     "duration": 0.364868,
     "end_time": "2024-04-18T02:47:04.601416",
     "exception": false,
     "start_time": "2024-04-18T02:47:04.236548",
     "status": "completed"
    },
    "tags": []
   },
   "outputs": [],
   "source": [
    "from sklearn.metrics import confusion_matrix\n",
    "from sklearn.metrics import classification_report\n",
    "from sklearn.metrics import accuracy_score"
   ]
  },
  {
   "cell_type": "code",
   "execution_count": 70,
   "id": "1e1b6008",
   "metadata": {
    "execution": {
     "iopub.execute_input": "2024-04-18T02:47:05.373626Z",
     "iopub.status.busy": "2024-04-18T02:47:05.372983Z",
     "iopub.status.idle": "2024-04-18T02:47:05.380731Z",
     "shell.execute_reply": "2024-04-18T02:47:05.379632Z"
    },
    "papermill": {
     "duration": 0.366419,
     "end_time": "2024-04-18T02:47:05.382894",
     "exception": false,
     "start_time": "2024-04-18T02:47:05.016475",
     "status": "completed"
    },
    "tags": []
   },
   "outputs": [
    {
     "name": "stdout",
     "output_type": "stream",
     "text": [
      "The percentage of accurate predictions is:  0.41986666666666667\n"
     ]
    }
   ],
   "source": [
    "# find number of accurate predictions\n",
    "accurate_predictions = accuracy_score(df_new['Score'], TextBlob_Scores)\n",
    "print(\"The percentage of accurate predictions is: \", accurate_predictions)"
   ]
  },
  {
   "cell_type": "code",
   "execution_count": 71,
   "id": "e9bdee92",
   "metadata": {
    "execution": {
     "iopub.execute_input": "2024-04-18T02:47:06.107731Z",
     "iopub.status.busy": "2024-04-18T02:47:06.107358Z",
     "iopub.status.idle": "2024-04-18T02:47:06.129033Z",
     "shell.execute_reply": "2024-04-18T02:47:06.127945Z"
    },
    "papermill": {
     "duration": 0.378518,
     "end_time": "2024-04-18T02:47:06.130903",
     "exception": false,
     "start_time": "2024-04-18T02:47:05.752385",
     "status": "completed"
    },
    "tags": []
   },
   "outputs": [
    {
     "name": "stdout",
     "output_type": "stream",
     "text": [
      "              precision    recall  f1-score   support\n",
      "\n",
      "           0       0.67      0.20      0.31     10000\n",
      "           1       0.34      0.19      0.24     10000\n",
      "           2       0.41      0.87      0.55     10000\n",
      "\n",
      "    accuracy                           0.42     30000\n",
      "   macro avg       0.47      0.42      0.37     30000\n",
      "weighted avg       0.47      0.42      0.37     30000\n",
      "\n"
     ]
    }
   ],
   "source": [
    "# Creating a classification report:\n",
    "print(classification_report(df_new['Score'], TextBlob_Scores))"
   ]
  },
  {
   "cell_type": "code",
   "execution_count": 72,
   "id": "1f91877a",
   "metadata": {
    "execution": {
     "iopub.execute_input": "2024-04-18T02:47:06.845847Z",
     "iopub.status.busy": "2024-04-18T02:47:06.845509Z",
     "iopub.status.idle": "2024-04-18T02:47:06.852934Z",
     "shell.execute_reply": "2024-04-18T02:47:06.852165Z"
    },
    "papermill": {
     "duration": 0.368701,
     "end_time": "2024-04-18T02:47:06.854967",
     "exception": false,
     "start_time": "2024-04-18T02:47:06.486266",
     "status": "completed"
    },
    "tags": []
   },
   "outputs": [],
   "source": [
    "# Creating a confusion matrix,which compares the y_test and y_pred:\n",
    "cm = confusion_matrix(df_new['Score'], TextBlob_Scores)"
   ]
  },
  {
   "cell_type": "code",
   "execution_count": 73,
   "id": "e1e1b8ce",
   "metadata": {
    "execution": {
     "iopub.execute_input": "2024-04-18T02:47:07.632881Z",
     "iopub.status.busy": "2024-04-18T02:47:07.632541Z",
     "iopub.status.idle": "2024-04-18T02:47:07.875932Z",
     "shell.execute_reply": "2024-04-18T02:47:07.874960Z"
    },
    "papermill": {
     "duration": 0.656795,
     "end_time": "2024-04-18T02:47:07.877900",
     "exception": false,
     "start_time": "2024-04-18T02:47:07.221105",
     "status": "completed"
    },
    "tags": []
   },
   "outputs": [
    {
     "data": {
      "image/png": "[encoded data removed]",
      "text/plain": [
       "<Figure size 500x400 with 2 Axes>"
      ]
     },
     "metadata": {},
     "output_type": "display_data"
    }
   ],
   "source": [
    "# Creating a dataframe for a array-formatted Confusion matrix,so it will be easy for plotting.\n",
    "cm_df = pd.DataFrame(cm,\n",
    "                     index = ['0','1','2'], \n",
    "                     columns = ['0','1','2'])\n",
    "\n",
    "#Plotting the confusion matrix\n",
    "plt.figure(figsize=(5,4))\n",
    "sns.heatmap(cm_df, annot=True)\n",
    "plt.title('Confusion Matrix')\n",
    "plt.ylabel('Actal Values')\n",
    "plt.xlabel('Predicted Values')\n",
    "plt.show()"
   ]
  },
  {
   "cell_type": "markdown",
   "id": "c461b10c",
   "metadata": {
    "papermill": {
     "duration": 0.354874,
     "end_time": "2024-04-18T02:47:08.589004",
     "exception": false,
     "start_time": "2024-04-18T02:47:08.234130",
     "status": "completed"
    },
    "tags": []
   },
   "source": [
    "     "
   ]
  },
  {
   "cell_type": "markdown",
   "id": "7341c651",
   "metadata": {
    "papermill": {
     "duration": 0.354651,
     "end_time": "2024-04-18T02:47:09.301980",
     "exception": false,
     "start_time": "2024-04-18T02:47:08.947329",
     "status": "completed"
    },
    "tags": []
   },
   "source": [
    "# VADER:"
   ]
  },
  {
   "cell_type": "code",
   "execution_count": 74,
   "id": "de37fa06",
   "metadata": {
    "execution": {
     "iopub.execute_input": "2024-04-18T02:47:10.020007Z",
     "iopub.status.busy": "2024-04-18T02:47:10.019236Z",
     "iopub.status.idle": "2024-04-18T02:47:10.091497Z",
     "shell.execute_reply": "2024-04-18T02:47:10.090385Z"
    },
    "papermill": {
     "duration": 0.435146,
     "end_time": "2024-04-18T02:47:10.093493",
     "exception": false,
     "start_time": "2024-04-18T02:47:09.658347",
     "status": "completed"
    },
    "tags": []
   },
   "outputs": [
    {
     "name": "stdout",
     "output_type": "stream",
     "text": [
      "[nltk_data] Downloading package vader_lexicon to\n",
      "[nltk_data]     /usr/share/nltk_data...\n",
      "[nltk_data]   Package vader_lexicon is already up-to-date!\n"
     ]
    },
    {
     "name": "stderr",
     "output_type": "stream",
     "text": [
      "/opt/conda/lib/python3.10/site-packages/nltk/twitter/__init__.py:20: UserWarning: The twython library has not been installed. Some functionality from the twitter package will not be available.\n",
      "  warnings.warn(\"The twython library has not been installed. \"\n"
     ]
    }
   ],
   "source": [
    "nltk.download('vader_lexicon')\n",
    "from nltk.sentiment.vader import SentimentIntensityAnalyzer\n",
    "\n",
    "analyzer = SentimentIntensityAnalyzer()"
   ]
  },
  {
   "cell_type": "code",
   "execution_count": 75,
   "id": "4ed726e5",
   "metadata": {
    "execution": {
     "iopub.execute_input": "2024-04-18T02:47:10.825647Z",
     "iopub.status.busy": "2024-04-18T02:47:10.825253Z",
     "iopub.status.idle": "2024-04-18T02:47:10.829773Z",
     "shell.execute_reply": "2024-04-18T02:47:10.828979Z"
    },
    "papermill": {
     "duration": 0.36799,
     "end_time": "2024-04-18T02:47:10.831690",
     "exception": false,
     "start_time": "2024-04-18T02:47:10.463700",
     "status": "completed"
    },
    "tags": []
   },
   "outputs": [],
   "source": [
    "def getVader(text):\n",
    "    return analyzer.polarity_scores(text)"
   ]
  },
  {
   "cell_type": "code",
   "execution_count": 76,
   "id": "42eabf91",
   "metadata": {
    "execution": {
     "iopub.execute_input": "2024-04-18T02:47:11.595966Z",
     "iopub.status.busy": "2024-04-18T02:47:11.595034Z",
     "iopub.status.idle": "2024-04-18T02:47:13.434492Z",
     "shell.execute_reply": "2024-04-18T02:47:13.433493Z"
    },
    "papermill": {
     "duration": 2.200819,
     "end_time": "2024-04-18T02:47:13.437319",
     "exception": false,
     "start_time": "2024-04-18T02:47:11.236500",
     "status": "completed"
    },
    "tags": []
   },
   "outputs": [],
   "source": [
    "vaderDict = df_new['StudentComments'].apply(getVader)"
   ]
  },
  {
   "cell_type": "code",
   "execution_count": 77,
   "id": "f364ed51",
   "metadata": {
    "execution": {
     "iopub.execute_input": "2024-04-18T02:47:14.174106Z",
     "iopub.status.busy": "2024-04-18T02:47:14.173747Z",
     "iopub.status.idle": "2024-04-18T02:47:14.183197Z",
     "shell.execute_reply": "2024-04-18T02:47:14.182237Z"
    },
    "papermill": {
     "duration": 0.368312,
     "end_time": "2024-04-18T02:47:14.185314",
     "exception": false,
     "start_time": "2024-04-18T02:47:13.817002",
     "status": "completed"
    },
    "tags": []
   },
   "outputs": [
    {
     "data": {
      "text/plain": [
       "0    {'neg': 0.0, 'neu': 0.408, 'pos': 0.592, 'comp...\n",
       "1    {'neg': 0.0, 'neu': 0.0, 'pos': 1.0, 'compound...\n",
       "2    {'neg': 0.0, 'neu': 0.508, 'pos': 0.492, 'comp...\n",
       "3    {'neg': 0.396, 'neu': 0.604, 'pos': 0.0, 'comp...\n",
       "4    {'neg': 0.0, 'neu': 1.0, 'pos': 0.0, 'compound...\n",
       "5    {'neg': 0.0, 'neu': 0.0, 'pos': 1.0, 'compound...\n",
       "6    {'neg': 0.0, 'neu': 0.0, 'pos': 1.0, 'compound...\n",
       "7    {'neg': 0.0, 'neu': 0.0, 'pos': 1.0, 'compound...\n",
       "8    {'neg': 0.0, 'neu': 1.0, 'pos': 0.0, 'compound...\n",
       "9    {'neg': 0.0, 'neu': 0.256, 'pos': 0.744, 'comp...\n",
       "Name: StudentComments, dtype: object"
      ]
     },
     "execution_count": 77,
     "metadata": {},
     "output_type": "execute_result"
    }
   ],
   "source": [
    "vaderDict[:10]"
   ]
  },
  {
   "cell_type": "code",
   "execution_count": 78,
   "id": "9909417d",
   "metadata": {
    "execution": {
     "iopub.execute_input": "2024-04-18T02:47:14.910975Z",
     "iopub.status.busy": "2024-04-18T02:47:14.910038Z",
     "iopub.status.idle": "2024-04-18T02:47:14.915396Z",
     "shell.execute_reply": "2024-04-18T02:47:14.914391Z"
    },
    "papermill": {
     "duration": 0.366856,
     "end_time": "2024-04-18T02:47:14.917294",
     "exception": false,
     "start_time": "2024-04-18T02:47:14.550438",
     "status": "completed"
    },
    "tags": []
   },
   "outputs": [
    {
     "name": "stdout",
     "output_type": "stream",
     "text": [
      "{'neg': 0.0, 'neu': 0.0, 'pos': 1.0, 'compound': 0.4404}\n"
     ]
    }
   ],
   "source": [
    "print(vaderDict[10])"
   ]
  },
  {
   "cell_type": "code",
   "execution_count": 79,
   "id": "25dda819",
   "metadata": {
    "execution": {
     "iopub.execute_input": "2024-04-18T02:47:15.688115Z",
     "iopub.status.busy": "2024-04-18T02:47:15.687728Z",
     "iopub.status.idle": "2024-04-18T02:47:15.692661Z",
     "shell.execute_reply": "2024-04-18T02:47:15.691763Z"
    },
    "papermill": {
     "duration": 0.419896,
     "end_time": "2024-04-18T02:47:15.694691",
     "exception": false,
     "start_time": "2024-04-18T02:47:15.274795",
     "status": "completed"
    },
    "tags": []
   },
   "outputs": [
    {
     "name": "stdout",
     "output_type": "stream",
     "text": [
      "{'neg': 0.0, 'neu': 0.0, 'pos': 1.0, 'compound': 0.4404}\n"
     ]
    }
   ],
   "source": [
    "print(vaderDict[55])"
   ]
  },
  {
   "cell_type": "code",
   "execution_count": 80,
   "id": "f0e4faf9",
   "metadata": {
    "execution": {
     "iopub.execute_input": "2024-04-18T02:47:16.409901Z",
     "iopub.status.busy": "2024-04-18T02:47:16.409515Z",
     "iopub.status.idle": "2024-04-18T02:47:16.414837Z",
     "shell.execute_reply": "2024-04-18T02:47:16.413941Z"
    },
    "papermill": {
     "duration": 0.363804,
     "end_time": "2024-04-18T02:47:16.416675",
     "exception": false,
     "start_time": "2024-04-18T02:47:16.052871",
     "status": "completed"
    },
    "tags": []
   },
   "outputs": [],
   "source": [
    "def getVaderScores (polarity):\n",
    "    polarity.pop('compound')\n",
    "    score = max(polarity, key = polarity.get)\n",
    "    \n",
    "    if score == 'neg':\n",
    "        return 0\n",
    "    elif score == 'neu':\n",
    "        return 1\n",
    "    else:\n",
    "        return 2"
   ]
  },
  {
   "cell_type": "code",
   "execution_count": 81,
   "id": "d1c446fb",
   "metadata": {
    "execution": {
     "iopub.execute_input": "2024-04-18T02:47:17.141880Z",
     "iopub.status.busy": "2024-04-18T02:47:17.141523Z",
     "iopub.status.idle": "2024-04-18T02:47:17.190862Z",
     "shell.execute_reply": "2024-04-18T02:47:17.189893Z"
    },
    "papermill": {
     "duration": 0.414323,
     "end_time": "2024-04-18T02:47:17.192800",
     "exception": false,
     "start_time": "2024-04-18T02:47:16.778477",
     "status": "completed"
    },
    "tags": []
   },
   "outputs": [],
   "source": [
    "Vader_Scores = vaderDict.apply(getVaderScores)"
   ]
  },
  {
   "cell_type": "code",
   "execution_count": 82,
   "id": "b875da38",
   "metadata": {
    "execution": {
     "iopub.execute_input": "2024-04-18T02:47:17.908210Z",
     "iopub.status.busy": "2024-04-18T02:47:17.907838Z",
     "iopub.status.idle": "2024-04-18T02:47:17.914374Z",
     "shell.execute_reply": "2024-04-18T02:47:17.913520Z"
    },
    "papermill": {
     "duration": 0.36675,
     "end_time": "2024-04-18T02:47:17.916342",
     "exception": false,
     "start_time": "2024-04-18T02:47:17.549592",
     "status": "completed"
    },
    "tags": []
   },
   "outputs": [
    {
     "data": {
      "text/plain": [
       "0    2\n",
       "1    2\n",
       "2    1\n",
       "3    1\n",
       "4    1\n",
       "5    2\n",
       "6    2\n",
       "7    2\n",
       "8    1\n",
       "9    2\n",
       "Name: StudentComments, dtype: int64"
      ]
     },
     "execution_count": 82,
     "metadata": {},
     "output_type": "execute_result"
    }
   ],
   "source": [
    "Vader_Scores[:10]"
   ]
  },
  {
   "cell_type": "code",
   "execution_count": 83,
   "id": "fecf8784",
   "metadata": {
    "execution": {
     "iopub.execute_input": "2024-04-18T02:47:18.627885Z",
     "iopub.status.busy": "2024-04-18T02:47:18.627535Z",
     "iopub.status.idle": "2024-04-18T02:47:18.635266Z",
     "shell.execute_reply": "2024-04-18T02:47:18.634209Z"
    },
    "papermill": {
     "duration": 0.366195,
     "end_time": "2024-04-18T02:47:18.637297",
     "exception": false,
     "start_time": "2024-04-18T02:47:18.271102",
     "status": "completed"
    },
    "tags": []
   },
   "outputs": [
    {
     "name": "stdout",
     "output_type": "stream",
     "text": [
      "The percentage of accurate predictions is:  0.40823333333333334\n"
     ]
    }
   ],
   "source": [
    "# find number of accurate predictions\n",
    "accurate_predictions = accuracy_score(df_new['Score'], Vader_Scores)\n",
    "print(\"The percentage of accurate predictions is: \", accurate_predictions)"
   ]
  },
  {
   "cell_type": "code",
   "execution_count": 84,
   "id": "a4398a9d",
   "metadata": {
    "execution": {
     "iopub.execute_input": "2024-04-18T02:47:19.452886Z",
     "iopub.status.busy": "2024-04-18T02:47:19.452013Z",
     "iopub.status.idle": "2024-04-18T02:47:19.475581Z",
     "shell.execute_reply": "2024-04-18T02:47:19.474593Z"
    },
    "papermill": {
     "duration": 0.414723,
     "end_time": "2024-04-18T02:47:19.477551",
     "exception": false,
     "start_time": "2024-04-18T02:47:19.062828",
     "status": "completed"
    },
    "tags": []
   },
   "outputs": [
    {
     "name": "stdout",
     "output_type": "stream",
     "text": [
      "              precision    recall  f1-score   support\n",
      "\n",
      "           0       0.65      0.18      0.28     10000\n",
      "           1       0.30      0.20      0.24     10000\n",
      "           2       0.41      0.85      0.55     10000\n",
      "\n",
      "    accuracy                           0.41     30000\n",
      "   macro avg       0.45      0.41      0.36     30000\n",
      "weighted avg       0.45      0.41      0.36     30000\n",
      "\n"
     ]
    }
   ],
   "source": [
    "# Creating a classification report:\n",
    "print(classification_report(df_new['Score'], Vader_Scores))"
   ]
  },
  {
   "cell_type": "code",
   "execution_count": 85,
   "id": "4d38d9b2",
   "metadata": {
    "execution": {
     "iopub.execute_input": "2024-04-18T02:47:20.203780Z",
     "iopub.status.busy": "2024-04-18T02:47:20.202914Z",
     "iopub.status.idle": "2024-04-18T02:47:20.211071Z",
     "shell.execute_reply": "2024-04-18T02:47:20.209795Z"
    },
    "papermill": {
     "duration": 0.373074,
     "end_time": "2024-04-18T02:47:20.214204",
     "exception": false,
     "start_time": "2024-04-18T02:47:19.841130",
     "status": "completed"
    },
    "tags": []
   },
   "outputs": [],
   "source": [
    "# Creating a confusion matrix,which compares the y_test and y_pred:\n",
    "cm = confusion_matrix(df_new['Score'], Vader_Scores)"
   ]
  },
  {
   "cell_type": "code",
   "execution_count": 86,
   "id": "5c1e88f4",
   "metadata": {
    "execution": {
     "iopub.execute_input": "2024-04-18T02:47:20.944785Z",
     "iopub.status.busy": "2024-04-18T02:47:20.944408Z",
     "iopub.status.idle": "2024-04-18T02:47:21.240028Z",
     "shell.execute_reply": "2024-04-18T02:47:21.239063Z"
    },
    "papermill": {
     "duration": 0.657085,
     "end_time": "2024-04-18T02:47:21.241984",
     "exception": false,
     "start_time": "2024-04-18T02:47:20.584899",
     "status": "completed"
    },
    "tags": []
   },
   "outputs": [
    {
     "data": {
      "image/png": "[encoded data removed]",
      "text/plain": [
       "<Figure size 500x400 with 2 Axes>"
      ]
     },
     "metadata": {},
     "output_type": "display_data"
    }
   ],
   "source": [
    "# Creating a dataframe for a array-formatted Confusion matrix,so it will be easy for plotting.\n",
    "cm_df = pd.DataFrame(cm,\n",
    "                     index = ['0','1','2'], \n",
    "                     columns = ['0','1','2'])\n",
    "\n",
    "#Plotting the confusion matrix\n",
    "plt.figure(figsize=(5,4))\n",
    "sns.heatmap(cm_df, annot=True)\n",
    "plt.title('Confusion Matrix')\n",
    "plt.ylabel('Actal Values')\n",
    "plt.xlabel('Predicted Values')\n",
    "plt.show()"
   ]
  }
 ],
 "metadata": {
  "kaggle": {
   "accelerator": "gpu",
   "dataSources": [
    {
     "datasetId": 310,
     "sourceId": 23498,
     "sourceType": "datasetVersion"
    },
    {
     "datasetId": 4798125,
     "sourceId": 8120341,
     "sourceType": "datasetVersion"
    }
   ],
   "dockerImageVersionId": 30683,
   "isGpuEnabled": true,
   "isInternetEnabled": true,
   "language": "python",
   "sourceType": "notebook"
  },
  "kernelspec": {
   "display_name": "Python 3",
   "language": "python",
   "name": "python3"
  },
  "language_info": {
   "codemirror_mode": {
    "name": "ipython",
    "version": 3
   },
   "file_extension": ".py",
   "mimetype": "text/x-python",
   "name": "python",
   "nbconvert_exporter": "python",
   "pygments_lexer": "ipython3",
   "version": "3.10.13"
  },
  "papermill": {
   "default_parameters": {},
   "duration": 7663.16334,
   "end_time": "2024-04-18T02:47:24.878926",
   "environment_variables": {},
   "exception": null,
   "input_path": "__notebook__.ipynb",
   "output_path": "__notebook__.ipynb",
   "parameters": {},
   "start_time": "2024-04-18T00:39:41.715586",
   "version": "2.5.0"
  },
  "widgets": {
   "application/vnd.jupyter.widget-state+json": {
    "state": {
     "0300dc1ceb484cd6b8a919e46f4f22ce": {
      "model_module": "@jupyter-widgets/controls",
      "model_module_version": "1.5.0",
      "model_name": "DescriptionStyleModel",
      "state": {
       "_model_module": "@jupyter-widgets/controls",
       "_model_module_version": "1.5.0",
       "_model_name": "DescriptionStyleModel",
       "_view_count": null,
       "_view_module": "@jupyter-widgets/base",
       "_view_module_version": "1.2.0",
       "_view_name": "StyleView",
       "description_width": ""
      }
     },
     "07861faf64df4a689869f629959088c3": {
      "model_module": "@jupyter-widgets/base",
      "model_module_version": "1.2.0",
      "model_name": "LayoutModel",
      "state": {
       "_model_module": "@jupyter-widgets/base",
       "_model_module_version": "1.2.0",
       "_model_name": "LayoutModel",
       "_view_count": null,
       "_view_module": "@jupyter-widgets/base",
       "_view_module_version": "1.2.0",
       "_view_name": "LayoutView",
       "align_content": null,
       "align_items": null,
       "align_self": null,
       "border": null,
       "bottom": null,
       "display": null,
       "flex": null,
       "flex_flow": null,
       "grid_area": null,
       "grid_auto_columns": null,
       "grid_auto_flow": null,
       "grid_auto_rows": null,
       "grid_column": null,
       "grid_gap": null,
       "grid_row": null,
       "grid_template_areas": null,
       "grid_template_columns": null,
       "grid_template_rows": null,
       "height": null,
       "justify_content": null,
       "justify_items": null,
       "left": null,
       "margin": null,
       "max_height": null,
       "max_width": null,
       "min_height": null,
       "min_width": null,
       "object_fit": null,
       "object_position": null,
       "order": null,
       "overflow": null,
       "overflow_x": null,
       "overflow_y": null,
       "padding": null,
       "right": null,
       "top": null,
       "visibility": null,
       "width": null
      }
     },
     "091053718e8f4b5eae2f5fae20cd26df": {
      "model_module": "@jupyter-widgets/controls",
      "model_module_version": "1.5.0",
      "model_name": "HTMLModel",
      "state": {
       "_dom_classes": [],
       "_model_module": "@jupyter-widgets/controls",
       "_model_module_version": "1.5.0",
       "_model_name": "HTMLModel",
       "_view_count": null,
       "_view_module": "@jupyter-widgets/controls",
       "_view_module_version": "1.5.0",
       "_view_name": "HTMLView",
       "description": "",
       "description_tooltip": null,
       "layout": "IPY_MODEL_f88296e0c26841d4873e59ab45539ee0",
       "placeholder": "​",
       "style": "IPY_MODEL_5f8baa6412bf4d2cbd68df9a0faa611d",
       "value": "model.safetensors: 100%"
      }
     },
     "09abe0b64df24ab5b608f280f49a0b5e": {
      "model_module": "@jupyter-widgets/controls",
      "model_module_version": "1.5.0",
      "model_name": "HBoxModel",
      "state": {
       "_dom_classes": [],
       "_model_module": "@jupyter-widgets/controls",
       "_model_module_version": "1.5.0",
       "_model_name": "HBoxModel",
       "_view_count": null,
       "_view_module": "@jupyter-widgets/controls",
       "_view_module_version": "1.5.0",
       "_view_name": "HBoxView",
       "box_style": "",
       "children": [
        "IPY_MODEL_e20bec48408e4b64b762e1f35924069b",
        "IPY_MODEL_c8c5a9847ee940929ea4d27461698cca",
        "IPY_MODEL_5d4055fc718648b98e262d050db65950"
       ],
       "layout": "IPY_MODEL_e1ba5b6857e7456e99e846f7639b9eeb"
      }
     },
     "0f9cf689b992488d9399fbf8cb57ac9d": {
      "model_module": "@jupyter-widgets/controls",
      "model_module_version": "1.5.0",
      "model_name": "ProgressStyleModel",
      "state": {
       "_model_module": "@jupyter-widgets/controls",
       "_model_module_version": "1.5.0",
       "_model_name": "ProgressStyleModel",
       "_view_count": null,
       "_view_module": "@jupyter-widgets/base",
       "_view_module_version": "1.2.0",
       "_view_name": "StyleView",
       "bar_color": null,
       "description_width": ""
      }
     },
     "0fc5d5a1ff564d99857712f97b8c2dfc": {
      "model_module": "@jupyter-widgets/base",
      "model_module_version": "1.2.0",
      "model_name": "LayoutModel",
      "state": {
       "_model_module": "@jupyter-widgets/base",
       "_model_module_version": "1.2.0",
       "_model_name": "LayoutModel",
       "_view_count": null,
       "_view_module": "@jupyter-widgets/base",
       "_view_module_version": "1.2.0",
       "_view_name": "LayoutView",
       "align_content": null,
       "align_items": null,
       "align_self": null,
       "border": null,
       "bottom": null,
       "display": null,
       "flex": null,
       "flex_flow": null,
       "grid_area": null,
       "grid_auto_columns": null,
       "grid_auto_flow": null,
       "grid_auto_rows": null,
       "grid_column": null,
       "grid_gap": null,
       "grid_row": null,
       "grid_template_areas": null,
       "grid_template_columns": null,
       "grid_template_rows": null,
       "height": null,
       "justify_content": null,
       "justify_items": null,
       "left": null,
       "margin": null,
       "max_height": null,
       "max_width": null,
       "min_height": null,
       "min_width": null,
       "object_fit": null,
       "object_position": null,
       "order": null,
       "overflow": null,
       "overflow_x": null,
       "overflow_y": null,
       "padding": null,
       "right": null,
       "top": null,
       "visibility": null,
       "width": null
      }
     },
     "14241bff3b3c4352b2125b5a82712c08": {
      "model_module": "@jupyter-widgets/base",
      "model_module_version": "1.2.0",
      "model_name": "LayoutModel",
      "state": {
       "_model_module": "@jupyter-widgets/base",
       "_model_module_version": "1.2.0",
       "_model_name": "LayoutModel",
       "_view_count": null,
       "_view_module": "@jupyter-widgets/base",
       "_view_module_version": "1.2.0",
       "_view_name": "LayoutView",
       "align_content": null,
       "align_items": null,
       "align_self": null,
       "border": null,
       "bottom": null,
       "display": null,
       "flex": null,
       "flex_flow": null,
       "grid_area": null,
       "grid_auto_columns": null,
       "grid_auto_flow": null,
       "grid_auto_rows": null,
       "grid_column": null,
       "grid_gap": null,
       "grid_row": null,
       "grid_template_areas": null,
       "grid_template_columns": null,
       "grid_template_rows": null,
       "height": null,
       "justify_content": null,
       "justify_items": null,
       "left": null,
       "margin": null,
       "max_height": null,
       "max_width": null,
       "min_height": null,
       "min_width": null,
       "object_fit": null,
       "object_position": null,
       "order": null,
       "overflow": null,
       "overflow_x": null,
       "overflow_y": null,
       "padding": null,
       "right": null,
       "top": null,
       "visibility": null,
       "width": null
      }
     },
     "16868c55ba3c4d2e912f8180e6acd7f6": {
      "model_module": "@jupyter-widgets/controls",
      "model_module_version": "1.5.0",
      "model_name": "HTMLModel",
      "state": {
       "_dom_classes": [],
       "_model_module": "@jupyter-widgets/controls",
       "_model_module_version": "1.5.0",
       "_model_name": "HTMLModel",
       "_view_count": null,
       "_view_module": "@jupyter-widgets/controls",
       "_view_module_version": "1.5.0",
       "_view_name": "HTMLView",
       "description": "",
       "description_tooltip": null,
       "layout": "IPY_MODEL_0fc5d5a1ff564d99857712f97b8c2dfc",
       "placeholder": "​",
       "style": "IPY_MODEL_f398cc43efab4511a35b62e49d8d5de2",
       "value": " 440M/440M [00:01&lt;00:00, 394MB/s]"
      }
     },
     "1db2358bbabe49458cfab2af880c0f90": {
      "model_module": "@jupyter-widgets/base",
      "model_module_version": "1.2.0",
      "model_name": "LayoutModel",
      "state": {
       "_model_module": "@jupyter-widgets/base",
       "_model_module_version": "1.2.0",
       "_model_name": "LayoutModel",
       "_view_count": null,
       "_view_module": "@jupyter-widgets/base",
       "_view_module_version": "1.2.0",
       "_view_name": "LayoutView",
       "align_content": null,
       "align_items": null,
       "align_self": null,
       "border": null,
       "bottom": null,
       "display": null,
       "flex": null,
       "flex_flow": null,
       "grid_area": null,
       "grid_auto_columns": null,
       "grid_auto_flow": null,
       "grid_auto_rows": null,
       "grid_column": null,
       "grid_gap": null,
       "grid_row": null,
       "grid_template_areas": null,
       "grid_template_columns": null,
       "grid_template_rows": null,
       "height": null,
       "justify_content": null,
       "justify_items": null,
       "left": null,
       "margin": null,
       "max_height": null,
       "max_width": null,
       "min_height": null,
       "min_width": null,
       "object_fit": null,
       "object_position": null,
       "order": null,
       "overflow": null,
       "overflow_x": null,
       "overflow_y": null,
       "padding": null,
       "right": null,
       "top": null,
       "visibility": null,
       "width": null
      }
     },
     "1e8beccd3f2e4e5da5d59fe38794e4fd": {
      "model_module": "@jupyter-widgets/controls",
      "model_module_version": "1.5.0",
      "model_name": "HTMLModel",
      "state": {
       "_dom_classes": [],
       "_model_module": "@jupyter-widgets/controls",
       "_model_module_version": "1.5.0",
       "_model_name": "HTMLModel",
       "_view_count": null,
       "_view_module": "@jupyter-widgets/controls",
       "_view_module_version": "1.5.0",
       "_view_name": "HTMLView",
       "description": "",
       "description_tooltip": null,
       "layout": "IPY_MODEL_23a068798bbf46c89e45c0b9c8d99087",
       "placeholder": "​",
       "style": "IPY_MODEL_75847c3a519048eb8cb6f49e68b6bbd9",
       "value": "tokenizer.json: 100%"
      }
     },
     "2251d004d34d4262bbb558af48821249": {
      "model_module": "@jupyter-widgets/controls",
      "model_module_version": "1.5.0",
      "model_name": "HBoxModel",
      "state": {
       "_dom_classes": [],
       "_model_module": "@jupyter-widgets/controls",
       "_model_module_version": "1.5.0",
       "_model_name": "HBoxModel",
       "_view_count": null,
       "_view_module": "@jupyter-widgets/controls",
       "_view_module_version": "1.5.0",
       "_view_name": "HBoxView",
       "box_style": "",
       "children": [
        "IPY_MODEL_ef4356aba4034f4baf156fee50f97c59",
        "IPY_MODEL_d4c15590ccef49ef8b715bb66bf77682",
        "IPY_MODEL_23f15b9bdf76459194188920bd105c8c"
       ],
       "layout": "IPY_MODEL_6ca3f48596be40e9a021ea3360566486"
      }
     },
     "23a068798bbf46c89e45c0b9c8d99087": {
      "model_module": "@jupyter-widgets/base",
      "model_module_version": "1.2.0",
      "model_name": "LayoutModel",
      "state": {
       "_model_module": "@jupyter-widgets/base",
       "_model_module_version": "1.2.0",
       "_model_name": "LayoutModel",
       "_view_count": null,
       "_view_module": "@jupyter-widgets/base",
       "_view_module_version": "1.2.0",
       "_view_name": "LayoutView",
       "align_content": null,
       "align_items": null,
       "align_self": null,
       "border": null,
       "bottom": null,
       "display": null,
       "flex": null,
       "flex_flow": null,
       "grid_area": null,
       "grid_auto_columns": null,
       "grid_auto_flow": null,
       "grid_auto_rows": null,
       "grid_column": null,
       "grid_gap": null,
       "grid_row": null,
       "grid_template_areas": null,
       "grid_template_columns": null,
       "grid_template_rows": null,
       "height": null,
       "justify_content": null,
       "justify_items": null,
       "left": null,
       "margin": null,
       "max_height": null,
       "max_width": null,
       "min_height": null,
       "min_width": null,
       "object_fit": null,
       "object_position": null,
       "order": null,
       "overflow": null,
       "overflow_x": null,
       "overflow_y": null,
       "padding": null,
       "right": null,
       "top": null,
       "visibility": null,
       "width": null
      }
     },
     "23f15b9bdf76459194188920bd105c8c": {
      "model_module": "@jupyter-widgets/controls",
      "model_module_version": "1.5.0",
      "model_name": "HTMLModel",
      "state": {
       "_dom_classes": [],
       "_model_module": "@jupyter-widgets/controls",
       "_model_module_version": "1.5.0",
       "_model_name": "HTMLModel",
       "_view_count": null,
       "_view_module": "@jupyter-widgets/controls",
       "_view_module_version": "1.5.0",
       "_view_name": "HTMLView",
       "description": "",
       "description_tooltip": null,
       "layout": "IPY_MODEL_770406d14c7a47eeaeaf1dd5e4955e1a",
       "placeholder": "​",
       "style": "IPY_MODEL_6fa4b1157c614be4bac3b363e80a164a",
       "value": " 232k/232k [00:00&lt;00:00, 1.40MB/s]"
      }
     },
     "252a59bceb024385bca910a3552c83f3": {
      "model_module": "@jupyter-widgets/base",
      "model_module_version": "1.2.0",
      "model_name": "LayoutModel",
      "state": {
       "_model_module": "@jupyter-widgets/base",
       "_model_module_version": "1.2.0",
       "_model_name": "LayoutModel",
       "_view_count": null,
       "_view_module": "@jupyter-widgets/base",
       "_view_module_version": "1.2.0",
       "_view_name": "LayoutView",
       "align_content": null,
       "align_items": null,
       "align_self": null,
       "border": null,
       "bottom": null,
       "display": null,
       "flex": null,
       "flex_flow": null,
       "grid_area": null,
       "grid_auto_columns": null,
       "grid_auto_flow": null,
       "grid_auto_rows": null,
       "grid_column": null,
       "grid_gap": null,
       "grid_row": null,
       "grid_template_areas": null,
       "grid_template_columns": null,
       "grid_template_rows": null,
       "height": null,
       "justify_content": null,
       "justify_items": null,
       "left": null,
       "margin": null,
       "max_height": null,
       "max_width": null,
       "min_height": null,
       "min_width": null,
       "object_fit": null,
       "object_position": null,
       "order": null,
       "overflow": null,
       "overflow_x": null,
       "overflow_y": null,
       "padding": null,
       "right": null,
       "top": null,
       "visibility": null,
       "width": null
      }
     },
     "2730e05caff34f23beeb1a4cf738faf5": {
      "model_module": "@jupyter-widgets/base",
      "model_module_version": "1.2.0",
      "model_name": "LayoutModel",
      "state": {
       "_model_module": "@jupyter-widgets/base",
       "_model_module_version": "1.2.0",
       "_model_name": "LayoutModel",
       "_view_count": null,
       "_view_module": "@jupyter-widgets/base",
       "_view_module_version": "1.2.0",
       "_view_name": "LayoutView",
       "align_content": null,
       "align_items": null,
       "align_self": null,
       "border": null,
       "bottom": null,
       "display": null,
       "flex": null,
       "flex_flow": null,
       "grid_area": null,
       "grid_auto_columns": null,
       "grid_auto_flow": null,
       "grid_auto_rows": null,
       "grid_column": null,
       "grid_gap": null,
       "grid_row": null,
       "grid_template_areas": null,
       "grid_template_columns": null,
       "grid_template_rows": null,
       "height": null,
       "justify_content": null,
       "justify_items": null,
       "left": null,
       "margin": null,
       "max_height": null,
       "max_width": null,
       "min_height": null,
       "min_width": null,
       "object_fit": null,
       "object_position": null,
       "order": null,
       "overflow": null,
       "overflow_x": null,
       "overflow_y": null,
       "padding": null,
       "right": null,
       "top": null,
       "visibility": null,
       "width": null
      }
     },
     "3396a64663b2427880e5ac51af3bbdb5": {
      "model_module": "@jupyter-widgets/controls",
      "model_module_version": "1.5.0",
      "model_name": "ProgressStyleModel",
      "state": {
       "_model_module": "@jupyter-widgets/controls",
       "_model_module_version": "1.5.0",
       "_model_name": "ProgressStyleModel",
       "_view_count": null,
       "_view_module": "@jupyter-widgets/base",
       "_view_module_version": "1.2.0",
       "_view_name": "StyleView",
       "bar_color": null,
       "description_width": ""
      }
     },
     "39a80f919cfa4894a2318f42e8fdad35": {
      "model_module": "@jupyter-widgets/controls",
      "model_module_version": "1.5.0",
      "model_name": "HTMLModel",
      "state": {
       "_dom_classes": [],
       "_model_module": "@jupyter-widgets/controls",
       "_model_module_version": "1.5.0",
       "_model_name": "HTMLModel",
       "_view_count": null,
       "_view_module": "@jupyter-widgets/controls",
       "_view_module_version": "1.5.0",
       "_view_name": "HTMLView",
       "description": "",
       "description_tooltip": null,
       "layout": "IPY_MODEL_5c381809eb2244449f3fcf53a0b47682",
       "placeholder": "​",
       "style": "IPY_MODEL_0300dc1ceb484cd6b8a919e46f4f22ce",
       "value": " 570/570 [00:00&lt;00:00, 51.7kB/s]"
      }
     },
     "3fe9b96cbe1147a4bf495a0af6b66248": {
      "model_module": "@jupyter-widgets/base",
      "model_module_version": "1.2.0",
      "model_name": "LayoutModel",
      "state": {
       "_model_module": "@jupyter-widgets/base",
       "_model_module_version": "1.2.0",
       "_model_name": "LayoutModel",
       "_view_count": null,
       "_view_module": "@jupyter-widgets/base",
       "_view_module_version": "1.2.0",
       "_view_name": "LayoutView",
       "align_content": null,
       "align_items": null,
       "align_self": null,
       "border": null,
       "bottom": null,
       "display": null,
       "flex": null,
       "flex_flow": null,
       "grid_area": null,
       "grid_auto_columns": null,
       "grid_auto_flow": null,
       "grid_auto_rows": null,
       "grid_column": null,
       "grid_gap": null,
       "grid_row": null,
       "grid_template_areas": null,
       "grid_template_columns": null,
       "grid_template_rows": null,
       "height": null,
       "justify_content": null,
       "justify_items": null,
       "left": null,
       "margin": null,
       "max_height": null,
       "max_width": null,
       "min_height": null,
       "min_width": null,
       "object_fit": null,
       "object_position": null,
       "order": null,
       "overflow": null,
       "overflow_x": null,
       "overflow_y": null,
       "padding": null,
       "right": null,
       "top": null,
       "visibility": null,
       "width": null
      }
     },
     "462158c5398e41c78009b031929bc19b": {
      "model_module": "@jupyter-widgets/base",
      "model_module_version": "1.2.0",
      "model_name": "LayoutModel",
      "state": {
       "_model_module": "@jupyter-widgets/base",
       "_model_module_version": "1.2.0",
       "_model_name": "LayoutModel",
       "_view_count": null,
       "_view_module": "@jupyter-widgets/base",
       "_view_module_version": "1.2.0",
       "_view_name": "LayoutView",
       "align_content": null,
       "align_items": null,
       "align_self": null,
       "border": null,
       "bottom": null,
       "display": null,
       "flex": null,
       "flex_flow": null,
       "grid_area": null,
       "grid_auto_columns": null,
       "grid_auto_flow": null,
       "grid_auto_rows": null,
       "grid_column": null,
       "grid_gap": null,
       "grid_row": null,
       "grid_template_areas": null,
       "grid_template_columns": null,
       "grid_template_rows": null,
       "height": null,
       "justify_content": null,
       "justify_items": null,
       "left": null,
       "margin": null,
       "max_height": null,
       "max_width": null,
       "min_height": null,
       "min_width": null,
       "object_fit": null,
       "object_position": null,
       "order": null,
       "overflow": null,
       "overflow_x": null,
       "overflow_y": null,
       "padding": null,
       "right": null,
       "top": null,
       "visibility": null,
       "width": null
      }
     },
     "4fa57bff81be4adc942a65cea4dfb74f": {
      "model_module": "@jupyter-widgets/controls",
      "model_module_version": "1.5.0",
      "model_name": "FloatProgressModel",
      "state": {
       "_dom_classes": [],
       "_model_module": "@jupyter-widgets/controls",
       "_model_module_version": "1.5.0",
       "_model_name": "FloatProgressModel",
       "_view_count": null,
       "_view_module": "@jupyter-widgets/controls",
       "_view_module_version": "1.5.0",
       "_view_name": "ProgressView",
       "bar_style": "success",
       "description": "",
       "description_tooltip": null,
       "layout": "IPY_MODEL_ce66ab2685c54a08b6ddf85a01933c43",
       "max": 466062.0,
       "min": 0.0,
       "orientation": "horizontal",
       "style": "IPY_MODEL_d11e75b011da40c49cde6cb6734dc9cb",
       "value": 466062.0
      }
     },
     "50a7d476f7174aea8d252397bae50f57": {
      "model_module": "@jupyter-widgets/controls",
      "model_module_version": "1.5.0",
      "model_name": "DescriptionStyleModel",
      "state": {
       "_model_module": "@jupyter-widgets/controls",
       "_model_module_version": "1.5.0",
       "_model_name": "DescriptionStyleModel",
       "_view_count": null,
       "_view_module": "@jupyter-widgets/base",
       "_view_module_version": "1.2.0",
       "_view_name": "StyleView",
       "description_width": ""
      }
     },
     "5c381809eb2244449f3fcf53a0b47682": {
      "model_module": "@jupyter-widgets/base",
      "model_module_version": "1.2.0",
      "model_name": "LayoutModel",
      "state": {
       "_model_module": "@jupyter-widgets/base",
       "_model_module_version": "1.2.0",
       "_model_name": "LayoutModel",
       "_view_count": null,
       "_view_module": "@jupyter-widgets/base",
       "_view_module_version": "1.2.0",
       "_view_name": "LayoutView",
       "align_content": null,
       "align_items": null,
       "align_self": null,
       "border": null,
       "bottom": null,
       "display": null,
       "flex": null,
       "flex_flow": null,
       "grid_area": null,
       "grid_auto_columns": null,
       "grid_auto_flow": null,
       "grid_auto_rows": null,
       "grid_column": null,
       "grid_gap": null,
       "grid_row": null,
       "grid_template_areas": null,
       "grid_template_columns": null,
       "grid_template_rows": null,
       "height": null,
       "justify_content": null,
       "justify_items": null,
       "left": null,
       "margin": null,
       "max_height": null,
       "max_width": null,
       "min_height": null,
       "min_width": null,
       "object_fit": null,
       "object_position": null,
       "order": null,
       "overflow": null,
       "overflow_x": null,
       "overflow_y": null,
       "padding": null,
       "right": null,
       "top": null,
       "visibility": null,
       "width": null
      }
     },
     "5d4055fc718648b98e262d050db65950": {
      "model_module": "@jupyter-widgets/controls",
      "model_module_version": "1.5.0",
      "model_name": "HTMLModel",
      "state": {
       "_dom_classes": [],
       "_model_module": "@jupyter-widgets/controls",
       "_model_module_version": "1.5.0",
       "_model_name": "HTMLModel",
       "_view_count": null,
       "_view_module": "@jupyter-widgets/controls",
       "_view_module_version": "1.5.0",
       "_view_name": "HTMLView",
       "description": "",
       "description_tooltip": null,
       "layout": "IPY_MODEL_b1ad98b0015440b29840d7a1e28712cc",
       "placeholder": "​",
       "style": "IPY_MODEL_50a7d476f7174aea8d252397bae50f57",
       "value": " 48.0/48.0 [00:00&lt;00:00, 4.50kB/s]"
      }
     },
     "5f8baa6412bf4d2cbd68df9a0faa611d": {
      "model_module": "@jupyter-widgets/controls",
      "model_module_version": "1.5.0",
      "model_name": "DescriptionStyleModel",
      "state": {
       "_model_module": "@jupyter-widgets/controls",
       "_model_module_version": "1.5.0",
       "_model_name": "DescriptionStyleModel",
       "_view_count": null,
       "_view_module": "@jupyter-widgets/base",
       "_view_module_version": "1.2.0",
       "_view_name": "StyleView",
       "description_width": ""
      }
     },
     "68cf2a06f99a4d76ad7713dd716df79b": {
      "model_module": "@jupyter-widgets/controls",
      "model_module_version": "1.5.0",
      "model_name": "FloatProgressModel",
      "state": {
       "_dom_classes": [],
       "_model_module": "@jupyter-widgets/controls",
       "_model_module_version": "1.5.0",
       "_model_name": "FloatProgressModel",
       "_view_count": null,
       "_view_module": "@jupyter-widgets/controls",
       "_view_module_version": "1.5.0",
       "_view_name": "ProgressView",
       "bar_style": "success",
       "description": "",
       "description_tooltip": null,
       "layout": "IPY_MODEL_707e64502934476faf99d650315d6e6b",
       "max": 440449768.0,
       "min": 0.0,
       "orientation": "horizontal",
       "style": "IPY_MODEL_3396a64663b2427880e5ac51af3bbdb5",
       "value": 440449768.0
      }
     },
     "69df62e265a44ce39c0ab4d30f30afb9": {
      "model_module": "@jupyter-widgets/controls",
      "model_module_version": "1.5.0",
      "model_name": "HBoxModel",
      "state": {
       "_dom_classes": [],
       "_model_module": "@jupyter-widgets/controls",
       "_model_module_version": "1.5.0",
       "_model_name": "HBoxModel",
       "_view_count": null,
       "_view_module": "@jupyter-widgets/controls",
       "_view_module_version": "1.5.0",
       "_view_name": "HBoxView",
       "box_style": "",
       "children": [
        "IPY_MODEL_f89b3eb862344e2e84bbc62016cafca3",
        "IPY_MODEL_f0001d6494cd4ce9854b6ff0ee322937",
        "IPY_MODEL_39a80f919cfa4894a2318f42e8fdad35"
       ],
       "layout": "IPY_MODEL_2730e05caff34f23beeb1a4cf738faf5"
      }
     },
     "6ca3f48596be40e9a021ea3360566486": {
      "model_module": "@jupyter-widgets/base",
      "model_module_version": "1.2.0",
      "model_name": "LayoutModel",
      "state": {
       "_model_module": "@jupyter-widgets/base",
       "_model_module_version": "1.2.0",
       "_model_name": "LayoutModel",
       "_view_count": null,
       "_view_module": "@jupyter-widgets/base",
       "_view_module_version": "1.2.0",
       "_view_name": "LayoutView",
       "align_content": null,
       "align_items": null,
       "align_self": null,
       "border": null,
       "bottom": null,
       "display": null,
       "flex": null,
       "flex_flow": null,
       "grid_area": null,
       "grid_auto_columns": null,
       "grid_auto_flow": null,
       "grid_auto_rows": null,
       "grid_column": null,
       "grid_gap": null,
       "grid_row": null,
       "grid_template_areas": null,
       "grid_template_columns": null,
       "grid_template_rows": null,
       "height": null,
       "justify_content": null,
       "justify_items": null,
       "left": null,
       "margin": null,
       "max_height": null,
       "max_width": null,
       "min_height": null,
       "min_width": null,
       "object_fit": null,
       "object_position": null,
       "order": null,
       "overflow": null,
       "overflow_x": null,
       "overflow_y": null,
       "padding": null,
       "right": null,
       "top": null,
       "visibility": null,
       "width": null
      }
     },
     "6fa4b1157c614be4bac3b363e80a164a": {
      "model_module": "@jupyter-widgets/controls",
      "model_module_version": "1.5.0",
      "model_name": "DescriptionStyleModel",
      "state": {
       "_model_module": "@jupyter-widgets/controls",
       "_model_module_version": "1.5.0",
       "_model_name": "DescriptionStyleModel",
       "_view_count": null,
       "_view_module": "@jupyter-widgets/base",
       "_view_module_version": "1.2.0",
       "_view_name": "StyleView",
       "description_width": ""
      }
     },
     "707e64502934476faf99d650315d6e6b": {
      "model_module": "@jupyter-widgets/base",
      "model_module_version": "1.2.0",
      "model_name": "LayoutModel",
      "state": {
       "_model_module": "@jupyter-widgets/base",
       "_model_module_version": "1.2.0",
       "_model_name": "LayoutModel",
       "_view_count": null,
       "_view_module": "@jupyter-widgets/base",
       "_view_module_version": "1.2.0",
       "_view_name": "LayoutView",
       "align_content": null,
       "align_items": null,
       "align_self": null,
       "border": null,
       "bottom": null,
       "display": null,
       "flex": null,
       "flex_flow": null,
       "grid_area": null,
       "grid_auto_columns": null,
       "grid_auto_flow": null,
       "grid_auto_rows": null,
       "grid_column": null,
       "grid_gap": null,
       "grid_row": null,
       "grid_template_areas": null,
       "grid_template_columns": null,
       "grid_template_rows": null,
       "height": null,
       "justify_content": null,
       "justify_items": null,
       "left": null,
       "margin": null,
       "max_height": null,
       "max_width": null,
       "min_height": null,
       "min_width": null,
       "object_fit": null,
       "object_position": null,
       "order": null,
       "overflow": null,
       "overflow_x": null,
       "overflow_y": null,
       "padding": null,
       "right": null,
       "top": null,
       "visibility": null,
       "width": null
      }
     },
     "75847c3a519048eb8cb6f49e68b6bbd9": {
      "model_module": "@jupyter-widgets/controls",
      "model_module_version": "1.5.0",
      "model_name": "DescriptionStyleModel",
      "state": {
       "_model_module": "@jupyter-widgets/controls",
       "_model_module_version": "1.5.0",
       "_model_name": "DescriptionStyleModel",
       "_view_count": null,
       "_view_module": "@jupyter-widgets/base",
       "_view_module_version": "1.2.0",
       "_view_name": "StyleView",
       "description_width": ""
      }
     },
     "770406d14c7a47eeaeaf1dd5e4955e1a": {
      "model_module": "@jupyter-widgets/base",
      "model_module_version": "1.2.0",
      "model_name": "LayoutModel",
      "state": {
       "_model_module": "@jupyter-widgets/base",
       "_model_module_version": "1.2.0",
       "_model_name": "LayoutModel",
       "_view_count": null,
       "_view_module": "@jupyter-widgets/base",
       "_view_module_version": "1.2.0",
       "_view_name": "LayoutView",
       "align_content": null,
       "align_items": null,
       "align_self": null,
       "border": null,
       "bottom": null,
       "display": null,
       "flex": null,
       "flex_flow": null,
       "grid_area": null,
       "grid_auto_columns": null,
       "grid_auto_flow": null,
       "grid_auto_rows": null,
       "grid_column": null,
       "grid_gap": null,
       "grid_row": null,
       "grid_template_areas": null,
       "grid_template_columns": null,
       "grid_template_rows": null,
       "height": null,
       "justify_content": null,
       "justify_items": null,
       "left": null,
       "margin": null,
       "max_height": null,
       "max_width": null,
       "min_height": null,
       "min_width": null,
       "object_fit": null,
       "object_position": null,
       "order": null,
       "overflow": null,
       "overflow_x": null,
       "overflow_y": null,
       "padding": null,
       "right": null,
       "top": null,
       "visibility": null,
       "width": null
      }
     },
     "7ac1c16431724db4a32609f0ed9a2aa1": {
      "model_module": "@jupyter-widgets/controls",
      "model_module_version": "1.5.0",
      "model_name": "HBoxModel",
      "state": {
       "_dom_classes": [],
       "_model_module": "@jupyter-widgets/controls",
       "_model_module_version": "1.5.0",
       "_model_name": "HBoxModel",
       "_view_count": null,
       "_view_module": "@jupyter-widgets/controls",
       "_view_module_version": "1.5.0",
       "_view_name": "HBoxView",
       "box_style": "",
       "children": [
        "IPY_MODEL_091053718e8f4b5eae2f5fae20cd26df",
        "IPY_MODEL_68cf2a06f99a4d76ad7713dd716df79b",
        "IPY_MODEL_16868c55ba3c4d2e912f8180e6acd7f6"
       ],
       "layout": "IPY_MODEL_f79e6a8ed6f44659a772eb0edabf0e66"
      }
     },
     "8bb8d23dc523422e80e1206b91ec02c3": {
      "model_module": "@jupyter-widgets/controls",
      "model_module_version": "1.5.0",
      "model_name": "HTMLModel",
      "state": {
       "_dom_classes": [],
       "_model_module": "@jupyter-widgets/controls",
       "_model_module_version": "1.5.0",
       "_model_name": "HTMLModel",
       "_view_count": null,
       "_view_module": "@jupyter-widgets/controls",
       "_view_module_version": "1.5.0",
       "_view_name": "HTMLView",
       "description": "",
       "description_tooltip": null,
       "layout": "IPY_MODEL_07861faf64df4a689869f629959088c3",
       "placeholder": "​",
       "style": "IPY_MODEL_8bfd864cb0174360a5760712440e34c3",
       "value": " 466k/466k [00:00&lt;00:00, 1.87MB/s]"
      }
     },
     "8bfd864cb0174360a5760712440e34c3": {
      "model_module": "@jupyter-widgets/controls",
      "model_module_version": "1.5.0",
      "model_name": "DescriptionStyleModel",
      "state": {
       "_model_module": "@jupyter-widgets/controls",
       "_model_module_version": "1.5.0",
       "_model_name": "DescriptionStyleModel",
       "_view_count": null,
       "_view_module": "@jupyter-widgets/base",
       "_view_module_version": "1.2.0",
       "_view_name": "StyleView",
       "description_width": ""
      }
     },
     "9b643647ab794e2686399491d6e543fd": {
      "model_module": "@jupyter-widgets/controls",
      "model_module_version": "1.5.0",
      "model_name": "DescriptionStyleModel",
      "state": {
       "_model_module": "@jupyter-widgets/controls",
       "_model_module_version": "1.5.0",
       "_model_name": "DescriptionStyleModel",
       "_view_count": null,
       "_view_module": "@jupyter-widgets/base",
       "_view_module_version": "1.2.0",
       "_view_name": "StyleView",
       "description_width": ""
      }
     },
     "b1ad98b0015440b29840d7a1e28712cc": {
      "model_module": "@jupyter-widgets/base",
      "model_module_version": "1.2.0",
      "model_name": "LayoutModel",
      "state": {
       "_model_module": "@jupyter-widgets/base",
       "_model_module_version": "1.2.0",
       "_model_name": "LayoutModel",
       "_view_count": null,
       "_view_module": "@jupyter-widgets/base",
       "_view_module_version": "1.2.0",
       "_view_name": "LayoutView",
       "align_content": null,
       "align_items": null,
       "align_self": null,
       "border": null,
       "bottom": null,
       "display": null,
       "flex": null,
       "flex_flow": null,
       "grid_area": null,
       "grid_auto_columns": null,
       "grid_auto_flow": null,
       "grid_auto_rows": null,
       "grid_column": null,
       "grid_gap": null,
       "grid_row": null,
       "grid_template_areas": null,
       "grid_template_columns": null,
       "grid_template_rows": null,
       "height": null,
       "justify_content": null,
       "justify_items": null,
       "left": null,
       "margin": null,
       "max_height": null,
       "max_width": null,
       "min_height": null,
       "min_width": null,
       "object_fit": null,
       "object_position": null,
       "order": null,
       "overflow": null,
       "overflow_x": null,
       "overflow_y": null,
       "padding": null,
       "right": null,
       "top": null,
       "visibility": null,
       "width": null
      }
     },
     "b29d210c302c44d2932c0596997e493a": {
      "model_module": "@jupyter-widgets/base",
      "model_module_version": "1.2.0",
      "model_name": "LayoutModel",
      "state": {
       "_model_module": "@jupyter-widgets/base",
       "_model_module_version": "1.2.0",
       "_model_name": "LayoutModel",
       "_view_count": null,
       "_view_module": "@jupyter-widgets/base",
       "_view_module_version": "1.2.0",
       "_view_name": "LayoutView",
       "align_content": null,
       "align_items": null,
       "align_self": null,
       "border": null,
       "bottom": null,
       "display": null,
       "flex": null,
       "flex_flow": null,
       "grid_area": null,
       "grid_auto_columns": null,
       "grid_auto_flow": null,
       "grid_auto_rows": null,
       "grid_column": null,
       "grid_gap": null,
       "grid_row": null,
       "grid_template_areas": null,
       "grid_template_columns": null,
       "grid_template_rows": null,
       "height": null,
       "justify_content": null,
       "justify_items": null,
       "left": null,
       "margin": null,
       "max_height": null,
       "max_width": null,
       "min_height": null,
       "min_width": null,
       "object_fit": null,
       "object_position": null,
       "order": null,
       "overflow": null,
       "overflow_x": null,
       "overflow_y": null,
       "padding": null,
       "right": null,
       "top": null,
       "visibility": null,
       "width": null
      }
     },
     "bfafb51ab66c4bc2a1f3bd93861c7996": {
      "model_module": "@jupyter-widgets/controls",
      "model_module_version": "1.5.0",
      "model_name": "ProgressStyleModel",
      "state": {
       "_model_module": "@jupyter-widgets/controls",
       "_model_module_version": "1.5.0",
       "_model_name": "ProgressStyleModel",
       "_view_count": null,
       "_view_module": "@jupyter-widgets/base",
       "_view_module_version": "1.2.0",
       "_view_name": "StyleView",
       "bar_color": null,
       "description_width": ""
      }
     },
     "c6547c6a582c45579c88d02b0edfb405": {
      "model_module": "@jupyter-widgets/controls",
      "model_module_version": "1.5.0",
      "model_name": "DescriptionStyleModel",
      "state": {
       "_model_module": "@jupyter-widgets/controls",
       "_model_module_version": "1.5.0",
       "_model_name": "DescriptionStyleModel",
       "_view_count": null,
       "_view_module": "@jupyter-widgets/base",
       "_view_module_version": "1.2.0",
       "_view_name": "StyleView",
       "description_width": ""
      }
     },
     "c8b4373d800e446a9ff5dec2c1cd1bb4": {
      "model_module": "@jupyter-widgets/controls",
      "model_module_version": "1.5.0",
      "model_name": "ProgressStyleModel",
      "state": {
       "_model_module": "@jupyter-widgets/controls",
       "_model_module_version": "1.5.0",
       "_model_name": "ProgressStyleModel",
       "_view_count": null,
       "_view_module": "@jupyter-widgets/base",
       "_view_module_version": "1.2.0",
       "_view_name": "StyleView",
       "bar_color": null,
       "description_width": ""
      }
     },
     "c8c5a9847ee940929ea4d27461698cca": {
      "model_module": "@jupyter-widgets/controls",
      "model_module_version": "1.5.0",
      "model_name": "FloatProgressModel",
      "state": {
       "_dom_classes": [],
       "_model_module": "@jupyter-widgets/controls",
       "_model_module_version": "1.5.0",
       "_model_name": "FloatProgressModel",
       "_view_count": null,
       "_view_module": "@jupyter-widgets/controls",
       "_view_module_version": "1.5.0",
       "_view_name": "ProgressView",
       "bar_style": "success",
       "description": "",
       "description_tooltip": null,
       "layout": "IPY_MODEL_252a59bceb024385bca910a3552c83f3",
       "max": 48.0,
       "min": 0.0,
       "orientation": "horizontal",
       "style": "IPY_MODEL_0f9cf689b992488d9399fbf8cb57ac9d",
       "value": 48.0
      }
     },
     "ce66ab2685c54a08b6ddf85a01933c43": {
      "model_module": "@jupyter-widgets/base",
      "model_module_version": "1.2.0",
      "model_name": "LayoutModel",
      "state": {
       "_model_module": "@jupyter-widgets/base",
       "_model_module_version": "1.2.0",
       "_model_name": "LayoutModel",
       "_view_count": null,
       "_view_module": "@jupyter-widgets/base",
       "_view_module_version": "1.2.0",
       "_view_name": "LayoutView",
       "align_content": null,
       "align_items": null,
       "align_self": null,
       "border": null,
       "bottom": null,
       "display": null,
       "flex": null,
       "flex_flow": null,
       "grid_area": null,
       "grid_auto_columns": null,
       "grid_auto_flow": null,
       "grid_auto_rows": null,
       "grid_column": null,
       "grid_gap": null,
       "grid_row": null,
       "grid_template_areas": null,
       "grid_template_columns": null,
       "grid_template_rows": null,
       "height": null,
       "justify_content": null,
       "justify_items": null,
       "left": null,
       "margin": null,
       "max_height": null,
       "max_width": null,
       "min_height": null,
       "min_width": null,
       "object_fit": null,
       "object_position": null,
       "order": null,
       "overflow": null,
       "overflow_x": null,
       "overflow_y": null,
       "padding": null,
       "right": null,
       "top": null,
       "visibility": null,
       "width": null
      }
     },
     "d11e75b011da40c49cde6cb6734dc9cb": {
      "model_module": "@jupyter-widgets/controls",
      "model_module_version": "1.5.0",
      "model_name": "ProgressStyleModel",
      "state": {
       "_model_module": "@jupyter-widgets/controls",
       "_model_module_version": "1.5.0",
       "_model_name": "ProgressStyleModel",
       "_view_count": null,
       "_view_module": "@jupyter-widgets/base",
       "_view_module_version": "1.2.0",
       "_view_name": "StyleView",
       "bar_color": null,
       "description_width": ""
      }
     },
     "d4c15590ccef49ef8b715bb66bf77682": {
      "model_module": "@jupyter-widgets/controls",
      "model_module_version": "1.5.0",
      "model_name": "FloatProgressModel",
      "state": {
       "_dom_classes": [],
       "_model_module": "@jupyter-widgets/controls",
       "_model_module_version": "1.5.0",
       "_model_name": "FloatProgressModel",
       "_view_count": null,
       "_view_module": "@jupyter-widgets/controls",
       "_view_module_version": "1.5.0",
       "_view_name": "ProgressView",
       "bar_style": "success",
       "description": "",
       "description_tooltip": null,
       "layout": "IPY_MODEL_14241bff3b3c4352b2125b5a82712c08",
       "max": 231508.0,
       "min": 0.0,
       "orientation": "horizontal",
       "style": "IPY_MODEL_bfafb51ab66c4bc2a1f3bd93861c7996",
       "value": 231508.0
      }
     },
     "d6e7bef428e74011866d6d0526e7d0ef": {
      "model_module": "@jupyter-widgets/base",
      "model_module_version": "1.2.0",
      "model_name": "LayoutModel",
      "state": {
       "_model_module": "@jupyter-widgets/base",
       "_model_module_version": "1.2.0",
       "_model_name": "LayoutModel",
       "_view_count": null,
       "_view_module": "@jupyter-widgets/base",
       "_view_module_version": "1.2.0",
       "_view_name": "LayoutView",
       "align_content": null,
       "align_items": null,
       "align_self": null,
       "border": null,
       "bottom": null,
       "display": null,
       "flex": null,
       "flex_flow": null,
       "grid_area": null,
       "grid_auto_columns": null,
       "grid_auto_flow": null,
       "grid_auto_rows": null,
       "grid_column": null,
       "grid_gap": null,
       "grid_row": null,
       "grid_template_areas": null,
       "grid_template_columns": null,
       "grid_template_rows": null,
       "height": null,
       "justify_content": null,
       "justify_items": null,
       "left": null,
       "margin": null,
       "max_height": null,
       "max_width": null,
       "min_height": null,
       "min_width": null,
       "object_fit": null,
       "object_position": null,
       "order": null,
       "overflow": null,
       "overflow_x": null,
       "overflow_y": null,
       "padding": null,
       "right": null,
       "top": null,
       "visibility": null,
       "width": null
      }
     },
     "e124ebebfbf146069db94f4ed9f29c34": {
      "model_module": "@jupyter-widgets/controls",
      "model_module_version": "1.5.0",
      "model_name": "HBoxModel",
      "state": {
       "_dom_classes": [],
       "_model_module": "@jupyter-widgets/controls",
       "_model_module_version": "1.5.0",
       "_model_name": "HBoxModel",
       "_view_count": null,
       "_view_module": "@jupyter-widgets/controls",
       "_view_module_version": "1.5.0",
       "_view_name": "HBoxView",
       "box_style": "",
       "children": [
        "IPY_MODEL_1e8beccd3f2e4e5da5d59fe38794e4fd",
        "IPY_MODEL_4fa57bff81be4adc942a65cea4dfb74f",
        "IPY_MODEL_8bb8d23dc523422e80e1206b91ec02c3"
       ],
       "layout": "IPY_MODEL_b29d210c302c44d2932c0596997e493a"
      }
     },
     "e1ba5b6857e7456e99e846f7639b9eeb": {
      "model_module": "@jupyter-widgets/base",
      "model_module_version": "1.2.0",
      "model_name": "LayoutModel",
      "state": {
       "_model_module": "@jupyter-widgets/base",
       "_model_module_version": "1.2.0",
       "_model_name": "LayoutModel",
       "_view_count": null,
       "_view_module": "@jupyter-widgets/base",
       "_view_module_version": "1.2.0",
       "_view_name": "LayoutView",
       "align_content": null,
       "align_items": null,
       "align_self": null,
       "border": null,
       "bottom": null,
       "display": null,
       "flex": null,
       "flex_flow": null,
       "grid_area": null,
       "grid_auto_columns": null,
       "grid_auto_flow": null,
       "grid_auto_rows": null,
       "grid_column": null,
       "grid_gap": null,
       "grid_row": null,
       "grid_template_areas": null,
       "grid_template_columns": null,
       "grid_template_rows": null,
       "height": null,
       "justify_content": null,
       "justify_items": null,
       "left": null,
       "margin": null,
       "max_height": null,
       "max_width": null,
       "min_height": null,
       "min_width": null,
       "object_fit": null,
       "object_position": null,
       "order": null,
       "overflow": null,
       "overflow_x": null,
       "overflow_y": null,
       "padding": null,
       "right": null,
       "top": null,
       "visibility": null,
       "width": null
      }
     },
     "e20bec48408e4b64b762e1f35924069b": {
      "model_module": "@jupyter-widgets/controls",
      "model_module_version": "1.5.0",
      "model_name": "HTMLModel",
      "state": {
       "_dom_classes": [],
       "_model_module": "@jupyter-widgets/controls",
       "_model_module_version": "1.5.0",
       "_model_name": "HTMLModel",
       "_view_count": null,
       "_view_module": "@jupyter-widgets/controls",
       "_view_module_version": "1.5.0",
       "_view_name": "HTMLView",
       "description": "",
       "description_tooltip": null,
       "layout": "IPY_MODEL_462158c5398e41c78009b031929bc19b",
       "placeholder": "​",
       "style": "IPY_MODEL_9b643647ab794e2686399491d6e543fd",
       "value": "tokenizer_config.json: 100%"
      }
     },
     "ed23fb2f663e4cfdb38548ce01d0638b": {
      "model_module": "@jupyter-widgets/controls",
      "model_module_version": "1.5.0",
      "model_name": "DescriptionStyleModel",
      "state": {
       "_model_module": "@jupyter-widgets/controls",
       "_model_module_version": "1.5.0",
       "_model_name": "DescriptionStyleModel",
       "_view_count": null,
       "_view_module": "@jupyter-widgets/base",
       "_view_module_version": "1.2.0",
       "_view_name": "StyleView",
       "description_width": ""
      }
     },
     "ef4356aba4034f4baf156fee50f97c59": {
      "model_module": "@jupyter-widgets/controls",
      "model_module_version": "1.5.0",
      "model_name": "HTMLModel",
      "state": {
       "_dom_classes": [],
       "_model_module": "@jupyter-widgets/controls",
       "_model_module_version": "1.5.0",
       "_model_name": "HTMLModel",
       "_view_count": null,
       "_view_module": "@jupyter-widgets/controls",
       "_view_module_version": "1.5.0",
       "_view_name": "HTMLView",
       "description": "",
       "description_tooltip": null,
       "layout": "IPY_MODEL_1db2358bbabe49458cfab2af880c0f90",
       "placeholder": "​",
       "style": "IPY_MODEL_c6547c6a582c45579c88d02b0edfb405",
       "value": "vocab.txt: 100%"
      }
     },
     "f0001d6494cd4ce9854b6ff0ee322937": {
      "model_module": "@jupyter-widgets/controls",
      "model_module_version": "1.5.0",
      "model_name": "FloatProgressModel",
      "state": {
       "_dom_classes": [],
       "_model_module": "@jupyter-widgets/controls",
       "_model_module_version": "1.5.0",
       "_model_name": "FloatProgressModel",
       "_view_count": null,
       "_view_module": "@jupyter-widgets/controls",
       "_view_module_version": "1.5.0",
       "_view_name": "ProgressView",
       "bar_style": "success",
       "description": "",
       "description_tooltip": null,
       "layout": "IPY_MODEL_3fe9b96cbe1147a4bf495a0af6b66248",
       "max": 570.0,
       "min": 0.0,
       "orientation": "horizontal",
       "style": "IPY_MODEL_c8b4373d800e446a9ff5dec2c1cd1bb4",
       "value": 570.0
      }
     },
     "f398cc43efab4511a35b62e49d8d5de2": {
      "model_module": "@jupyter-widgets/controls",
      "model_module_version": "1.5.0",
      "model_name": "DescriptionStyleModel",
      "state": {
       "_model_module": "@jupyter-widgets/controls",
       "_model_module_version": "1.5.0",
       "_model_name": "DescriptionStyleModel",
       "_view_count": null,
       "_view_module": "@jupyter-widgets/base",
       "_view_module_version": "1.2.0",
       "_view_name": "StyleView",
       "description_width": ""
      }
     },
     "f79e6a8ed6f44659a772eb0edabf0e66": {
      "model_module": "@jupyter-widgets/base",
      "model_module_version": "1.2.0",
      "model_name": "LayoutModel",
      "state": {
       "_model_module": "@jupyter-widgets/base",
       "_model_module_version": "1.2.0",
       "_model_name": "LayoutModel",
       "_view_count": null,
       "_view_module": "@jupyter-widgets/base",
       "_view_module_version": "1.2.0",
       "_view_name": "LayoutView",
       "align_content": null,
       "align_items": null,
       "align_self": null,
       "border": null,
       "bottom": null,
       "display": null,
       "flex": null,
       "flex_flow": null,
       "grid_area": null,
       "grid_auto_columns": null,
       "grid_auto_flow": null,
       "grid_auto_rows": null,
       "grid_column": null,
       "grid_gap": null,
       "grid_row": null,
       "grid_template_areas": null,
       "grid_template_columns": null,
       "grid_template_rows": null,
       "height": null,
       "justify_content": null,
       "justify_items": null,
       "left": null,
       "margin": null,
       "max_height": null,
       "max_width": null,
       "min_height": null,
       "min_width": null,
       "object_fit": null,
       "object_position": null,
       "order": null,
       "overflow": null,
       "overflow_x": null,
       "overflow_y": null,
       "padding": null,
       "right": null,
       "top": null,
       "visibility": null,
       "width": null
      }
     },
     "f88296e0c26841d4873e59ab45539ee0": {
      "model_module": "@jupyter-widgets/base",
      "model_module_version": "1.2.0",
      "model_name": "LayoutModel",
      "state": {
       "_model_module": "@jupyter-widgets/base",
       "_model_module_version": "1.2.0",
       "_model_name": "LayoutModel",
       "_view_count": null,
       "_view_module": "@jupyter-widgets/base",
       "_view_module_version": "1.2.0",
       "_view_name": "LayoutView",
       "align_content": null,
       "align_items": null,
       "align_self": null,
       "border": null,
       "bottom": null,
       "display": null,
       "flex": null,
       "flex_flow": null,
       "grid_area": null,
       "grid_auto_columns": null,
       "grid_auto_flow": null,
       "grid_auto_rows": null,
       "grid_column": null,
       "grid_gap": null,
       "grid_row": null,
       "grid_template_areas": null,
       "grid_template_columns": null,
       "grid_template_rows": null,
       "height": null,
       "justify_content": null,
       "justify_items": null,
       "left": null,
       "margin": null,
       "max_height": null,
       "max_width": null,
       "min_height": null,
       "min_width": null,
       "object_fit": null,
       "object_position": null,
       "order": null,
       "overflow": null,
       "overflow_x": null,
       "overflow_y": null,
       "padding": null,
       "right": null,
       "top": null,
       "visibility": null,
       "width": null
      }
     },
     "f89b3eb862344e2e84bbc62016cafca3": {
      "model_module": "@jupyter-widgets/controls",
      "model_module_version": "1.5.0",
      "model_name": "HTMLModel",
      "state": {
       "_dom_classes": [],
       "_model_module": "@jupyter-widgets/controls",
       "_model_module_version": "1.5.0",
       "_model_name": "HTMLModel",
       "_view_count": null,
       "_view_module": "@jupyter-widgets/controls",
       "_view_module_version": "1.5.0",
       "_view_name": "HTMLView",
       "description": "",
       "description_tooltip": null,
       "layout": "IPY_MODEL_d6e7bef428e74011866d6d0526e7d0ef",
       "placeholder": "​",
       "style": "IPY_MODEL_ed23fb2f663e4cfdb38548ce01d0638b",
       "value": "config.json: 100%"
      }
     }
    },
    "version_major": 2,
    "version_minor": 0
   }
  }
 },
 "nbformat": 4,
 "nbformat_minor": 5
}
